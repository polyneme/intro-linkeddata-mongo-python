{
 "cells": [
  {
   "cell_type": "markdown",
   "id": "dfd7c0f8",
   "metadata": {},
   "source": [
    "Goal: reach desired course end state via meandering Jupyter notebook narrative"
   ]
  },
  {
   "cell_type": "markdown",
   "id": "85f66876",
   "metadata": {},
   "source": [
    "Desired end state: [JSON Lines](https://jsonlines.org/) file of [JSON-LD](https://json-ld.org/) objects that represents all or a portial of the Nobel Prize dataset such that a compenency question can be answered efficiently with MongoDB.\n",
    "\n",
    "For the MongoDB part, perhaps use `jq` to filter JSON Lines by `rdf:type` in order to `mongoimport` to the appropriate Mongo collections. Or use Python for this."
   ]
  },
  {
   "cell_type": "markdown",
   "id": "886c9477",
   "metadata": {},
   "source": [
    "# i. Fetch Nobel Prize data as SPARQL JSON response"
   ]
  },
  {
   "cell_type": "markdown",
   "id": "b65e15c1",
   "metadata": {},
   "source": [
    "1. Go to <https://data.nobelprize.org/sparql>.\n",
    "2. Enter this query:\n",
    "    ```sparql\n",
    "    PREFIX nobel: <http://data.nobelprize.org/terms/>\n",
    "    PREFIX rdf: <http://www.w3.org/1999/02/22-rdf-syntax-ns#>\n",
    "    PREFIX rdfs: <http://www.w3.org/2000/01/rdf-schema#>\n",
    "    \n",
    "    SELECT ?s ?p ?o WHERE {\n",
    "      ?s ?p ?o .\n",
    "    }\n",
    "    ```\n",
    "3. Click \"Response\" results view (default may be \"Table\")\n",
    "4. Click \"Download result\"\n",
    "5. `gzip` result (~30x compression from ~30MB to ~1MB)."
   ]
  },
  {
   "cell_type": "code",
   "execution_count": null,
   "id": "32e026e1",
   "metadata": {},
   "outputs": [],
   "source": [
    "!du -h data/00-raw-sparql-response.json.gz"
   ]
  },
  {
   "cell_type": "markdown",
   "id": "4cb62eab",
   "metadata": {},
   "source": [
    "# ii. Load JSON response as list of statements and serialize as RDF"
   ]
  },
  {
   "cell_type": "markdown",
   "id": "972cddcf",
   "metadata": {},
   "source": [
    "1. into memory as Python dict\n",
    "2. map to list of statements\n",
    "3. load into RDFLib and save as RDF"
   ]
  },
  {
   "cell_type": "code",
   "execution_count": null,
   "id": "e5ae325b",
   "metadata": {},
   "outputs": [],
   "source": [
    "import gzip\n",
    "import json\n",
    "\n",
    "with gzip.open(\"data/00-raw-sparql-response.json.gz\") as f:\n",
    "    response = json.loads(f.read())"
   ]
  },
  {
   "cell_type": "code",
   "execution_count": null,
   "id": "cec4baa0",
   "metadata": {},
   "outputs": [],
   "source": [
    "statements = []\n",
    "for binding in response[\"results\"][\"bindings\"]:\n",
    "    statements.append((binding[\"s\"], binding[\"p\"], binding[\"o\"]))"
   ]
  },
  {
   "cell_type": "code",
   "execution_count": null,
   "id": "56589ae3",
   "metadata": {},
   "outputs": [],
   "source": [
    "from rdflib import Graph, URIRef, Literal, BNode, Namespace\n",
    "\n",
    "g = Graph()\n",
    "for statement in statements:\n",
    "    s, p, o = statement\n",
    "    if s[\"type\"] not in (\"uri\", \"bnode\"):\n",
    "        raise ValueError(\"subs must be uris or bnodes\")\n",
    "    if p[\"type\"] != \"uri\":\n",
    "        raise ValueError(\"preds must be uris\")\n",
    "    if o[\"type\"] not in (\"uri\", \"bnode\", \"literal\"):\n",
    "        raise ValueError(\"objs must be uris or bnodes or literals\")\n",
    "    if o[\"type\"] == \"literal\" and len(set(o) - {\"type\", \"value\", \"datatype\", \"xml:lang\"}):\n",
    "        raise ValueError(\"literal objs can only have datatype and xml:lang apart from value\")\n",
    "        \n",
    "    s = URIRef(s[\"value\"]) if s[\"type\"] == \"uri\" else BNode(s[\"value\"])\n",
    "    p = URIRef(p[\"value\"])\n",
    "    if o[\"type\"] == \"uri\":\n",
    "        o = URIRef(o[\"value\"])\n",
    "    elif o[\"type\"] == \"bnode\":\n",
    "        o = BNode(o[\"value\"])\n",
    "    else:  # o[\"type\"] == \"literal\"\n",
    "        o = Literal(o[\"value\"], lang=o.get(\"xml:lang\"), datatype=o.get(\"datatype\"))\n",
    "    \n",
    "    g.add((s, p, o))"
   ]
  },
  {
   "cell_type": "code",
   "execution_count": null,
   "id": "32f57aa7",
   "metadata": {},
   "outputs": [],
   "source": [
    "g.serialize(\"data/01-nobelprize-data.nt\", format=\"nt\")\n",
    "!gzip -f data/01-nobelprize-data.nt\n",
    "!du -h data/01-nobelprize-data.nt.gz"
   ]
  },
  {
   "cell_type": "markdown",
   "id": "581ba9c7",
   "metadata": {},
   "source": [
    "# 1. representing facts: RDF\n",
    "\n",
    "Load into RDF graph using rdflib"
   ]
  },
  {
   "cell_type": "code",
   "execution_count": null,
   "id": "a111c39b",
   "metadata": {},
   "outputs": [],
   "source": [
    "import gzip\n",
    "\n",
    "from toolz import take\n",
    "\n",
    "with gzip.open(\"data/01-nobelprize-data.nt.gz\", \"rt\") as f:\n",
    "    for line in take(100, f):\n",
    "        print(line)"
   ]
  },
  {
   "cell_type": "code",
   "execution_count": null,
   "id": "a89d65e4",
   "metadata": {},
   "outputs": [],
   "source": [
    "from rdflib import Graph\n",
    "\n",
    "g = Graph()\n",
    "\n",
    "with gzip.open(\"data/01-nobelprize-data.nt.gz\") as f:\n",
    "    g.parse(f.read())"
   ]
  },
  {
   "cell_type": "code",
   "execution_count": null,
   "id": "8c9dc7a1",
   "metadata": {},
   "outputs": [],
   "source": [
    "for s, p, o in take(5, g):\n",
    "    print(s, p, o)"
   ]
  },
  {
   "cell_type": "code",
   "execution_count": null,
   "id": "492cb4d0",
   "metadata": {},
   "outputs": [],
   "source": [
    "list(g.namespaces())"
   ]
  },
  {
   "cell_type": "code",
   "execution_count": null,
   "id": "9a001729",
   "metadata": {},
   "outputs": [],
   "source": [
    "for s, p, o in take(5, g):\n",
    "    print(s, p.n3(g.namespace_manager), o.n3(g.namespace_manager))"
   ]
  },
  {
   "cell_type": "code",
   "execution_count": null,
   "id": "00063151",
   "metadata": {},
   "outputs": [],
   "source": [
    "def pprint_terms(terms, graph=g):\n",
    "    print(*[t.n3(graph.namespace_manager) for t in terms])"
   ]
  },
  {
   "cell_type": "code",
   "execution_count": null,
   "id": "e1af51ce",
   "metadata": {},
   "outputs": [],
   "source": [
    "from rdflib import Namespace\n",
    "from rdflib.namespace import RDF\n",
    "from toolz import take\n",
    "\n",
    "NOBEL = Namespace(\"http://data.nobelprize.org/terms/\")\n",
    "g.namespace_manager.bind(\"nobel\", NOBEL)\n",
    "\n",
    "for s, p, o in take(5, g.triples((None, RDF.type, NOBEL.Laureate))):\n",
    "    pprint_terms([s, p, o], g)"
   ]
  },
  {
   "cell_type": "code",
   "execution_count": null,
   "id": "fbafcac2",
   "metadata": {},
   "outputs": [],
   "source": [
    "for s, p, o in g.triples((NOBEL.Laureate, None, None)):\n",
    "    pprint_terms([s, p, o], g)"
   ]
  },
  {
   "cell_type": "code",
   "execution_count": null,
   "id": "77adc0ef",
   "metadata": {},
   "outputs": [],
   "source": [
    "print(NOBEL.Laureate)"
   ]
  },
  {
   "cell_type": "code",
   "execution_count": null,
   "id": "cae52f0e",
   "metadata": {},
   "outputs": [],
   "source": [
    "g.parse(NOBEL.Laureate)"
   ]
  },
  {
   "cell_type": "code",
   "execution_count": null,
   "id": "854904e9",
   "metadata": {},
   "outputs": [],
   "source": [
    "for s, p, o in g.triples((NOBEL.Laureate, None, None)):\n",
    "    pprint_terms([s, p, o], g)"
   ]
  },
  {
   "cell_type": "code",
   "execution_count": null,
   "id": "8df24d8c",
   "metadata": {},
   "outputs": [],
   "source": [
    "from rdflib.namespace import FOAF\n",
    "\n",
    "g.namespace_manager.bind(\"foaf\", FOAF)"
   ]
  },
  {
   "cell_type": "code",
   "execution_count": null,
   "id": "28947a48",
   "metadata": {},
   "outputs": [],
   "source": [
    "for s, p, o in g.triples((NOBEL.Laureate, None, None)):\n",
    "    pprint_terms([s, p, o], g)"
   ]
  },
  {
   "cell_type": "code",
   "execution_count": null,
   "id": "2b36799c",
   "metadata": {},
   "outputs": [],
   "source": [
    "from rdflib.namespace import OWL\n",
    "\n",
    "for s, p, o in g.triples((OWL.Class, None, None)):\n",
    "    pprint_terms([s, p, o], g)"
   ]
  },
  {
   "cell_type": "code",
   "execution_count": null,
   "id": "c87e0799",
   "metadata": {},
   "outputs": [],
   "source": [
    "print(OWL.Class)"
   ]
  },
  {
   "cell_type": "code",
   "execution_count": null,
   "id": "b9a3a334",
   "metadata": {},
   "outputs": [],
   "source": [
    "g.parse(OWL.Class)"
   ]
  },
  {
   "cell_type": "code",
   "execution_count": null,
   "id": "d3c0aa2b",
   "metadata": {},
   "outputs": [],
   "source": [
    "from rdflib.namespace import OWL\n",
    "\n",
    "for s, p, o in g.triples((OWL.Class, None, None)):\n",
    "    pprint_terms([s, p, o], g)"
   ]
  },
  {
   "cell_type": "code",
   "execution_count": null,
   "id": "be86b1a8",
   "metadata": {},
   "outputs": [],
   "source": [
    "from rdflib.namespace import OWL\n",
    "\n",
    "for s, p, o in g.triples((FOAF.Agent, None, None)):\n",
    "    pprint_terms([s, p, o], g)"
   ]
  },
  {
   "cell_type": "code",
   "execution_count": null,
   "id": "efdfe867",
   "metadata": {},
   "outputs": [],
   "source": [
    "print(FOAF.Agent)"
   ]
  },
  {
   "cell_type": "code",
   "execution_count": null,
   "id": "cf74c442",
   "metadata": {},
   "outputs": [],
   "source": [
    "# g.parse(FOAF.Agent)\n",
    "g.parse(\"data/foaf.ttl\")"
   ]
  },
  {
   "cell_type": "code",
   "execution_count": null,
   "id": "614c9c33",
   "metadata": {},
   "outputs": [],
   "source": [
    "from rdflib.namespace import OWL\n",
    "\n",
    "for s, p, o in g.triples((FOAF.Agent, None, None)):\n",
    "    pprint_terms([s, p, o], g)"
   ]
  },
  {
   "cell_type": "code",
   "execution_count": null,
   "id": "a87e7901",
   "metadata": {},
   "outputs": [],
   "source": [
    "list(g.namespaces())"
   ]
  },
  {
   "cell_type": "markdown",
   "id": "b31c1f21",
   "metadata": {},
   "source": [
    "# 2. representing terminology: RDFS and OWL"
   ]
  },
  {
   "cell_type": "code",
   "execution_count": null,
   "id": "b6ec0976",
   "metadata": {},
   "outputs": [],
   "source": [
    "def term_in_ns(term, ns):\n",
    "    return str(subj).startswith(str(ns))"
   ]
  },
  {
   "cell_type": "code",
   "execution_count": null,
   "id": "836c1f80",
   "metadata": {},
   "outputs": [],
   "source": [
    "from rdflib.namespace import OWL\n",
    "\n",
    "for subj, pred, obj in g:\n",
    "    if term_in_ns(subj, NOBEL):\n",
    "        pprint_terms([subj, pred, obj], g)"
   ]
  },
  {
   "cell_type": "code",
   "execution_count": null,
   "id": "fd467149",
   "metadata": {},
   "outputs": [],
   "source": [
    "from rdflib.namespace import OWL\n",
    "\n",
    "datatype_properties = []\n",
    "\n",
    "for subj, pred, obj in g.triples((None, RDF.type, OWL.DatatypeProperty)):\n",
    "    if term_in_ns(subj, NOBEL):\n",
    "        pprint_terms([subj, pred, obj], g)\n",
    "        datatype_properties.append(subj)"
   ]
  },
  {
   "cell_type": "code",
   "execution_count": null,
   "id": "53ab3e83",
   "metadata": {},
   "outputs": [],
   "source": [
    "for prop in datatype_properties:\n",
    "    for pred, obj in g.predicate_objects(prop):\n",
    "        pprint_terms([prop, pred, obj], g)\n",
    "    print()"
   ]
  },
  {
   "cell_type": "code",
   "execution_count": null,
   "id": "9381cef4",
   "metadata": {},
   "outputs": [],
   "source": [
    "from rdflib.namespace import OWL\n",
    "\n",
    "object_properties = []\n",
    "\n",
    "for subj, pred, obj in g.triples((None, RDF.type, OWL.ObjectProperty)):\n",
    "    if term_in_ns(subj, NOBEL):\n",
    "        pprint_terms([subj, pred, obj], g)\n",
    "        object_properties.append(subj)"
   ]
  },
  {
   "cell_type": "code",
   "execution_count": null,
   "id": "37631f0c",
   "metadata": {},
   "outputs": [],
   "source": [
    "for prop in object_properties:\n",
    "    for pred, obj in g.predicate_objects(prop):\n",
    "        pprint_terms([prop, pred, obj], g)\n",
    "    print()"
   ]
  },
  {
   "cell_type": "code",
   "execution_count": null,
   "id": "be4c8d99",
   "metadata": {},
   "outputs": [],
   "source": [
    "from rdflib.namespace import OWL\n",
    "\n",
    "classes = []\n",
    "\n",
    "for subj, pred, obj in g.triples((None, RDF.type, OWL.Class)):\n",
    "    if term_in_ns(subj, NOBEL):\n",
    "        pprint_terms([subj, pred, obj], g)\n",
    "        classes.append(subj)"
   ]
  },
  {
   "cell_type": "code",
   "execution_count": null,
   "id": "85e37af4",
   "metadata": {},
   "outputs": [],
   "source": [
    "for cls in classes:\n",
    "    for pred, obj in g.predicate_objects(cls):\n",
    "        pprint_terms([cls, pred, obj], g)\n",
    "    print()"
   ]
  },
  {
   "cell_type": "code",
   "execution_count": null,
   "id": "f1164ec3",
   "metadata": {},
   "outputs": [],
   "source": [
    "categories = next(g.objects(NOBEL.Category, OWL.oneOf))"
   ]
  },
  {
   "cell_type": "code",
   "execution_count": null,
   "id": "16ad8c6c",
   "metadata": {},
   "outputs": [],
   "source": [
    "from rdflib.term import BNode\n",
    "\n",
    "for p, o in g.predicate_objects(categories):\n",
    "    pprint_terms([p,o], g)"
   ]
  },
  {
   "cell_type": "code",
   "execution_count": null,
   "id": "762c3814",
   "metadata": {},
   "outputs": [],
   "source": [
    "for p, o in g.predicate_objects(OWL.oneOf):\n",
    "    pprint_terms([p,o], g)"
   ]
  },
  {
   "cell_type": "code",
   "execution_count": null,
   "id": "045472e2",
   "metadata": {},
   "outputs": [],
   "source": [
    "g.parse(OWL.oneOf)"
   ]
  },
  {
   "cell_type": "code",
   "execution_count": null,
   "id": "454058d5",
   "metadata": {},
   "outputs": [],
   "source": [
    "for p, o in g.predicate_objects(OWL.oneOf):\n",
    "    pprint_terms([p,o], g)"
   ]
  },
  {
   "cell_type": "code",
   "execution_count": null,
   "id": "3703798a",
   "metadata": {},
   "outputs": [],
   "source": [
    "g.serialize(\"data/02-nobelprize-data-enriched.nt\", format=\"nt\")\n",
    "!gzip -f data/02-nobelprize-data-enriched.nt\n",
    "!du -h data/02-nobelprize-data-enriched.nt.gz"
   ]
  },
  {
   "cell_type": "markdown",
   "id": "74227f7b",
   "metadata": {},
   "source": [
    "# 3. knowledge graph search: SPARQL"
   ]
  },
  {
   "cell_type": "markdown",
   "id": "90ecc5c5",
   "metadata": {},
   "source": [
    "What information is there for laureates?"
   ]
  },
  {
   "cell_type": "code",
   "execution_count": null,
   "id": "9d332a9f",
   "metadata": {},
   "outputs": [],
   "source": [
    "import gzip\n",
    "\n",
    "from rdflib import Graph\n",
    "\n",
    "g = Graph()\n",
    "\n",
    "with gzip.open(\"data/02-nobelprize-data-enriched.nt.gz\") as f:\n",
    "    g.parse(f.read())"
   ]
  },
  {
   "cell_type": "code",
   "execution_count": null,
   "id": "5cc88539",
   "metadata": {},
   "outputs": [],
   "source": [
    "from rdflib.plugins.sparql import prepareQuery\n",
    "\n",
    "q = prepareQuery(\"\"\"\n",
    "    SELECT ?s ?p ?o WHERE {\n",
    "        ?s a nobel:Laureate .\n",
    "        ?s ?p ?o .\n",
    "    }\n",
    "\"\"\", initNs={\"nobel\": NOBEL})"
   ]
  },
  {
   "cell_type": "code",
   "execution_count": null,
   "id": "052d2e40",
   "metadata": {},
   "outputs": [],
   "source": [
    "for row in take(100, g.query(q)):\n",
    "    pprint_terms(row, g)"
   ]
  },
  {
   "cell_type": "code",
   "execution_count": null,
   "id": "8fb36b66",
   "metadata": {},
   "outputs": [],
   "source": [
    "DBO = Namespace(\"http://dbpedia.org/ontology/\")"
   ]
  },
  {
   "cell_type": "code",
   "execution_count": null,
   "id": "4ac286c3",
   "metadata": {},
   "outputs": [],
   "source": [
    "def prepQ(q: str):\n",
    "    return prepareQuery(q, initNs={\"nobel\": NOBEL, \"dbo\": DBO})"
   ]
  },
  {
   "cell_type": "code",
   "execution_count": null,
   "id": "bacb4dca",
   "metadata": {},
   "outputs": [],
   "source": [
    "g.namespace_manager.bind(\"laureate\", Namespace(\"http://data.nobelprize.org/resource/laureate/\"))\n",
    "g.namespace_manager.bind(\"country\", Namespace(\"http://data.nobelprize.org/resource/country/\"))\n",
    "g.namespace_manager.bind(\"city\", Namespace(\"http://data.nobelprize.org/resource/city/\"))\n",
    "g.namespace_manager.bind(\"university\", Namespace(\"http://data.nobelprize.org/resource/university/\"))\n",
    "g.namespace_manager.bind(\"dpb\", Namespace(\"http://dbpedia.org/property/\"))\n",
    "g.namespace_manager.bind(\"dbo\", DBO)\n",
    "g.namespace_manager.bind(\"nobel\", NOBEL)\n",
    "g.namespace_manager.bind(\"foaf\", FOAF)"
   ]
  },
  {
   "cell_type": "markdown",
   "id": "1ecc17ba",
   "metadata": {},
   "source": [
    "What fraction of laureates are affiliated with an institution in a country that is not their country of birth?"
   ]
  },
  {
   "cell_type": "code",
   "execution_count": null,
   "id": "250c32b7",
   "metadata": {},
   "outputs": [],
   "source": [
    "q = prepQ(\"\"\"\n",
    "    SELECT (COUNT(?laureate) as ?nlaureates) WHERE {\n",
    "        ?laureate a nobel:Laureate .\n",
    "        \n",
    "        ?laureate dbo:birthPlace ?bcountry .\n",
    "        ?bcountry a dbo:Country .\n",
    "    }\n",
    "\"\"\")\n",
    "\n",
    "for row in g.query(q):\n",
    "    pprint_terms(row, g)"
   ]
  },
  {
   "cell_type": "code",
   "execution_count": null,
   "id": "c3c49f40",
   "metadata": {},
   "outputs": [],
   "source": [
    "q = prepQ(\"\"\"\n",
    "    SELECT (COUNT(?laureate) as ?nlaureates) WHERE {\n",
    "        ?laureate a nobel:Laureate .\n",
    "        \n",
    "        ?laureate dbo:affiliation ?institution .\n",
    "        ?institution dbo:country ?icountry .\n",
    "        ?icountry a dbo:Country .\n",
    "    }\n",
    "\"\"\")\n",
    "\n",
    "for row in g.query(q):\n",
    "    pprint_terms(row, g)"
   ]
  },
  {
   "cell_type": "code",
   "execution_count": null,
   "id": "481b8543",
   "metadata": {},
   "outputs": [],
   "source": [
    "q = prepQ(\"\"\"\n",
    "    SELECT (COUNT(?laureate) as ?nlaureates) WHERE {\n",
    "        ?laureate a nobel:Laureate .\n",
    "\n",
    "        ?laureate dbo:birthPlace ?bcountry .\n",
    "        ?bcountry a dbo:Country .\n",
    "        \n",
    "        ?laureate dbo:affiliation ?institution .\n",
    "        ?institution dbo:country ?icountry .\n",
    "    }\n",
    "\"\"\")\n",
    "\n",
    "for row in g.query(q):\n",
    "    pprint_terms(row, g)\n"
   ]
  },
  {
   "cell_type": "code",
   "execution_count": null,
   "id": "6ef55734",
   "metadata": {},
   "outputs": [],
   "source": [
    "q = prepQ(\"\"\"\n",
    "    SELECT (COUNT(?laureate) as ?nlaureates) WHERE {\n",
    "        ?laureate a nobel:Laureate .\n",
    "\n",
    "        ?laureate dbo:birthPlace ?bcountry .\n",
    "        ?bcountry a dbo:Country .\n",
    "        \n",
    "        ?laureate dbo:affiliation ?institution .\n",
    "        ?institution dbo:country ?icountry .\n",
    "        \n",
    "        FILTER(sameTerm(?bcountry,?icountry))\n",
    "    }\n",
    "\"\"\")\n",
    "\n",
    "for row in g.query(q):\n",
    "    pprint_terms(row, g)"
   ]
  },
  {
   "cell_type": "code",
   "execution_count": null,
   "id": "2e6e0b6d",
   "metadata": {},
   "outputs": [],
   "source": [
    "q = prepQ(\"\"\"\n",
    "    SELECT (COUNT(?laureate) as ?nlaureates) WHERE {\n",
    "        ?laureate a nobel:Laureate .\n",
    "\n",
    "        ?laureate dbo:birthPlace ?bcountry .\n",
    "        ?bcountry a dbo:Country .\n",
    "        \n",
    "        ?laureate dbo:affiliation ?institution .\n",
    "        ?institution dbo:country ?icountry .\n",
    "        \n",
    "        FILTER(!sameTerm(?bcountry,?icountry))\n",
    "    }\n",
    "\"\"\")\n",
    "\n",
    "for row in g.query(q):\n",
    "    pprint_terms(row, g)"
   ]
  },
  {
   "cell_type": "code",
   "execution_count": null,
   "id": "ca43f370",
   "metadata": {},
   "outputs": [],
   "source": [
    "525 + 364 == 889"
   ]
  },
  {
   "cell_type": "code",
   "execution_count": null,
   "id": "ec0e3e58",
   "metadata": {},
   "outputs": [],
   "source": [
    "def as_pct(numer, denom):\n",
    "    return f\"{numer/denom:.1%}\"\n",
    "\n",
    "as_pct(364, 889)"
   ]
  },
  {
   "cell_type": "code",
   "execution_count": null,
   "id": "4ac24e06",
   "metadata": {},
   "outputs": [],
   "source": [
    "print(f\"\"\"\n",
    "    PREFIX nobel: <{NOBEL}>\n",
    "    PREFIX dbo: <{DBO}>\n",
    "    \n",
    "    SELECT (COUNT(?laureate) as ?nlaureates) ?icountry ?bcountry WHERE {{\n",
    "        ?laureate a nobel:Laureate .\n",
    "\n",
    "        ?laureate dbo:birthPlace ?bcountry .\n",
    "        ?bcountry a dbo:Country .\n",
    "        \n",
    "        ?laureate dbo:affiliation ?institution .\n",
    "        ?institution dbo:country ?icountry .\n",
    "        \n",
    "        FILTER(!sameTerm(?bcountry,?icountry))\n",
    "    }}\n",
    "    GROUP BY ?icountry ?bcountry\n",
    "    ORDER BY DESC(?nlaureates)\n",
    "    LIMIT 5\n",
    "\"\"\")"
   ]
  },
  {
   "cell_type": "code",
   "execution_count": null,
   "id": "b0e4bdf2",
   "metadata": {},
   "outputs": [],
   "source": [
    "q = prepareQuery(f\"\"\"\n",
    "    PREFIX nobel: <{NOBEL}>\n",
    "    PREFIX dbo: <{DBO}>\n",
    "    \n",
    "    SELECT (COUNT(?laureate) as ?nlaureates) ?icountry ?bcountry WHERE {{\n",
    "        ?laureate a nobel:Laureate .\n",
    "\n",
    "        ?laureate dbo:birthPlace ?bcountry .\n",
    "        ?bcountry a dbo:Country .\n",
    "        \n",
    "        ?laureate dbo:affiliation ?institution .\n",
    "        ?institution dbo:country ?icountry .\n",
    "        \n",
    "        FILTER(!sameTerm(?bcountry,?icountry))\n",
    "    }}\n",
    "    GROUP BY ?icountry ?bcountry\n",
    "    ORDER BY DESC(?nlaureates)\n",
    "    LIMIT 5\n",
    "\"\"\")\n",
    "\n",
    "for row in g.query(q):\n",
    "    pprint_terms(row, g)"
   ]
  },
  {
   "cell_type": "markdown",
   "id": "fa6652ac",
   "metadata": {},
   "source": [
    "# 4.  Representing entities: collections and JSON documents"
   ]
  },
  {
   "cell_type": "markdown",
   "id": "ee46d243",
   "metadata": {},
   "source": [
    "make collections for\n",
    "- nobel:NobelPrize\n",
    "- nobel:LaureateAward\n",
    "- nobel:Laureate\n",
    "- nobel:Category\n",
    "- Institutions (objects of dbo:affiliation triples)\n",
    "- Countries (objects of dbo:country triples)"
   ]
  },
  {
   "cell_type": "code",
   "execution_count": null,
   "id": "b06f99ca",
   "metadata": {},
   "outputs": [],
   "source": [
    "from collections import defaultdict\n",
    "\n",
    "class_collection = {\n",
    "    \"nobel:NobelPrize\": \"nobel_prizes\",\n",
    "    \"nobel:LaureateAward\": \"laureate_awards\",\n",
    "    \"nobel:Laureate\": \"laureates\",\n",
    "    \"nobel:Category\": \"categories\",\n",
    "}\n",
    "\n",
    "database = defaultdict(lambda: defaultdict(dict))\n",
    "\n",
    "for cls, collection in class_collection.items():\n",
    "    q = prepareQuery(f\"\"\"\n",
    "        SELECT ?sub ?pred ?obj WHERE {{\n",
    "            ?sub a {cls} .\n",
    "            ?sub ?pred ?obj\n",
    "        }}\n",
    "    \"\"\", initNs={\"nobel\": NOBEL})\n",
    "\n",
    "    for row in g.query(q):\n",
    "        sub, pred, obj = row\n",
    "        database[collection][sub][pred] = obj"
   ]
  },
  {
   "cell_type": "code",
   "execution_count": null,
   "id": "36be670d",
   "metadata": {},
   "outputs": [],
   "source": [
    "q = prepareQuery(\"\"\"\n",
    "    SELECT ?institution ?pred ?obj WHERE {\n",
    "        ?sub dbo:affiliation  ?institution .\n",
    "        ?institution ?pred ?obj\n",
    "    }\n",
    "\"\"\", initNs={\"nobel\": NOBEL, \"dbo\": DBO})\n",
    "\n",
    "for row in g.query(q):\n",
    "    sub, pred, obj = row\n",
    "    database[\"institutions\"][sub][pred] = obj"
   ]
  },
  {
   "cell_type": "code",
   "execution_count": null,
   "id": "5eb7d2fc",
   "metadata": {},
   "outputs": [],
   "source": [
    "individual_countries = set()\n",
    "\n",
    "q = prepareQuery(\"\"\"\n",
    "    SELECT DISTINCT ?country WHERE {\n",
    "        ?sub dbo:country  ?country .\n",
    "    }\n",
    "\"\"\", initNs={\"nobel\": NOBEL, \"dbo\": DBO})\n",
    "\n",
    "for row in g.query(q):\n",
    "    individual_countries.add(str(row[0]))\n",
    "\n",
    "q = prepareQuery(\"\"\"\n",
    "    SELECT DISTINCT ?bcountry WHERE {\n",
    "        ?laureate dbo:birthPlace ?bcountry .\n",
    "        ?bcountry a dbo:Country .\n",
    "    }\n",
    "\"\"\", initNs={\"nobel\": NOBEL, \"dbo\": DBO})\n",
    "\n",
    "for row in g.query(q):\n",
    "    individual_countries.add(str(row[0]))\n",
    "\n",
    "for country in sorted(individual_countries):\n",
    "    q = prepareQuery(f\"\"\"\n",
    "        SELECT ?country ?pred ?obj WHERE {{\n",
    "            BIND (<{country}> as ?country) .\n",
    "            ?country ?pred ?obj .\n",
    "        }}\n",
    "    \"\"\", initNs={\"nobel\": NOBEL, \"dbo\": DBO})\n",
    "\n",
    "    for row in g.query(q):\n",
    "        sub, pred, obj = row\n",
    "        database[\"countries\"][sub][pred] = obj"
   ]
  },
  {
   "cell_type": "code",
   "execution_count": null,
   "id": "7d49579c",
   "metadata": {},
   "outputs": [],
   "source": [
    "from json.encoder import (_make_iterencode, JSONEncoder,\n",
    "                          encode_basestring_ascii, INFINITY,\n",
    "                          encode_basestring)\n",
    "\n",
    "class CustomObjectEncoder(JSONEncoder):\n",
    "\n",
    "    def iterencode(self, o, _one_shot=False):\n",
    "        \"\"\"Encode the given object and yield each string\n",
    "        representation as available.\n",
    "\n",
    "        For example::\n",
    "\n",
    "            for chunk in JSONEncoder().iterencode(bigobject):\n",
    "                mysocket.write(chunk)\n",
    "                \n",
    "        Change from json.encoder.JSONEncoder.iterencode is setting\n",
    "        _one_shot=False and isinstance=self.isinstance\n",
    "        in call to `_make_iterencode`.\n",
    "        And not using `c_make_encoder`.\n",
    "\n",
    "        \"\"\"\n",
    "        if self.check_circular:\n",
    "            markers = {}\n",
    "        else:\n",
    "            markers = None\n",
    "        if self.ensure_ascii:\n",
    "            _encoder = encode_basestring_ascii\n",
    "        else:\n",
    "            _encoder = encode_basestring\n",
    "\n",
    "        def floatstr(o, allow_nan=self.allow_nan,\n",
    "                _repr=float.__repr__, _inf=INFINITY, _neginf=-INFINITY):\n",
    "            # Check for specials.  Note that this type of test is processor\n",
    "            # and/or platform-specific, so do tests which don't depend on the\n",
    "            # internals.\n",
    "\n",
    "            if o != o:\n",
    "                text = 'NaN'\n",
    "            elif o == _inf:\n",
    "                text = 'Infinity'\n",
    "            elif o == _neginf:\n",
    "                text = '-Infinity'\n",
    "            else:\n",
    "                return _repr(o)\n",
    "\n",
    "            if not allow_nan:\n",
    "                raise ValueError(\n",
    "                    \"Out of range float values are not JSON compliant: \" +\n",
    "                    repr(o))\n",
    "\n",
    "            return text\n",
    "\n",
    "        _iterencode = _make_iterencode(\n",
    "                markers, self.default, _encoder, self.indent, floatstr,\n",
    "                self.key_separator, self.item_separator, self.sort_keys,\n",
    "                self.skipkeys, _one_shot=False, isinstance=self.isinstance)\n",
    "        return _iterencode(o, 0)"
   ]
  },
  {
   "cell_type": "code",
   "execution_count": null,
   "id": "a83aa2e4",
   "metadata": {},
   "outputs": [],
   "source": [
    "import datetime\n",
    "\n",
    "from rdflib.term import Literal, BNode\n",
    "\n",
    "class RDFTermEncoder(CustomObjectEncoder):\n",
    "    def isinstance(self, o, cls):\n",
    "        if isinstance(o, (Literal, BNode)):\n",
    "            return False\n",
    "        return isinstance(o, cls)\n",
    "    def default(self, o):\n",
    "        if isinstance(o, Literal):\n",
    "            rv = {\"value\": o.value}\n",
    "            if o.datatype is not None:\n",
    "                rv[\"datatype\"] = o.datatype\n",
    "            if o.language is not None:\n",
    "                rv[\"lang\"] = o.language\n",
    "            return rv\n",
    "        if isinstance(o, BNode):\n",
    "            return \"http://localhost/bnode/\" + str(o)\n",
    "        if isinstance(o, datetime.datetime):\n",
    "            return o.isoformat()\n",
    "        if isinstance(o, datetime.date):\n",
    "            return str(o)\n",
    "        # Let the base class default method raise the TypeError\n",
    "        return super().default(o)"
   ]
  },
  {
   "cell_type": "code",
   "execution_count": null,
   "id": "492ec472",
   "metadata": {},
   "outputs": [],
   "source": [
    "db = json.loads(json.dumps(database, cls=RDFTermEncoder))"
   ]
  },
  {
   "cell_type": "code",
   "execution_count": null,
   "id": "90ab334f",
   "metadata": {},
   "outputs": [],
   "source": [
    "with open(\"data/03-document-database.json\", \"w\") as f:\n",
    "    json.dump(db, f, indent=2)"
   ]
  },
  {
   "cell_type": "code",
   "execution_count": null,
   "id": "158407c6",
   "metadata": {},
   "outputs": [],
   "source": [
    "!gzip -f data/03-document-database.json\n",
    "!du -h data/03-document-database.json.gz"
   ]
  },
  {
   "cell_type": "code",
   "execution_count": null,
   "id": "7a6f1158",
   "metadata": {},
   "outputs": [],
   "source": [
    "with gzip.open(\"data/03-document-database.json.gz\") as f:\n",
    "    db = json.loads(f.read())"
   ]
  },
  {
   "cell_type": "code",
   "execution_count": null,
   "id": "3d4e05e2",
   "metadata": {},
   "outputs": [],
   "source": [
    "from pprint import pprint\n",
    "\n",
    "for collection_name, collection in db.items():\n",
    "    for individual, document in take(5, collection.items()):\n",
    "        print(\"collection:\", collection_name)\n",
    "        print(\"id:\", individual)\n",
    "        pprint(document)"
   ]
  },
  {
   "cell_type": "markdown",
   "id": "8eda233f",
   "metadata": {},
   "source": [
    "# 5. Framing linked-data subgraphs as documents: JSON-LD"
   ]
  },
  {
   "cell_type": "code",
   "execution_count": null,
   "id": "3ac2ce37",
   "metadata": {},
   "outputs": [],
   "source": [
    "from pyld import jsonld"
   ]
  },
  {
   "cell_type": "code",
   "execution_count": null,
   "id": "736ddae9",
   "metadata": {},
   "outputs": [],
   "source": [
    "db_ld = json.loads(g.serialize(format='json-ld', indent=2))"
   ]
  },
  {
   "cell_type": "code",
   "execution_count": null,
   "id": "c29cc51a",
   "metadata": {},
   "outputs": [],
   "source": [
    "len(db_ld)"
   ]
  },
  {
   "cell_type": "code",
   "execution_count": null,
   "id": "68baa1b5",
   "metadata": {},
   "outputs": [],
   "source": [
    "db_ld[0]"
   ]
  },
  {
   "cell_type": "code",
   "execution_count": null,
   "id": "72050408",
   "metadata": {},
   "outputs": [],
   "source": [
    "db_ld[-1]"
   ]
  },
  {
   "cell_type": "code",
   "execution_count": null,
   "id": "bd374313",
   "metadata": {},
   "outputs": [],
   "source": [
    "for n in g.namespaces():\n",
    "    print(n)"
   ]
  },
  {
   "cell_type": "code",
   "execution_count": null,
   "id": "80e9b1af",
   "metadata": {},
   "outputs": [],
   "source": [
    "context = {\n",
    "    prefix: str(uri) for prefix, uri in g.namespaces()\n",
    "}"
   ]
  },
  {
   "cell_type": "code",
   "execution_count": null,
   "id": "192418f9",
   "metadata": {},
   "outputs": [],
   "source": [
    "context"
   ]
  },
  {
   "cell_type": "code",
   "execution_count": null,
   "id": "1c1168e8",
   "metadata": {},
   "outputs": [],
   "source": [
    "context[\"category\"] = \"http://data.nobelprize.org/resource/category/\""
   ]
  },
  {
   "cell_type": "code",
   "execution_count": null,
   "id": "6b219327",
   "metadata": {},
   "outputs": [],
   "source": [
    "compacted = jsonld.compact(db_ld, context)"
   ]
  },
  {
   "cell_type": "code",
   "execution_count": null,
   "id": "12bbfcf3",
   "metadata": {},
   "outputs": [],
   "source": [
    "compacted.keys()"
   ]
  },
  {
   "cell_type": "code",
   "execution_count": null,
   "id": "7d2e0535",
   "metadata": {},
   "outputs": [],
   "source": [
    "len(compacted[\"@graph\"])"
   ]
  },
  {
   "cell_type": "code",
   "execution_count": null,
   "id": "d049daa9",
   "metadata": {},
   "outputs": [],
   "source": [
    "for item in take(5, compacted[\"@graph\"]):\n",
    "    pprint(item)"
   ]
  },
  {
   "cell_type": "code",
   "execution_count": null,
   "id": "18bc8cd7",
   "metadata": {},
   "outputs": [],
   "source": [
    "frame = {\n",
    "    \"@context\": context,\n",
    "    \"@type\": \"nobel:Laureate\",\n",
    "    \"@requireAll\": True,\n",
    "    \"@explicit\": True,\n",
    "    \"foaf:name\": {},\n",
    "    \"dbo:birthPlace\": {\n",
    "        \"@requireAll\": True,\n",
    "        \"@explicit\": True,\n",
    "        \"@embed\": \"@always\",\n",
    "        \"@type\": \"dbo:Country\",\n",
    "    },\n",
    "    \"dbo:affiliation\": {\n",
    "        \"@requireAll\": True,\n",
    "        \"@explicit\": True,\n",
    "        \"@embed\": \"@always\",\n",
    "        \"dbo:country\": {},\n",
    "    }\n",
    "}"
   ]
  },
  {
   "cell_type": "code",
   "execution_count": null,
   "id": "caf5d352",
   "metadata": {},
   "outputs": [],
   "source": [
    "framed = jsonld.frame(compacted, frame)"
   ]
  },
  {
   "cell_type": "code",
   "execution_count": null,
   "id": "76069e44",
   "metadata": {},
   "outputs": [],
   "source": [
    "len(framed[\"@graph\"])"
   ]
  },
  {
   "cell_type": "code",
   "execution_count": null,
   "id": "b598addb",
   "metadata": {},
   "outputs": [],
   "source": [
    "pprint(list(take(5, framed[\"@graph\"])))"
   ]
  },
  {
   "cell_type": "code",
   "execution_count": null,
   "id": "b9704f74",
   "metadata": {},
   "outputs": [],
   "source": [
    "with open(\"data/04-jsonld-framed-laureates.json\", \"w\") as f:\n",
    "    json.dump(framed, f, indent=2)"
   ]
  },
  {
   "cell_type": "code",
   "execution_count": null,
   "id": "8dc733c2",
   "metadata": {},
   "outputs": [],
   "source": [
    "!gzip -f data/04-jsonld-framed-laureates.json"
   ]
  },
  {
   "cell_type": "markdown",
   "id": "722e5c4c",
   "metadata": {},
   "source": [
    "# 6. Document collection search: MongoDB"
   ]
  },
  {
   "cell_type": "code",
   "execution_count": null,
   "id": "fb41b407",
   "metadata": {},
   "outputs": [],
   "source": [
    "from pymongo import MongoClient\n",
    "\n",
    "client = MongoClient()"
   ]
  },
  {
   "cell_type": "code",
   "execution_count": null,
   "id": "128f11c7",
   "metadata": {},
   "outputs": [],
   "source": [
    "mdb = client[\"nobel\"]"
   ]
  },
  {
   "cell_type": "code",
   "execution_count": null,
   "id": "d86cfcce",
   "metadata": {},
   "outputs": [],
   "source": [
    "import gzip\n",
    "import json\n",
    "\n",
    "with gzip.open(\"data/04-jsonld-framed-laureates.json.gz\") as f:\n",
    "    framed = json.load(f)"
   ]
  },
  {
   "cell_type": "code",
   "execution_count": null,
   "id": "08c19e82",
   "metadata": {},
   "outputs": [],
   "source": [
    "from toolz import assoc\n",
    "\n",
    "mdb.laureates.drop()\n",
    "rv = mdb.laureates.insert_many([assoc(doc, \"@context\", context) for doc in framed[\"@graph\"]])"
   ]
  },
  {
   "cell_type": "code",
   "execution_count": null,
   "id": "2947de06",
   "metadata": {},
   "outputs": [],
   "source": [
    "len(rv.inserted_ids)"
   ]
  },
  {
   "cell_type": "markdown",
   "id": "be1dc890",
   "metadata": {},
   "source": [
    "What fraction of laureates are affiliated with an institution in a country that is not in their country of birth?"
   ]
  },
  {
   "cell_type": "code",
   "execution_count": null,
   "id": "aeb3d2a8",
   "metadata": {},
   "outputs": [],
   "source": [
    "def as_list(d):\n",
    "    return d if isinstance(d, list) else [d]"
   ]
  },
  {
   "cell_type": "code",
   "execution_count": null,
   "id": "f7fd0c9a",
   "metadata": {},
   "outputs": [],
   "source": [
    "from toolz import dissoc\n",
    "\n",
    "n_affiliated_with_nonbirthcountry_institution = 0\n",
    "\n",
    "for d in mdb.laureates.find():\n",
    "    countries_affil = {c[\"@id\"] for a in as_list(d[\"dbo:affiliation\"]) for c in as_list(a[\"dbo:country\"])}\n",
    "    countries_birth = {p[\"@id\"] for p in as_list(d[\"dbo:birthPlace\"])}\n",
    "    \n",
    "    if len(countries_affil - countries_birth):\n",
    "        n_affiliated_with_nonbirthcountry_institution += 1"
   ]
  },
  {
   "cell_type": "code",
   "execution_count": null,
   "id": "01fc7754",
   "metadata": {},
   "outputs": [],
   "source": [
    "as_pct(n_affiliated_with_nonbirthcountry_institution, mdb.laureates.count_documents({}))"
   ]
  },
  {
   "cell_type": "markdown",
   "id": "0475cb66",
   "metadata": {},
   "source": [
    "What fraction of laureates are affiliated exclusively with institutions that are not in their country of birth?"
   ]
  },
  {
   "cell_type": "code",
   "execution_count": null,
   "id": "aa591c93",
   "metadata": {},
   "outputs": [],
   "source": [
    "from toolz import dissoc\n",
    "\n",
    "n_affiliated_exclusively_with_nonbirthcountry_institutions = 0\n",
    "\n",
    "for d in mdb.laureates.find():\n",
    "    countries_affil = {c[\"@id\"] for a in as_list(d[\"dbo:affiliation\"]) for c in as_list(a[\"dbo:country\"])}\n",
    "    countries_birth = {p[\"@id\"] for p in as_list(d[\"dbo:birthPlace\"])}\n",
    "    \n",
    "    if countries_affil.isdisjoint(countries_birth):\n",
    "        n_affiliated_exclusively_with_nonbirthcountry_institutions += 1"
   ]
  },
  {
   "cell_type": "code",
   "execution_count": null,
   "id": "1f02b27c",
   "metadata": {},
   "outputs": [],
   "source": [
    "as_pct(n_affiliated_exclusively_with_nonbirthcountry_institutions, mdb.laureates.count_documents({}))"
   ]
  },
  {
   "cell_type": "code",
   "execution_count": null,
   "id": "971709fd",
   "metadata": {},
   "outputs": [],
   "source": [
    "list(mdb.laureates.find({\"dbo:birthPlace.@id\": \"country:Denmark\"}, {\"foaf:name\": 1, \"_id\": 0}))"
   ]
  },
  {
   "cell_type": "code",
   "execution_count": null,
   "id": "839ddd88",
   "metadata": {},
   "outputs": [],
   "source": [
    "list(mdb.laureates.find({\"dbo:affiliation.dbo:country.@id\": \"country:Denmark\"}, {\"foaf:name\": 1, \"_id\": 0}))"
   ]
  },
  {
   "cell_type": "code",
   "execution_count": null,
   "id": "4734aa56",
   "metadata": {},
   "outputs": [],
   "source": [
    "len(mdb.laureates.distinct(\"dbo:birthPlace.@id\"))"
   ]
  },
  {
   "cell_type": "code",
   "execution_count": null,
   "id": "03c601c2",
   "metadata": {},
   "outputs": [],
   "source": [
    "len(mdb.laureates.distinct(\"dbo:affiliation.dbo:country.@id\"))"
   ]
  },
  {
   "cell_type": "code",
   "execution_count": null,
   "id": "e352863b",
   "metadata": {},
   "outputs": [],
   "source": [
    "!mongoexport -d nobel -c laureates -o data/05-laureates-mongoexport.jsonl"
   ]
  },
  {
   "cell_type": "code",
   "execution_count": null,
   "id": "ea5e1e5f",
   "metadata": {},
   "outputs": [],
   "source": [
    "!gzip -f data/05-laureates-mongoexport.jsonl"
   ]
  }
 ],
 "metadata": {
  "kernelspec": {
   "display_name": "Python (course-intro-ld-mongo)",
   "language": "python",
   "name": "course-intro-ld-mongo"
  },
  "language_info": {
   "codemirror_mode": {
    "name": "ipython",
    "version": 3
   },
   "file_extension": ".py",
   "mimetype": "text/x-python",
   "name": "python",
   "nbconvert_exporter": "python",
   "pygments_lexer": "ipython3",
   "version": "3.9.7"
  }
 },
 "nbformat": 4,
 "nbformat_minor": 5
}
