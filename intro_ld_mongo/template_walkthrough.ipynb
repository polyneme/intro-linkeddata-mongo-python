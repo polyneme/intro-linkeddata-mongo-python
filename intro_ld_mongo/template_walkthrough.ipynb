{
 "cells": [
  {
   "cell_type": "markdown",
   "id": "dfd7c0f8",
   "metadata": {},
   "source": [
    "Goal: reach desired course end state via meandering Jupyter notebook narrative"
   ]
  },
  {
   "cell_type": "markdown",
   "id": "85f66876",
   "metadata": {},
   "source": [
    "Desired end state: [JSON Lines](https://jsonlines.org/) file of [JSON-LD](https://json-ld.org/) objects that represents all or a portial of the Nobel Prize dataset such that a compenency question can be answered efficiently with MongoDB.\n",
    "\n",
    "For the MongoDB part, perhaps use `jq` to filter JSON Lines by `rdf:type` in order to `mongoimport` to the appropriate Mongo collections. Or use Python for this."
   ]
  },
  {
   "cell_type": "markdown",
   "id": "886c9477",
   "metadata": {},
   "source": [
    "# i. Fetch Nobel Prize data as SPARQL JSON response"
   ]
  },
  {
   "cell_type": "markdown",
   "id": "b65e15c1",
   "metadata": {},
   "source": [
    "1. Go to <https://data.nobelprize.org/sparql>.\n",
    "2. Enter this query:\n",
    "    ```sparql\n",
    "    PREFIX nobel: <http://data.nobelprize.org/terms/>\n",
    "    PREFIX rdf: <http://www.w3.org/1999/02/22-rdf-syntax-ns#>\n",
    "    PREFIX rdfs: <http://www.w3.org/2000/01/rdf-schema#>\n",
    "    \n",
    "    SELECT ?s ?p ?o WHERE {\n",
    "      ?s ?p ?o .\n",
    "    }\n",
    "    ```\n",
    "3. Click \"Response\" results view (default may be \"Table\")\n",
    "4. Click \"Download result\"\n",
    "5. `gzip` result (~30x compression from ~30MB to ~1MB)."
   ]
  },
  {
   "cell_type": "code",
   "execution_count": 1,
   "id": "32e026e1",
   "metadata": {},
   "outputs": [
    {
     "name": "stdout",
     "output_type": "stream",
     "text": [
      "1.2M\tdata/00-raw-sparql-response.json.gz\r\n"
     ]
    }
   ],
   "source": [
    "!du -h data/00-raw-sparql-response.json.gz"
   ]
  },
  {
   "cell_type": "markdown",
   "id": "4cb62eab",
   "metadata": {},
   "source": [
    "# ii. Load JSON response as list of statements and serialize as RDF"
   ]
  },
  {
   "cell_type": "markdown",
   "id": "972cddcf",
   "metadata": {},
   "source": [
    "1. into memory as Python dict\n",
    "2. map to list of statements\n",
    "3. load into RDFLib and save as RDF"
   ]
  },
  {
   "cell_type": "code",
   "execution_count": 2,
   "id": "e5ae325b",
   "metadata": {},
   "outputs": [],
   "source": [
    "import gzip\n",
    "import json\n",
    "\n",
    "with gzip.open(\"data/00-raw-sparql-response.json.gz\") as f:\n",
    "    response = json.loads(f.read())"
   ]
  },
  {
   "cell_type": "code",
   "execution_count": 3,
   "id": "cec4baa0",
   "metadata": {},
   "outputs": [],
   "source": [
    "statements = []\n",
    "for binding in response[\"results\"][\"bindings\"]:\n",
    "    statements.append((binding[\"s\"], binding[\"p\"], binding[\"o\"]))"
   ]
  },
  {
   "cell_type": "code",
   "execution_count": 4,
   "id": "56589ae3",
   "metadata": {},
   "outputs": [],
   "source": [
    "from rdflib import Graph, URIRef, Literal, BNode, Namespace\n",
    "\n",
    "g = Graph()\n",
    "for statement in statements:\n",
    "    s, p, o = statement\n",
    "    if s[\"type\"] not in (\"uri\", \"bnode\"):\n",
    "        raise ValueError(\"subs must be uris or bnodes\")\n",
    "    if p[\"type\"] != \"uri\":\n",
    "        raise ValueError(\"preds must be uris\")\n",
    "    if o[\"type\"] not in (\"uri\", \"bnode\", \"literal\"):\n",
    "        raise ValueError(\"objs must be uris or bnodes or literals\")\n",
    "    if o[\"type\"] == \"literal\" and len(set(o) - {\"type\", \"value\", \"datatype\", \"xml:lang\"}):\n",
    "        raise ValueError(\"literal objs can only have datatype and xml:lang apart from value\")\n",
    "        \n",
    "    s = URIRef(s[\"value\"]) if s[\"type\"] == \"uri\" else BNode(s[\"value\"])\n",
    "    p = URIRef(p[\"value\"])\n",
    "    if o[\"type\"] == \"uri\":\n",
    "        o = URIRef(o[\"value\"])\n",
    "    elif o[\"type\"] == \"bnode\":\n",
    "        o = BNode(o[\"value\"])\n",
    "    else:  # o[\"type\"] == \"literal\"\n",
    "        o = Literal(o[\"value\"], lang=o.get(\"xml:lang\"), datatype=o.get(\"datatype\"))\n",
    "    \n",
    "    g.add((s, p, o))"
   ]
  },
  {
   "cell_type": "code",
   "execution_count": 5,
   "id": "32f57aa7",
   "metadata": {},
   "outputs": [
    {
     "name": "stdout",
     "output_type": "stream",
     "text": [
      "784K\tdata/01-nobelprize-data.nt.gz\r\n"
     ]
    }
   ],
   "source": [
    "g.serialize(\"data/01-nobelprize-data.nt\", format=\"nt\")\n",
    "!gzip -f data/01-nobelprize-data.nt\n",
    "!du -h data/01-nobelprize-data.nt.gz"
   ]
  },
  {
   "cell_type": "markdown",
   "id": "581ba9c7",
   "metadata": {},
   "source": [
    "# 1. representing facts: RDF\n",
    "\n",
    "Load into RDF graph using rdflib"
   ]
  },
  {
   "cell_type": "code",
   "execution_count": 6,
   "id": "a111c39b",
   "metadata": {},
   "outputs": [
    {
     "name": "stdout",
     "output_type": "stream",
     "text": [
      "<http://data.nobelprize.org/resource/laureateaward/Physiology_or_Medicine/1975/406> <http://www.w3.org/1999/02/22-rdf-syntax-ns#type> <http://dbpedia.org/ontology/Award> .\n",
      "\n",
      "<http://data.nobelprize.org/resource/laureate/962> <http://xmlns.com/foaf/0.1/familyName> \"Strickland\" .\n",
      "\n",
      "<http://data.nobelprize.org/resource/laureateaward/Physiology_or_Medicine/1967/387> <http://purl.org/dc/terms/isPartOf> <http://data.nobelprize.org/resource/nobelprize/Physiology_or_Medicine/1967> .\n",
      "\n",
      "<http://data.nobelprize.org/resource/city/College_Park%2C_MD> <http://www.w3.org/1999/02/22-rdf-syntax-ns#type> <http://dbpedia.org/ontology/City> .\n",
      "\n",
      "<http://data.nobelprize.org/resource/city/Berkeley%2C_CA> <http://www.w3.org/2002/07/owl#sameAs> <http://www.wikidata.org/entity/Q484678> .\n",
      "\n",
      "<http://data.nobelprize.org/resource/laureate/200> <http://dbpedia.org/property/dateOfDeath> \"1976-09-26\"^^<http://www.w3.org/2001/XMLSchema#date> .\n",
      "\n",
      "<http://data.nobelprize.org/resource/laureateaward/Physiology_or_Medicine/1985/432> <http://data.nobelprize.org/terms/category> <http://data.nobelprize.org/resource/category/Physiology_or_Medicine> .\n",
      "\n",
      "<http://data.nobelprize.org/resource/nobelprize/Physics/1961> <http://data.nobelprize.org/terms/categoryOrder> \"1\"^^<http://www.w3.org/2001/XMLSchema#integer> .\n",
      "\n",
      "<http://data.nobelprize.org/resource/laureateaward/Physics/1944/49> <http://data.nobelprize.org/terms/category> <http://data.nobelprize.org/resource/category/Physics> .\n",
      "\n",
      "<http://data.nobelprize.org/resource/laureate/206> <http://data.nobelprize.org/terms/laureateAward> <http://data.nobelprize.org/resource/laureateaward/Chemistry/1946/206> .\n",
      "\n",
      "<http://data.nobelprize.org/resource/nobelprize/Economic_Sciences/1978> <http://www.w3.org/2000/01/rdf-schema#label> \"Sveriges Riksbanks pris i ekonomisk vetenskap till Alfred Nobels minne 1978\"@sv .\n",
      "\n",
      "<http://data.nobelprize.org/resource/city/Little_Falls%2C_MN> <http://www.w3.org/2002/07/owl#sameAs> <http://www.wikidata.org/entity/Q1903165> .\n",
      "\n",
      "<http://data.nobelprize.org/resource/laureate/72> <http://xmlns.com/foaf/0.1/gender> \"male\" .\n",
      "\n",
      "<http://data.nobelprize.org/resource/country/Argentina> <http://www.w3.org/2002/07/owl#sameAs> <http://www.wikidata.org/entity/Q414> .\n",
      "\n",
      "<http://data.nobelprize.org/resource/laureate/625> <http://www.w3.org/2002/07/owl#sameAs> <http://www.wikidata.org/entity/Q23434> .\n",
      "\n",
      "<http://data.nobelprize.org/resource/laureate/11> <http://xmlns.com/foaf/0.1/givenName> \"Albert A.\" .\n",
      "\n",
      "<http://data.nobelprize.org/resource/city/Hamburg> <http://www.w3.org/2002/07/owl#sameAs> <http://www.wikidata.org/entity/Q1055> .\n",
      "\n",
      "<http://data.nobelprize.org/resource/laureateaward/Physiology_or_Medicine/1988/437> <http://purl.org/dc/terms/isPartOf> <http://data.nobelprize.org/resource/nobelprize/Physiology_or_Medicine/1988> .\n",
      "\n",
      "<http://data.nobelprize.org/resource/nobelprize/Physiology_or_Medicine/1988> <http://data.nobelprize.org/terms/categoryOrder> \"3\"^^<http://www.w3.org/2001/XMLSchema#integer> .\n",
      "\n",
      "<http://data.nobelprize.org/resource/nobelprize/Physics/2015> <http://data.nobelprize.org/terms/laureate> <http://data.nobelprize.org/resource/laureate/920> .\n",
      "\n",
      "<http://data.nobelprize.org/resource/laureate/208> <http://dbpedia.org/property/dateOfBirth> \"1902-08-10\"^^<http://www.w3.org/2001/XMLSchema#date> .\n",
      "\n",
      "<http://data.nobelprize.org/resource/laureateaward/Peace/1958/517> <http://data.nobelprize.org/terms/laureate> <http://data.nobelprize.org/resource/laureate/517> .\n",
      "\n",
      "<http://data.nobelprize.org/resource/laureate/510> <http://dbpedia.org/ontology/deathPlace> <http://data.nobelprize.org/resource/country/Scotland> .\n",
      "\n",
      "<http://data.nobelprize.org/resource/laureate/705> <http://dbpedia.org/ontology/birthPlace> <http://data.nobelprize.org/resource/city/Boston%2C_MA> .\n",
      "\n",
      "<http://data.nobelprize.org/resource/laureate/963> <http://dbpedia.org/property/dateOfBirth> \"1956-07-25\"^^<http://www.w3.org/2001/XMLSchema#date> .\n",
      "\n",
      "<http://data.nobelprize.org/resource/laureateaward/Physiology_or_Medicine/1950/349> <http://data.nobelprize.org/terms/laureate> <http://data.nobelprize.org/resource/laureate/349> .\n",
      "\n",
      "<http://data.nobelprize.org/resource/laureateaward/Literature/1972/647> <http://data.nobelprize.org/terms/sortOrder> \"1\"^^<http://www.w3.org/2001/XMLSchema#integer> .\n",
      "\n",
      "<http://data.nobelprize.org/resource/laureate/1008> <http://data.nobelprize.org/terms/laureateAward> <http://data.nobelprize.org/resource/laureateaward/Economic_Sciences/2021/1008> .\n",
      "\n",
      "<http://data.nobelprize.org/resource/university/Standard_Telecommunication_Laboratories> <http://www.w3.org/1999/02/22-rdf-syntax-ns#type> <http://dbpedia.org/ontology/University> .\n",
      "\n",
      "<http://data.nobelprize.org/resource/laureateaward/Chemistry/1982/259> <http://www.w3.org/2000/01/rdf-schema#label> \"Nobelpriset i kemi 1982, Aaron Klug\"@sv .\n",
      "\n",
      "<http://data.nobelprize.org/resource/laureate/394> <http://dbpedia.org/property/dateOfDeath> \"2003-04-20\"^^<http://www.w3.org/2001/XMLSchema#date> .\n",
      "\n",
      "<http://data.nobelprize.org/resource/laureate/133> <http://dbpedia.org/property/dateOfDeath> \"2006-08-28\"^^<http://www.w3.org/2001/XMLSchema#date> .\n",
      "\n",
      "<http://data.nobelprize.org/resource/nobelprize/Physiology_or_Medicine/1996> <http://data.nobelprize.org/terms/laureate> <http://data.nobelprize.org/resource/laureate/455> .\n",
      "\n",
      "<http://data.nobelprize.org/resource/laureate/150> <http://xmlns.com/foaf/0.1/givenName> \"Douglas D.\" .\n",
      "\n",
      "<http://data.nobelprize.org/resource/laureate/353> <http://xmlns.com/foaf/0.1/birthday> \"1888-07-22\"^^<http://www.w3.org/2001/XMLSchema#date> .\n",
      "\n",
      "<http://data.nobelprize.org/resource/laureate/217> <http://xmlns.com/foaf/0.1/familyName> \"Pauling\" .\n",
      "\n",
      "<http://data.nobelprize.org/resource/laureate/407> <http://xmlns.com/foaf/0.1/name> \"Renato Dulbecco\" .\n",
      "\n",
      "<http://data.nobelprize.org/resource/university/Kitasato_University> <http://www.w3.org/2000/01/rdf-schema#label> \"Kitasato University\"@sv .\n",
      "\n",
      "<http://data.nobelprize.org/resource/city/Brest_Litovsk> <http://www.w3.org/2000/01/rdf-schema#label> \"Brest Litovsk\"@no .\n",
      "\n",
      "<http://data.nobelprize.org/resource/nobelprize/Physics/1951> <http://www.w3.org/2000/01/rdf-schema#label> \"Nobelprisen i fysikk 1951\"@no .\n",
      "\n",
      "<http://data.nobelprize.org/resource/city/Wilmington%2C_DE> <http://www.w3.org/1999/02/22-rdf-syntax-ns#type> <http://dbpedia.org/ontology/City> .\n",
      "\n",
      "<http://data.nobelprize.org/resource/university/Center_for_Study_of_Public_Choice> <http://www.w3.org/2000/01/rdf-schema#label> \"Center for Study of Public Choice\"@en .\n",
      "\n",
      "<http://data.nobelprize.org/resource/laureate/71> <http://dbpedia.org/ontology/affiliation> <http://data.nobelprize.org/resource/university/P.N._Lebedev_Physical_Institute> .\n",
      "\n",
      "<http://data.nobelprize.org/resource/laureate/317> <http://xmlns.com/foaf/0.1/gender> \"male\" .\n",
      "\n",
      "<http://data.nobelprize.org/resource/nobelprize/Economic_Sciences/2017> <http://www.w3.org/2000/01/rdf-schema#label> \"Sveriges Riksbanks pris i ekonomisk vetenskap till Alfred Nobels minne 2017\"@sv .\n",
      "\n",
      "<http://data.nobelprize.org/resource/laureate/130> <http://www.w3.org/2002/07/owl#sameAs> <http://www.wikidata.org/entity/Q76687> .\n",
      "\n",
      "<http://data.nobelprize.org/resource/laureateaward/Chemistry/1907/166> <http://data.nobelprize.org/terms/share> \"1\"^^<http://www.w3.org/2001/XMLSchema#integer> .\n",
      "\n",
      "<http://data.nobelprize.org/resource/laureateaward/Physics/2002/754> <http://data.nobelprize.org/terms/motivation> \"for pioneering contributions to astrophysics, in particular for the detection of cosmic neutrinos\"@en .\n",
      "\n",
      "<http://data.nobelprize.org/resource/nobelprize/Chemistry/1960> <http://data.nobelprize.org/terms/category> <http://data.nobelprize.org/terms/Chemistry> .\n",
      "\n",
      "<http://data.nobelprize.org/resource/nobelprize/Physics/1993> <http://purl.org/dc/terms/hasPart> <http://data.nobelprize.org/resource/laureateaward/Physics/1993/143> .\n",
      "\n",
      "<http://data.nobelprize.org/resource/laureateaward/Peace/2016/934> <http://data.nobelprize.org/terms/motivation> \"for his resolute efforts to bring the country's more than 50-year-long civil war to an end\"@en .\n",
      "\n",
      "<http://data.nobelprize.org/resource/laureate/352> <http://xmlns.com/foaf/0.1/name> \"Max Theiler\" .\n",
      "\n",
      "<http://data.nobelprize.org/resource/laureate/245> <http://www.w3.org/2000/01/rdf-schema#label> \"Geoffrey Wilkinson\" .\n",
      "\n",
      "<http://data.nobelprize.org/resource/nobelprize/Peace/1908> <http://www.w3.org/1999/02/22-rdf-syntax-ns#type> <http://dbpedia.org/ontology/Award> .\n",
      "\n",
      "<http://data.nobelprize.org/resource/laureate/93> <http://xmlns.com/foaf/0.1/givenName> \"Dennis\" .\n",
      "\n",
      "<http://data.nobelprize.org/resource/laureateaward/Physiology_or_Medicine/1984/429> <http://data.nobelprize.org/terms/motivation> \"f\\u00F6r teorier om immunsystemets specifika uppbyggnad och styrning och uppt\\u00E4ckten av principen f\\u00F6r produktion av monoklonala antikroppar\"@sv .\n",
      "\n",
      "<http://data.nobelprize.org/resource/laureateaward/Peace/2011/870> <http://www.w3.org/1999/02/22-rdf-syntax-ns#type> <http://data.nobelprize.org/terms/LaureateAward> .\n",
      "\n",
      "<http://data.nobelprize.org/resource/laureateaward/Physiology_or_Medicine/1974/404> <http://data.nobelprize.org/terms/university> <http://data.nobelprize.org/resource/university/Universit%C3%A9_Catholique_de_Louvain> .\n",
      "\n",
      "<http://data.nobelprize.org/resource/laureate/971> <http://data.nobelprize.org/terms/nobelPrize> <http://data.nobelprize.org/resource/nobelprize/Physiology_or_Medicine/2019> .\n",
      "\n",
      "<http://data.nobelprize.org/resource/city/Mokpo> <http://www.w3.org/2000/01/rdf-schema#label> \"Mokpo\"@no .\n",
      "\n",
      "<http://data.nobelprize.org/resource/nobelprize/Physics/2004> <http://data.nobelprize.org/terms/laureate> <http://data.nobelprize.org/resource/laureate/777> .\n",
      "\n",
      "<http://data.nobelprize.org/resource/nobelprize/Physiology_or_Medicine/1972> <http://www.w3.org/2000/01/rdf-schema#label> \"The Nobel Prize in Physiology or Medicine 1972\"@en .\n",
      "\n",
      "<http://data.nobelprize.org/resource/laureateaward/Physiology_or_Medicine/1944/337> <http://www.w3.org/2000/01/rdf-schema#label> \"The Nobel Prize in Physiology or Medicine 1944, Joseph Erlanger\"@en .\n",
      "\n",
      "<http://data.nobelprize.org/resource/city/Twin_Falls%2C_ID> <http://www.w3.org/1999/02/22-rdf-syntax-ns#type> <http://dbpedia.org/ontology/City> .\n",
      "\n",
      "<http://data.nobelprize.org/resource/laureate/904> <http://xmlns.com/foaf/0.1/gender> \"female\" .\n",
      "\n",
      "<http://data.nobelprize.org/resource/laureateaward/Economic_Sciences/2010/856> <http://data.nobelprize.org/terms/category> <http://data.nobelprize.org/resource/category/Economic_Sciences> .\n",
      "\n",
      "<http://data.nobelprize.org/resource/nobelprize/Physiology_or_Medicine/1959> <http://data.nobelprize.org/terms/laureate> <http://data.nobelprize.org/resource/laureate/367> .\n",
      "\n",
      "<http://data.nobelprize.org/resource/laureate/423> <http://dbpedia.org/ontology/deathPlace> <http://data.nobelprize.org/resource/city/Lincoln%2C_MA> .\n",
      "\n",
      "<http://data.nobelprize.org/resource/laureate/811> <http://xmlns.com/foaf/0.1/name> \"Mario R. Capecchi\" .\n",
      "\n",
      "<http://data.nobelprize.org/resource/university/Rheinische_Friedrich-Wilhelms-Universit%C3%A4t> <http://www.w3.org/2000/01/rdf-schema#label> \"Rheinische Friedrich-Wilhelms-Universit\\u00E4t\"@no .\n",
      "\n",
      "<http://data.nobelprize.org/resource/nobelprize/Physiology_or_Medicine/1995> <http://www.w3.org/1999/02/22-rdf-syntax-ns#type> <http://data.nobelprize.org/terms/NobelPrize> .\n",
      "\n",
      "<http://data.nobelprize.org/resource/nobelprize/Physiology_or_Medicine/1991> <http://data.nobelprize.org/terms/category> <http://data.nobelprize.org/terms/Physiology_or_Medicine> .\n",
      "\n",
      "<http://data.nobelprize.org/resource/laureate/921> <http://xmlns.com/foaf/0.1/birthday> \"1938-01-28\"^^<http://www.w3.org/2001/XMLSchema#date> .\n",
      "\n",
      "<http://data.nobelprize.org/resource/laureateaward/Peace/1930/495> <http://data.nobelprize.org/terms/category> <http://data.nobelprize.org/resource/category/Peace> .\n",
      "\n",
      "<http://data.nobelprize.org/resource/laureateaward/Peace/1970/528> <http://data.nobelprize.org/terms/category> <http://data.nobelprize.org/resource/category/Peace> .\n",
      "\n",
      "<http://data.nobelprize.org/resource/laureate/248> <http://www.w3.org/1999/02/22-rdf-syntax-ns#type> <http://xmlns.com/foaf/0.1/Person> .\n",
      "\n",
      "<http://data.nobelprize.org/resource/laureateaward/Physiology_or_Medicine/1944/337> <http://data.nobelprize.org/terms/share> \"2\"^^<http://www.w3.org/2001/XMLSchema#integer> .\n",
      "\n",
      "<http://data.nobelprize.org/resource/city/Ikata> <http://www.w3.org/2000/01/rdf-schema#label> \"Ikata\"@en .\n",
      "\n",
      "<http://data.nobelprize.org/resource/laureateaward/Physiology_or_Medicine/1965/381> <http://www.w3.org/2000/01/rdf-schema#label> \"Nobelpriset i fysiologi eller medicin 1965, Andr\\u00E9 Lwoff\"@sv .\n",
      "\n",
      "<http://data.nobelprize.org/resource/laureate/101> <http://xmlns.com/foaf/0.1/birthday> \"1924-05-11\"^^<http://www.w3.org/2001/XMLSchema#date> .\n",
      "\n",
      "<http://data.nobelprize.org/resource/nobelprize/Peace/1919> <http://data.nobelprize.org/terms/categoryOrder> \"5\"^^<http://www.w3.org/2001/XMLSchema#integer> .\n",
      "\n",
      "<http://data.nobelprize.org/resource/laureate/135> <http://xmlns.com/foaf/0.1/name> \"Norman F. Ramsey\" .\n",
      "\n",
      "<http://data.nobelprize.org/resource/laureate/82> <http://www.w3.org/1999/02/22-rdf-syntax-ns#type> <http://data.nobelprize.org/terms/Laureate> .\n",
      "\n",
      "<http://data.nobelprize.org/resource/laureate/930> <http://data.nobelprize.org/terms/laureateAward> <http://data.nobelprize.org/resource/laureateaward/Physics/2016/930> .\n",
      "\n",
      "<http://data.nobelprize.org/resource/laureate/156> <http://xmlns.com/foaf/0.1/familyName> \"St\\u00F6rmer\" .\n",
      "\n",
      "<http://data.nobelprize.org/resource/laureate/329> <http://data.nobelprize.org/terms/laureateAward> <http://data.nobelprize.org/resource/laureateaward/Physiology_or_Medicine/1935/329> .\n",
      "\n",
      "<http://data.nobelprize.org/resource/laureateaward/Physics/1990/140> <http://purl.org/dc/terms/isPartOf> <http://data.nobelprize.org/resource/nobelprize/Physics/1990> .\n",
      "\n",
      "<http://data.nobelprize.org/resource/city/Milton_Keynes> <http://www.w3.org/2000/01/rdf-schema#label> \"Milton Keynes\"@sv .\n",
      "\n",
      "<http://data.nobelprize.org/resource/laureate/215> <http://dbpedia.org/ontology/deathPlace> <http://data.nobelprize.org/resource/city/Norwich> .\n",
      "\n",
      "<http://data.nobelprize.org/resource/city/Nottingham> <http://www.w3.org/2002/07/owl#sameAs> _:node1f9uhd973x1 .\n",
      "\n",
      "<http://data.nobelprize.org/resource/city/Lincoln%2C_MA> <http://www.w3.org/2000/01/rdf-schema#label> \"Lincoln, MA\"@sv .\n",
      "\n",
      "<http://data.nobelprize.org/resource/city/Mart%2C_TX> <http://www.w3.org/2000/01/rdf-schema#label> \"Mart, TX\"@sv .\n",
      "\n",
      "<http://data.nobelprize.org/resource/laureate/654> <http://www.w3.org/2000/01/rdf-schema#label> \"Isaac Bashevis Singer\" .\n",
      "\n",
      "<http://data.nobelprize.org/resource/laureate/935> <http://xmlns.com/foaf/0.1/familyName> \"Hart\" .\n",
      "\n",
      "<http://data.nobelprize.org/resource/laureate/481> <http://www.w3.org/1999/02/22-rdf-syntax-ns#type> <http://data.nobelprize.org/terms/Laureate> .\n",
      "\n",
      "<http://data.nobelprize.org/resource/laureate/105> <http://www.w3.org/2002/07/owl#sameAs> _:node1f9uh837gx1 .\n",
      "\n",
      "<http://data.nobelprize.org/resource/city/Almora> <http://www.w3.org/2000/01/rdf-schema#label> \"Almora\"@en .\n",
      "\n",
      "<http://data.nobelprize.org/resource/nobelprize/Physics/1964> <http://purl.org/dc/terms/hasPart> <http://data.nobelprize.org/resource/laureateaward/Physics/1964/83> .\n",
      "\n",
      "<http://data.nobelprize.org/resource/university/University_of_Utah> <http://dbpedia.org/ontology/city> <http://data.nobelprize.org/resource/city/Salt_Lake_City%2C_UT> .\n",
      "\n",
      "<http://data.nobelprize.org/resource/nobelprize/Physics/1963> <http://data.nobelprize.org/terms/category> <http://data.nobelprize.org/terms/Physics> .\n",
      "\n"
     ]
    }
   ],
   "source": [
    "import gzip\n",
    "\n",
    "from toolz import take\n",
    "\n",
    "with gzip.open(\"data/01-nobelprize-data.nt.gz\", \"rt\") as f:\n",
    "    for line in take(100, f):\n",
    "        print(line)"
   ]
  },
  {
   "cell_type": "code",
   "execution_count": 7,
   "id": "a89d65e4",
   "metadata": {},
   "outputs": [],
   "source": [
    "from rdflib import Graph\n",
    "\n",
    "g = Graph()\n",
    "\n",
    "with gzip.open(\"data/01-nobelprize-data.nt.gz\") as f:\n",
    "    g.parse(f.read())"
   ]
  },
  {
   "cell_type": "code",
   "execution_count": 8,
   "id": "8c9dc7a1",
   "metadata": {},
   "outputs": [
    {
     "name": "stdout",
     "output_type": "stream",
     "text": [
      "http://data.nobelprize.org/resource/laureateaward/Physiology_or_Medicine/1975/406 http://www.w3.org/1999/02/22-rdf-syntax-ns#type http://dbpedia.org/ontology/Award\n",
      "http://data.nobelprize.org/resource/laureate/962 http://xmlns.com/foaf/0.1/familyName Strickland\n",
      "http://data.nobelprize.org/resource/laureateaward/Physiology_or_Medicine/1967/387 http://purl.org/dc/terms/isPartOf http://data.nobelprize.org/resource/nobelprize/Physiology_or_Medicine/1967\n",
      "http://data.nobelprize.org/resource/city/College_Park%2C_MD http://www.w3.org/1999/02/22-rdf-syntax-ns#type http://dbpedia.org/ontology/City\n",
      "http://data.nobelprize.org/resource/city/Berkeley%2C_CA http://www.w3.org/2002/07/owl#sameAs http://www.wikidata.org/entity/Q484678\n"
     ]
    }
   ],
   "source": [
    "for s, p, o in take(5, g):\n",
    "    print(s, p, o)"
   ]
  },
  {
   "cell_type": "code",
   "execution_count": 9,
   "id": "492cb4d0",
   "metadata": {},
   "outputs": [
    {
     "data": {
      "text/plain": [
       "[('xml', rdflib.term.URIRef('http://www.w3.org/XML/1998/namespace')),\n",
       " ('rdf', rdflib.term.URIRef('http://www.w3.org/1999/02/22-rdf-syntax-ns#')),\n",
       " ('rdfs', rdflib.term.URIRef('http://www.w3.org/2000/01/rdf-schema#')),\n",
       " ('xsd', rdflib.term.URIRef('http://www.w3.org/2001/XMLSchema#'))]"
      ]
     },
     "execution_count": 9,
     "metadata": {},
     "output_type": "execute_result"
    }
   ],
   "source": [
    "list(g.namespaces())"
   ]
  },
  {
   "cell_type": "code",
   "execution_count": 10,
   "id": "9a001729",
   "metadata": {},
   "outputs": [
    {
     "name": "stdout",
     "output_type": "stream",
     "text": [
      "http://data.nobelprize.org/resource/laureateaward/Physiology_or_Medicine/1975/406 rdf:type <http://dbpedia.org/ontology/Award>\n",
      "http://data.nobelprize.org/resource/laureate/962 <http://xmlns.com/foaf/0.1/familyName> \"Strickland\"\n",
      "http://data.nobelprize.org/resource/laureateaward/Physiology_or_Medicine/1967/387 <http://purl.org/dc/terms/isPartOf> <http://data.nobelprize.org/resource/nobelprize/Physiology_or_Medicine/1967>\n",
      "http://data.nobelprize.org/resource/city/College_Park%2C_MD rdf:type <http://dbpedia.org/ontology/City>\n",
      "http://data.nobelprize.org/resource/city/Berkeley%2C_CA <http://www.w3.org/2002/07/owl#sameAs> <http://www.wikidata.org/entity/Q484678>\n"
     ]
    }
   ],
   "source": [
    "for s, p, o in take(5, g):\n",
    "    print(s, p.n3(g.namespace_manager), o.n3(g.namespace_manager))"
   ]
  },
  {
   "cell_type": "code",
   "execution_count": 11,
   "id": "00063151",
   "metadata": {},
   "outputs": [],
   "source": [
    "def pprint_terms(terms, graph=g):\n",
    "    print(*[t.n3(graph.namespace_manager) for t in terms])"
   ]
  },
  {
   "cell_type": "code",
   "execution_count": 12,
   "id": "e1af51ce",
   "metadata": {},
   "outputs": [
    {
     "name": "stdout",
     "output_type": "stream",
     "text": [
      "<http://data.nobelprize.org/resource/laureate/82> rdf:type nobel:Laureate\n",
      "<http://data.nobelprize.org/resource/laureate/481> rdf:type nobel:Laureate\n",
      "<http://data.nobelprize.org/resource/laureate/317> rdf:type nobel:Laureate\n",
      "<http://data.nobelprize.org/resource/laureate/197> rdf:type nobel:Laureate\n",
      "<http://data.nobelprize.org/resource/laureate/63> rdf:type nobel:Laureate\n"
     ]
    }
   ],
   "source": [
    "from rdflib import Namespace\n",
    "from rdflib.namespace import RDF\n",
    "from toolz import take\n",
    "\n",
    "NOBEL = Namespace(\"http://data.nobelprize.org/terms/\")\n",
    "g.namespace_manager.bind(\"nobel\", NOBEL)\n",
    "\n",
    "for s, p, o in take(5, g.triples((None, RDF.type, NOBEL.Laureate))):\n",
    "    pprint_terms([s, p, o], g)"
   ]
  },
  {
   "cell_type": "code",
   "execution_count": 13,
   "id": "fbafcac2",
   "metadata": {},
   "outputs": [],
   "source": [
    "for s, p, o in g.triples((NOBEL.Laureate, None, None)):\n",
    "    pprint_terms([s, p, o], g)"
   ]
  },
  {
   "cell_type": "code",
   "execution_count": 14,
   "id": "77adc0ef",
   "metadata": {},
   "outputs": [
    {
     "name": "stdout",
     "output_type": "stream",
     "text": [
      "http://data.nobelprize.org/terms/Laureate\n"
     ]
    }
   ],
   "source": [
    "print(NOBEL.Laureate)"
   ]
  },
  {
   "cell_type": "code",
   "execution_count": 15,
   "id": "cae52f0e",
   "metadata": {},
   "outputs": [
    {
     "data": {
      "text/plain": [
       "<Graph identifier=N6cd30e441e9a45fa820edbbec0d335b2 (<class 'rdflib.graph.Graph'>)>"
      ]
     },
     "execution_count": 15,
     "metadata": {},
     "output_type": "execute_result"
    }
   ],
   "source": [
    "g.parse(NOBEL.Laureate)"
   ]
  },
  {
   "cell_type": "code",
   "execution_count": 16,
   "id": "854904e9",
   "metadata": {},
   "outputs": [
    {
     "name": "stdout",
     "output_type": "stream",
     "text": [
      "nobel:Laureate rdf:type owl:Class\n",
      "nobel:Laureate rdfs:label \"Laureate\"\n",
      "nobel:Laureate rdfs:comment \"A laureate is a person or organization who recieves one or several Nobel Prizes.\"\n",
      "nobel:Laureate rdfs:subClassOf <http://xmlns.com/foaf/0.1/Agent>\n"
     ]
    }
   ],
   "source": [
    "for s, p, o in g.triples((NOBEL.Laureate, None, None)):\n",
    "    pprint_terms([s, p, o], g)"
   ]
  },
  {
   "cell_type": "code",
   "execution_count": 17,
   "id": "8df24d8c",
   "metadata": {},
   "outputs": [],
   "source": [
    "from rdflib.namespace import FOAF\n",
    "\n",
    "g.namespace_manager.bind(\"foaf\", FOAF)"
   ]
  },
  {
   "cell_type": "code",
   "execution_count": 18,
   "id": "28947a48",
   "metadata": {},
   "outputs": [
    {
     "name": "stdout",
     "output_type": "stream",
     "text": [
      "nobel:Laureate rdf:type owl:Class\n",
      "nobel:Laureate rdfs:label \"Laureate\"\n",
      "nobel:Laureate rdfs:comment \"A laureate is a person or organization who recieves one or several Nobel Prizes.\"\n",
      "nobel:Laureate rdfs:subClassOf foaf:Agent\n"
     ]
    }
   ],
   "source": [
    "for s, p, o in g.triples((NOBEL.Laureate, None, None)):\n",
    "    pprint_terms([s, p, o], g)"
   ]
  },
  {
   "cell_type": "code",
   "execution_count": 19,
   "id": "2b36799c",
   "metadata": {},
   "outputs": [],
   "source": [
    "from rdflib.namespace import OWL\n",
    "\n",
    "for s, p, o in g.triples((OWL.Class, None, None)):\n",
    "    pprint_terms([s, p, o], g)"
   ]
  },
  {
   "cell_type": "code",
   "execution_count": 20,
   "id": "c87e0799",
   "metadata": {},
   "outputs": [
    {
     "name": "stdout",
     "output_type": "stream",
     "text": [
      "http://www.w3.org/2002/07/owl#Class\n"
     ]
    }
   ],
   "source": [
    "print(OWL.Class)"
   ]
  },
  {
   "cell_type": "code",
   "execution_count": 21,
   "id": "b9a3a334",
   "metadata": {},
   "outputs": [
    {
     "data": {
      "text/plain": [
       "<Graph identifier=N6cd30e441e9a45fa820edbbec0d335b2 (<class 'rdflib.graph.Graph'>)>"
      ]
     },
     "execution_count": 21,
     "metadata": {},
     "output_type": "execute_result"
    }
   ],
   "source": [
    "g.parse(OWL.Class)"
   ]
  },
  {
   "cell_type": "code",
   "execution_count": 22,
   "id": "d3c0aa2b",
   "metadata": {},
   "outputs": [
    {
     "name": "stdout",
     "output_type": "stream",
     "text": [
      "owl:Class rdf:type rdfs:Class\n",
      "owl:Class rdfs:comment \"The class of OWL classes.\"\n",
      "owl:Class rdfs:isDefinedBy <http://www.w3.org/2002/07/owl#>\n",
      "owl:Class rdfs:label \"Class\"\n",
      "owl:Class rdfs:subClassOf rdfs:Class\n"
     ]
    }
   ],
   "source": [
    "from rdflib.namespace import OWL\n",
    "\n",
    "for s, p, o in g.triples((OWL.Class, None, None)):\n",
    "    pprint_terms([s, p, o], g)"
   ]
  },
  {
   "cell_type": "code",
   "execution_count": 23,
   "id": "be86b1a8",
   "metadata": {},
   "outputs": [],
   "source": [
    "from rdflib.namespace import OWL\n",
    "\n",
    "for s, p, o in g.triples((FOAF.Agent, None, None)):\n",
    "    pprint_terms([s, p, o], g)"
   ]
  },
  {
   "cell_type": "code",
   "execution_count": 24,
   "id": "efdfe867",
   "metadata": {},
   "outputs": [
    {
     "name": "stdout",
     "output_type": "stream",
     "text": [
      "http://xmlns.com/foaf/0.1/Agent\n"
     ]
    }
   ],
   "source": [
    "print(FOAF.Agent)"
   ]
  },
  {
   "cell_type": "code",
   "execution_count": 25,
   "id": "cf74c442",
   "metadata": {},
   "outputs": [
    {
     "data": {
      "text/plain": [
       "<Graph identifier=N6cd30e441e9a45fa820edbbec0d335b2 (<class 'rdflib.graph.Graph'>)>"
      ]
     },
     "execution_count": 25,
     "metadata": {},
     "output_type": "execute_result"
    }
   ],
   "source": [
    "g.parse(FOAF.Agent)"
   ]
  },
  {
   "cell_type": "code",
   "execution_count": 26,
   "id": "614c9c33",
   "metadata": {},
   "outputs": [
    {
     "name": "stdout",
     "output_type": "stream",
     "text": [
      "foaf:Agent rdf:type owl:Class\n",
      "foaf:Agent rdf:type rdfs:Class\n",
      "foaf:Agent vs:term_status \"stable\"\n",
      "foaf:Agent rdfs:label \"Agent\"\n",
      "foaf:Agent rdfs:comment \"An agent (eg. person, group, software or physical artifact).\"\n",
      "foaf:Agent owl:equivalentClass dcterms:Agent\n"
     ]
    }
   ],
   "source": [
    "from rdflib.namespace import OWL\n",
    "\n",
    "for s, p, o in g.triples((FOAF.Agent, None, None)):\n",
    "    pprint_terms([s, p, o], g)"
   ]
  },
  {
   "cell_type": "code",
   "execution_count": 27,
   "id": "a87e7901",
   "metadata": {},
   "outputs": [
    {
     "data": {
      "text/plain": [
       "[('xml', rdflib.term.URIRef('http://www.w3.org/XML/1998/namespace')),\n",
       " ('rdf', rdflib.term.URIRef('http://www.w3.org/1999/02/22-rdf-syntax-ns#')),\n",
       " ('rdfs', rdflib.term.URIRef('http://www.w3.org/2000/01/rdf-schema#')),\n",
       " ('xsd', rdflib.term.URIRef('http://www.w3.org/2001/XMLSchema#')),\n",
       " ('nobel', rdflib.term.URIRef('http://data.nobelprize.org/terms/')),\n",
       " ('dc', rdflib.term.URIRef('http://purl.org/dc/elements/1.1/')),\n",
       " ('dcterms', rdflib.term.URIRef('http://purl.org/dc/terms/')),\n",
       " ('owl', rdflib.term.URIRef('http://www.w3.org/2002/07/owl#')),\n",
       " ('role', rdflib.term.URIRef('http://purl.org/role/terms/')),\n",
       " ('foaf', rdflib.term.URIRef('http://xmlns.com/foaf/0.1/')),\n",
       " ('grddl', rdflib.term.URIRef('http://www.w3.org/2003/g/data-view#')),\n",
       " ('vs', rdflib.term.URIRef('http://www.w3.org/2003/06/sw-vocab-status/ns#')),\n",
       " ('wot', rdflib.term.URIRef('http://xmlns.com/wot/0.1/'))]"
      ]
     },
     "execution_count": 27,
     "metadata": {},
     "output_type": "execute_result"
    }
   ],
   "source": [
    "list(g.namespaces())"
   ]
  },
  {
   "cell_type": "markdown",
   "id": "b31c1f21",
   "metadata": {},
   "source": [
    "# 2. representing terminology: RDFS and OWL"
   ]
  },
  {
   "cell_type": "code",
   "execution_count": 28,
   "id": "b6ec0976",
   "metadata": {},
   "outputs": [],
   "source": [
    "def term_in_ns(term, ns):\n",
    "    return str(subj).startswith(str(ns))"
   ]
  },
  {
   "cell_type": "code",
   "execution_count": 29,
   "id": "836c1f80",
   "metadata": {},
   "outputs": [
    {
     "name": "stdout",
     "output_type": "stream",
     "text": [
      "nobel:laureate rdfs:label \"laureate\"\n",
      "nobel:motivation rdfs:label \"motivation\"\n",
      "nobel:motivation rdfs:domain nobel:LaureateAward\n",
      "nobel:year rdfs:domain <http://dbpedia.org/ontology/Award>\n",
      "nobel:sortOrder rdfs:label \"sort order\"\n",
      "nobel:Economic_Sciences rdf:type owl:Thing\n",
      "nobel:Litterature rdf:type owl:Thing\n",
      "nobel:Physics rdfs:label \"Physics\"\n",
      "nobel:Category rdfs:label \"Nobel Prize category\"\n",
      "nobel:motivation rdfs:domain nobel:NobelPrize\n",
      "nobel:laureateAward rdfs:subPropertyOf <http://dbpedia.org/ontology/Award>\n",
      "nobel:share rdfs:label \"share\"\n",
      "nobel:sortOrder rdf:type owl:DatatypeProperty\n",
      "<http://data.nobelprize.org/terms/> rdf:type owl:Ontology\n",
      "nobel:NobelPrize rdfs:seeAlso <http://dbpedia.org/resource/Nobel_Prize>\n",
      "nobel:university rdfs:label \"university\"\n",
      "nobel:Chemistry rdfs:label \"Chemistry\"\n",
      "nobel:university rdfs:comment \"Points to the universities the Laureate was affiliated with during the period he did his contribution that laid the ground for the award.\"\n",
      "nobel:LaureateAward rdfs:subClassOf <http://dbpedia.org/ontology/Award>\n",
      "nobel:category rdfs:label \"category\"\n",
      "nobel:Physics rdf:type owl:Thing\n",
      "nobel:nobelPrize rdfs:label \"nobelPrize\"\n",
      "nobel:Peace rdf:type owl:Thing\n",
      "nobel:laureateAward rdfs:domain nobel:Laureate\n",
      "nobel:Physiology_or_Medicin rdfs:label \"Physiology or Medicin\"\n",
      "nobel:Laureate rdf:type owl:Class\n",
      "<http://data.nobelprize.org/terms/> dcterms:description \"Linked Nobelprizes\"@en\n",
      "nobel:university rdfs:domain nobel:LaureateAward\n",
      "nobel:NobelPrize rdfs:comment \"The Nobel Prize is a set of annual international awards bestowed in a number of categories by Scandinavian committees in recognition of cultural and scientific advances. The will of the Swedish chemist Alfred Nobel, the inventor of dynamite, established the prizes in 1895. The prizes in Physics, Chemistry, Physiology or Medicine, Literature, and Peace were first awarded in 1901. The Peace Prize is awarded in Oslo, Norway, while the other prizes are awarded in Stockholm, Sweden.\"\n",
      "nobel:university rdf:type owl:ObjectProperty\n",
      "<http://data.nobelprize.org/terms/> dcterms:title \"Linked Nobelprizes\"@en\n",
      "nobel:Laureate rdfs:comment \"A laureate is a person or organization who recieves one or several Nobel Prizes.\"\n",
      "nobel:laureateAward rdfs:comment \"Connects each laureate with the part of the Nobel Prize, that is the LaureateAward, he or she recieved.\"\n",
      "nobel:nobelPrize rdf:type owl:ObjectProperty\n",
      "nobel:university rdfs:range <http://dbpedia.org/ontology/University>\n",
      "nobel:category rdfs:range nobel:Category\n",
      "nobel:share rdfs:domain <http://dbpedia.org/ontology/LaureateAward>\n",
      "nobel:sortOrder rdfs:comment \"The sort order of laureates.\"\n",
      "nobel:NobelPrize rdfs:label \"Nobel Prize\"\n",
      "nobel:year rdfs:range xsd:Integer\n",
      "nobel:Litterature rdfs:label \"Litterature\"\n",
      "nobel:laureateAward rdfs:label \"laureateAward\"\n",
      "nobel:year rdfs:comment \"The year a given Nobel Prize was given.\"\n",
      "nobel:NobelPrize rdfs:subClassOf <http://dbpedia.org/ontology/Award>\n",
      "nobel:share rdfs:range xsd:Integer\n",
      "nobel:Physiology_or_Medicin rdf:type owl:Thing\n",
      "nobel:Chemistry rdf:type owl:Thing\n",
      "nobel:motivation rdf:type owl:DatatypeProperty\n",
      "nobel:laureateAward rdf:type owl:ObjectProperty\n",
      "nobel:LaureateAward rdf:type owl:Class\n",
      "nobel:year rdfs:label \"year\"\n",
      "nobel:nobelPrize rdfs:subPropertyOf <http://dbpedia.org/ontology/Award>\n",
      "nobel:share rdf:type owl:DatatypeProperty\n",
      "nobel:sortOrder rdfs:range xsd:Integer\n",
      "nobel:motivation rdfs:comment \"The motivation for why the laureate or was given the Nobel Prize or the motivation for the whole prize.\"\n",
      "<http://data.nobelprize.org/terms/> owl:versionInfo \"version 0.1\"\n",
      "nobel:nobelPrize rdfs:comment \"Points to the Nobel Prize recieved by a Laureate.\"\n",
      "nobel:laureate rdfs:comment \"Which laureates that recieve an award.\"\n",
      "nobel:laureate rdfs:domain nobel:LaureateAward\n",
      "nobel:Laureate rdfs:label \"Laureate\"\n",
      "nobel:laureate rdf:type owl:ObjectProperty\n",
      "nobel:Category rdf:type owl:Class\n",
      "nobel:Peace rdfs:label \"Peace\"\n",
      "nobel:Laureate rdfs:subClassOf foaf:Agent\n",
      "nobel:laureateAward rdfs:range nobel:LaureateAward\n",
      "nobel:nobelPrize rdfs:range nobel:NobelPrize\n",
      "nobel:Category rdfs:subClassOf <http://www.w3.org/2004/02/skos/core#Concept>\n",
      "nobel:category rdf:type owl:ObjectProperty\n",
      "nobel:nobelPrize rdfs:domain nobel:Laureate\n",
      "nobel:share rdfs:comment \"The share of a Nobel Prize given to a Laureate, may be 1, 2, 3 or 4 corresponding to the whole prize, half the prize, third of the priza and a quarter of the prize.\"\n",
      "nobel:laureate rdfs:range nobel:Laureate\n",
      "nobel:Category owl:oneOf _:N04c667f105194fc1aff794ce7870b9d5\n",
      "nobel:LaureateAward rdfs:comment \"The Nobel Prize is often divided to several laureates. LaureateAward captures the details of the award given to each laureate, such as share of the Nobel Prize, motivation etc.\"\n",
      "nobel:LaureateAward rdfs:label \"Laureate Award\"\n",
      "nobel:category rdfs:comment \"The category this Nobel Prize belongs to.\"\n",
      "nobel:motivation rdfs:range rdf:PlainLiteral\n",
      "nobel:NobelPrize rdf:type owl:Class\n",
      "nobel:sortOrder rdfs:domain <http://dbpedia.org/ontology/LaureateAward>\n",
      "nobel:year rdf:type owl:DatatypeProperty\n",
      "nobel:category rdfs:domain nobel:NobelPrize\n",
      "<http://data.nobelprize.org/terms/> rdfs:seeAlso <http://www.nobelprize.org/>\n",
      "nobel:Category rdfs:comment \"The Nobel Prize is given in six different categories.\"\n",
      "nobel:Economic_Sciences rdfs:label \"Economic sciences\"\n"
     ]
    }
   ],
   "source": [
    "from rdflib.namespace import OWL\n",
    "\n",
    "for subj, pred, obj in g:\n",
    "    if term_in_ns(subj, NOBEL):\n",
    "        pprint_terms([subj, pred, obj], g)"
   ]
  },
  {
   "cell_type": "code",
   "execution_count": 30,
   "id": "fd467149",
   "metadata": {},
   "outputs": [
    {
     "name": "stdout",
     "output_type": "stream",
     "text": [
      "nobel:year rdf:type owl:DatatypeProperty\n",
      "nobel:motivation rdf:type owl:DatatypeProperty\n",
      "nobel:share rdf:type owl:DatatypeProperty\n",
      "nobel:sortOrder rdf:type owl:DatatypeProperty\n"
     ]
    }
   ],
   "source": [
    "from rdflib.namespace import OWL\n",
    "\n",
    "datatype_properties = []\n",
    "\n",
    "for subj, pred, obj in g.triples((None, RDF.type, OWL.DatatypeProperty)):\n",
    "    if term_in_ns(subj, NOBEL):\n",
    "        pprint_terms([subj, pred, obj], g)\n",
    "        datatype_properties.append(subj)"
   ]
  },
  {
   "cell_type": "code",
   "execution_count": 31,
   "id": "53ab3e83",
   "metadata": {},
   "outputs": [
    {
     "name": "stdout",
     "output_type": "stream",
     "text": [
      "nobel:year rdf:type owl:DatatypeProperty\n",
      "nobel:year rdfs:label \"year\"\n",
      "nobel:year rdfs:comment \"The year a given Nobel Prize was given.\"\n",
      "nobel:year rdfs:domain <http://dbpedia.org/ontology/Award>\n",
      "nobel:year rdfs:range xsd:Integer\n",
      "\n",
      "nobel:motivation rdf:type owl:DatatypeProperty\n",
      "nobel:motivation rdfs:label \"motivation\"\n",
      "nobel:motivation rdfs:comment \"The motivation for why the laureate or was given the Nobel Prize or the motivation for the whole prize.\"\n",
      "nobel:motivation rdfs:domain nobel:NobelPrize\n",
      "nobel:motivation rdfs:domain nobel:LaureateAward\n",
      "nobel:motivation rdfs:range rdf:PlainLiteral\n",
      "\n",
      "nobel:share rdf:type owl:DatatypeProperty\n",
      "nobel:share rdfs:label \"share\"\n",
      "nobel:share rdfs:comment \"The share of a Nobel Prize given to a Laureate, may be 1, 2, 3 or 4 corresponding to the whole prize, half the prize, third of the priza and a quarter of the prize.\"\n",
      "nobel:share rdfs:domain <http://dbpedia.org/ontology/LaureateAward>\n",
      "nobel:share rdfs:range xsd:Integer\n",
      "\n",
      "nobel:sortOrder rdf:type owl:DatatypeProperty\n",
      "nobel:sortOrder rdfs:label \"sort order\"\n",
      "nobel:sortOrder rdfs:comment \"The sort order of laureates.\"\n",
      "nobel:sortOrder rdfs:domain <http://dbpedia.org/ontology/LaureateAward>\n",
      "nobel:sortOrder rdfs:range xsd:Integer\n",
      "\n"
     ]
    }
   ],
   "source": [
    "for prop in datatype_properties:\n",
    "    for pred, obj in g.predicate_objects(prop):\n",
    "        pprint_terms([prop, pred, obj], g)\n",
    "    print()"
   ]
  },
  {
   "cell_type": "code",
   "execution_count": 32,
   "id": "9381cef4",
   "metadata": {},
   "outputs": [
    {
     "name": "stdout",
     "output_type": "stream",
     "text": [
      "nobel:laureateAward rdf:type owl:ObjectProperty\n",
      "nobel:nobelPrize rdf:type owl:ObjectProperty\n",
      "nobel:category rdf:type owl:ObjectProperty\n",
      "nobel:laureate rdf:type owl:ObjectProperty\n",
      "nobel:university rdf:type owl:ObjectProperty\n"
     ]
    }
   ],
   "source": [
    "from rdflib.namespace import OWL\n",
    "\n",
    "object_properties = []\n",
    "\n",
    "for subj, pred, obj in g.triples((None, RDF.type, OWL.ObjectProperty)):\n",
    "    if term_in_ns(subj, NOBEL):\n",
    "        pprint_terms([subj, pred, obj], g)\n",
    "        object_properties.append(subj)"
   ]
  },
  {
   "cell_type": "code",
   "execution_count": 33,
   "id": "37631f0c",
   "metadata": {},
   "outputs": [
    {
     "name": "stdout",
     "output_type": "stream",
     "text": [
      "nobel:laureateAward rdf:type owl:ObjectProperty\n",
      "nobel:laureateAward rdfs:label \"laureateAward\"\n",
      "nobel:laureateAward rdfs:comment \"Connects each laureate with the part of the Nobel Prize, that is the LaureateAward, he or she recieved.\"\n",
      "nobel:laureateAward rdfs:domain nobel:Laureate\n",
      "nobel:laureateAward rdfs:range nobel:LaureateAward\n",
      "nobel:laureateAward rdfs:subPropertyOf <http://dbpedia.org/ontology/Award>\n",
      "\n",
      "nobel:nobelPrize rdf:type owl:ObjectProperty\n",
      "nobel:nobelPrize rdfs:label \"nobelPrize\"\n",
      "nobel:nobelPrize rdfs:comment \"Points to the Nobel Prize recieved by a Laureate.\"\n",
      "nobel:nobelPrize rdfs:domain nobel:Laureate\n",
      "nobel:nobelPrize rdfs:range nobel:NobelPrize\n",
      "nobel:nobelPrize rdfs:subPropertyOf <http://dbpedia.org/ontology/Award>\n",
      "\n",
      "nobel:category rdf:type owl:ObjectProperty\n",
      "nobel:category rdfs:label \"category\"\n",
      "nobel:category rdfs:comment \"The category this Nobel Prize belongs to.\"\n",
      "nobel:category rdfs:domain nobel:NobelPrize\n",
      "nobel:category rdfs:range nobel:Category\n",
      "\n",
      "nobel:laureate rdf:type owl:ObjectProperty\n",
      "nobel:laureate rdfs:label \"laureate\"\n",
      "nobel:laureate rdfs:comment \"Which laureates that recieve an award.\"\n",
      "nobel:laureate rdfs:domain nobel:LaureateAward\n",
      "nobel:laureate rdfs:range nobel:Laureate\n",
      "\n",
      "nobel:university rdf:type owl:ObjectProperty\n",
      "nobel:university rdfs:label \"university\"\n",
      "nobel:university rdfs:comment \"Points to the universities the Laureate was affiliated with during the period he did his contribution that laid the ground for the award.\"\n",
      "nobel:university rdfs:domain nobel:LaureateAward\n",
      "nobel:university rdfs:range <http://dbpedia.org/ontology/University>\n",
      "\n"
     ]
    }
   ],
   "source": [
    "for prop in object_properties:\n",
    "    for pred, obj in g.predicate_objects(prop):\n",
    "        pprint_terms([prop, pred, obj], g)\n",
    "    print()"
   ]
  },
  {
   "cell_type": "code",
   "execution_count": 34,
   "id": "be4c8d99",
   "metadata": {},
   "outputs": [
    {
     "name": "stdout",
     "output_type": "stream",
     "text": [
      "nobel:NobelPrize rdf:type owl:Class\n",
      "nobel:LaureateAward rdf:type owl:Class\n",
      "nobel:Laureate rdf:type owl:Class\n",
      "nobel:Category rdf:type owl:Class\n"
     ]
    }
   ],
   "source": [
    "from rdflib.namespace import OWL\n",
    "\n",
    "classes = []\n",
    "\n",
    "for subj, pred, obj in g.triples((None, RDF.type, OWL.Class)):\n",
    "    if term_in_ns(subj, NOBEL):\n",
    "        pprint_terms([subj, pred, obj], g)\n",
    "        classes.append(subj)"
   ]
  },
  {
   "cell_type": "code",
   "execution_count": 35,
   "id": "85e37af4",
   "metadata": {},
   "outputs": [
    {
     "name": "stdout",
     "output_type": "stream",
     "text": [
      "nobel:NobelPrize rdf:type owl:Class\n",
      "nobel:NobelPrize rdfs:label \"Nobel Prize\"\n",
      "nobel:NobelPrize rdfs:seeAlso <http://dbpedia.org/resource/Nobel_Prize>\n",
      "nobel:NobelPrize rdfs:comment \"The Nobel Prize is a set of annual international awards bestowed in a number of categories by Scandinavian committees in recognition of cultural and scientific advances. The will of the Swedish chemist Alfred Nobel, the inventor of dynamite, established the prizes in 1895. The prizes in Physics, Chemistry, Physiology or Medicine, Literature, and Peace were first awarded in 1901. The Peace Prize is awarded in Oslo, Norway, while the other prizes are awarded in Stockholm, Sweden.\"\n",
      "nobel:NobelPrize rdfs:subClassOf <http://dbpedia.org/ontology/Award>\n",
      "\n",
      "nobel:LaureateAward rdf:type owl:Class\n",
      "nobel:LaureateAward rdfs:label \"Laureate Award\"\n",
      "nobel:LaureateAward rdfs:comment \"The Nobel Prize is often divided to several laureates. LaureateAward captures the details of the award given to each laureate, such as share of the Nobel Prize, motivation etc.\"\n",
      "nobel:LaureateAward rdfs:subClassOf <http://dbpedia.org/ontology/Award>\n",
      "\n",
      "nobel:Laureate rdf:type owl:Class\n",
      "nobel:Laureate rdfs:label \"Laureate\"\n",
      "nobel:Laureate rdfs:comment \"A laureate is a person or organization who recieves one or several Nobel Prizes.\"\n",
      "nobel:Laureate rdfs:subClassOf foaf:Agent\n",
      "\n",
      "nobel:Category rdf:type owl:Class\n",
      "nobel:Category rdfs:label \"Nobel Prize category\"\n",
      "nobel:Category rdfs:comment \"The Nobel Prize is given in six different categories.\"\n",
      "nobel:Category rdfs:subClassOf <http://www.w3.org/2004/02/skos/core#Concept>\n",
      "nobel:Category owl:oneOf _:N04c667f105194fc1aff794ce7870b9d5\n",
      "\n"
     ]
    }
   ],
   "source": [
    "for cls in classes:\n",
    "    for pred, obj in g.predicate_objects(cls):\n",
    "        pprint_terms([cls, pred, obj], g)\n",
    "    print()"
   ]
  },
  {
   "cell_type": "code",
   "execution_count": 36,
   "id": "f1164ec3",
   "metadata": {},
   "outputs": [],
   "source": [
    "categories = next(g.objects(NOBEL.Category, OWL.oneOf))"
   ]
  },
  {
   "cell_type": "code",
   "execution_count": 37,
   "id": "16ad8c6c",
   "metadata": {},
   "outputs": [
    {
     "name": "stdout",
     "output_type": "stream",
     "text": [
      "rdf:first nobel:Chemistry\n",
      "rdf:rest _:N9afe345f8441485faab1b2ce4aaabb5e\n"
     ]
    }
   ],
   "source": [
    "from rdflib.term import BNode\n",
    "\n",
    "for p, o in g.predicate_objects(categories):\n",
    "    pprint_terms([p,o], g)"
   ]
  },
  {
   "cell_type": "code",
   "execution_count": 38,
   "id": "762c3814",
   "metadata": {},
   "outputs": [
    {
     "name": "stdout",
     "output_type": "stream",
     "text": [
      "rdf:type rdf:Property\n",
      "rdfs:comment \"The property that determines the collection of individuals or data values that build an enumeration.\"\n",
      "rdfs:domain rdfs:Class\n",
      "rdfs:isDefinedBy <http://www.w3.org/2002/07/owl#>\n",
      "rdfs:label \"oneOf\"\n",
      "rdfs:range rdf:List\n"
     ]
    }
   ],
   "source": [
    "for p, o in g.predicate_objects(OWL.oneOf):\n",
    "    pprint_terms([p,o], g)"
   ]
  },
  {
   "cell_type": "code",
   "execution_count": 39,
   "id": "045472e2",
   "metadata": {},
   "outputs": [
    {
     "data": {
      "text/plain": [
       "<Graph identifier=N6cd30e441e9a45fa820edbbec0d335b2 (<class 'rdflib.graph.Graph'>)>"
      ]
     },
     "execution_count": 39,
     "metadata": {},
     "output_type": "execute_result"
    }
   ],
   "source": [
    "g.parse(OWL.oneOf)"
   ]
  },
  {
   "cell_type": "code",
   "execution_count": 40,
   "id": "454058d5",
   "metadata": {},
   "outputs": [
    {
     "name": "stdout",
     "output_type": "stream",
     "text": [
      "rdf:type rdf:Property\n",
      "rdfs:comment \"The property that determines the collection of individuals or data values that build an enumeration.\"\n",
      "rdfs:domain rdfs:Class\n",
      "rdfs:isDefinedBy <http://www.w3.org/2002/07/owl#>\n",
      "rdfs:label \"oneOf\"\n",
      "rdfs:range rdf:List\n"
     ]
    }
   ],
   "source": [
    "for p, o in g.predicate_objects(OWL.oneOf):\n",
    "    pprint_terms([p,o], g)"
   ]
  },
  {
   "cell_type": "code",
   "execution_count": 41,
   "id": "3703798a",
   "metadata": {},
   "outputs": [
    {
     "name": "stdout",
     "output_type": "stream",
     "text": [
      "816K\tdata/02-nobelprize-data-enriched.nt.gz\r\n"
     ]
    }
   ],
   "source": [
    "g.serialize(\"data/02-nobelprize-data-enriched.nt\", format=\"nt\")\n",
    "!gzip -f data/02-nobelprize-data-enriched.nt\n",
    "!du -h data/02-nobelprize-data-enriched.nt.gz"
   ]
  },
  {
   "cell_type": "markdown",
   "id": "74227f7b",
   "metadata": {},
   "source": [
    "# 3. knowledge graph search: SPARQL"
   ]
  },
  {
   "cell_type": "markdown",
   "id": "90ecc5c5",
   "metadata": {},
   "source": [
    "What information is there for laureates?"
   ]
  },
  {
   "cell_type": "code",
   "execution_count": 42,
   "id": "9d332a9f",
   "metadata": {},
   "outputs": [],
   "source": [
    "import gzip\n",
    "\n",
    "from rdflib import Graph\n",
    "\n",
    "g = Graph()\n",
    "\n",
    "with gzip.open(\"data/02-nobelprize-data-enriched.nt.gz\") as f:\n",
    "    g.parse(f.read())"
   ]
  },
  {
   "cell_type": "code",
   "execution_count": 43,
   "id": "5cc88539",
   "metadata": {},
   "outputs": [],
   "source": [
    "from rdflib.plugins.sparql import prepareQuery\n",
    "\n",
    "q = prepareQuery(\"\"\"\n",
    "    SELECT ?s ?p ?o WHERE {\n",
    "        ?s a nobel:Laureate .\n",
    "        ?s ?p ?o .\n",
    "    }\n",
    "\"\"\", initNs={\"nobel\": NOBEL})"
   ]
  },
  {
   "cell_type": "code",
   "execution_count": 44,
   "id": "052d2e40",
   "metadata": {},
   "outputs": [
    {
     "name": "stdout",
     "output_type": "stream",
     "text": [
      "<http://data.nobelprize.org/resource/laureate/82> rdf:type <http://data.nobelprize.org/terms/Laureate>\n",
      "<http://data.nobelprize.org/resource/laureate/82> rdf:type <http://xmlns.com/foaf/0.1/Person>\n",
      "<http://data.nobelprize.org/resource/laureate/82> rdfs:label \"Nicolay Gennadiyevich Basov\"\n",
      "<http://data.nobelprize.org/resource/laureate/82> <http://xmlns.com/foaf/0.1/givenName> \"Nicolay G.\"\n",
      "<http://data.nobelprize.org/resource/laureate/82> <http://dbpedia.org/ontology/birthPlace> <http://data.nobelprize.org/resource/city/Usman>\n",
      "<http://data.nobelprize.org/resource/laureate/82> <http://dbpedia.org/ontology/birthPlace> <http://data.nobelprize.org/resource/country/Russia>\n",
      "<http://data.nobelprize.org/resource/laureate/82> <http://dbpedia.org/ontology/birthPlace> <http://data.nobelprize.org/resource/country/USSR>\n",
      "<http://data.nobelprize.org/resource/laureate/82> <http://data.nobelprize.org/terms/laureateAward> <http://data.nobelprize.org/resource/laureateaward/Physics/1964/82>\n",
      "<http://data.nobelprize.org/resource/laureate/82> <http://www.w3.org/2002/07/owl#sameAs> <http://www.wikidata.org/entity/Q83557>\n",
      "<http://data.nobelprize.org/resource/laureate/82> <http://www.w3.org/2002/07/owl#sameAs> _:nc9e8888454b9464b8a6b3fb8ff4edb7db958\n",
      "<http://data.nobelprize.org/resource/laureate/82> <http://dbpedia.org/property/dateOfDeath> \"2001-07-01\"^^xsd:date\n",
      "<http://data.nobelprize.org/resource/laureate/82> <http://data.nobelprize.org/terms/nobelPrize> <http://data.nobelprize.org/resource/nobelprize/Physics/1964>\n",
      "<http://data.nobelprize.org/resource/laureate/82> <http://xmlns.com/foaf/0.1/gender> \"male\"\n",
      "<http://data.nobelprize.org/resource/laureate/82> <http://dbpedia.org/ontology/deathPlace> <http://data.nobelprize.org/resource/city/Moscow>\n",
      "<http://data.nobelprize.org/resource/laureate/82> <http://dbpedia.org/ontology/deathPlace> <http://data.nobelprize.org/resource/country/Russia>\n",
      "<http://data.nobelprize.org/resource/laureate/82> <http://dbpedia.org/ontology/affiliation> <http://data.nobelprize.org/resource/university/P.N._Lebedev_Physical_Institute>\n",
      "<http://data.nobelprize.org/resource/laureate/82> <http://xmlns.com/foaf/0.1/name> \"Nicolay G. Basov\"\n",
      "<http://data.nobelprize.org/resource/laureate/82> <http://xmlns.com/foaf/0.1/familyName> \"Basov\"\n",
      "<http://data.nobelprize.org/resource/laureate/82> <http://xmlns.com/foaf/0.1/birthday> \"1922-12-14\"^^xsd:date\n",
      "<http://data.nobelprize.org/resource/laureate/82> <http://dbpedia.org/property/dateOfBirth> \"1922-12-14\"^^xsd:date\n",
      "<http://data.nobelprize.org/resource/laureate/481> rdf:type <http://data.nobelprize.org/terms/Laureate>\n",
      "<http://data.nobelprize.org/resource/laureate/481> rdf:type <http://xmlns.com/foaf/0.1/Person>\n",
      "<http://data.nobelprize.org/resource/laureate/481> <http://xmlns.com/foaf/0.1/familyName> \"La Fontaine\"\n",
      "<http://data.nobelprize.org/resource/laureate/481> <http://www.w3.org/2002/07/owl#sameAs> _:nc9e8888454b9464b8a6b3fb8ff4edb7db539\n",
      "<http://data.nobelprize.org/resource/laureate/481> <http://www.w3.org/2002/07/owl#sameAs> <http://www.wikidata.org/entity/Q190894>\n",
      "<http://data.nobelprize.org/resource/laureate/481> <http://xmlns.com/foaf/0.1/givenName> \"Henri\"\n",
      "<http://data.nobelprize.org/resource/laureate/481> <http://data.nobelprize.org/terms/laureateAward> <http://data.nobelprize.org/resource/laureateaward/Peace/1913/481>\n",
      "<http://data.nobelprize.org/resource/laureate/481> <http://dbpedia.org/ontology/deathPlace> <http://data.nobelprize.org/resource/country/Belgium>\n",
      "<http://data.nobelprize.org/resource/laureate/481> <http://dbpedia.org/ontology/deathPlace> <http://data.nobelprize.org/resource/city/Brussels>\n",
      "<http://data.nobelprize.org/resource/laureate/481> <http://xmlns.com/foaf/0.1/birthday> \"1854-04-22\"^^xsd:date\n",
      "<http://data.nobelprize.org/resource/laureate/481> <http://dbpedia.org/ontology/birthPlace> <http://data.nobelprize.org/resource/country/Belgium>\n",
      "<http://data.nobelprize.org/resource/laureate/481> <http://dbpedia.org/ontology/birthPlace> <http://data.nobelprize.org/resource/city/Brussels>\n",
      "<http://data.nobelprize.org/resource/laureate/481> <http://dbpedia.org/property/dateOfDeath> \"1943-05-14\"^^xsd:date\n",
      "<http://data.nobelprize.org/resource/laureate/481> <http://xmlns.com/foaf/0.1/name> \"Henri La Fontaine\"\n",
      "<http://data.nobelprize.org/resource/laureate/481> rdfs:label \"Henri La Fontaine\"\n",
      "<http://data.nobelprize.org/resource/laureate/481> <http://data.nobelprize.org/terms/nobelPrize> <http://data.nobelprize.org/resource/nobelprize/Peace/1913>\n",
      "<http://data.nobelprize.org/resource/laureate/481> <http://dbpedia.org/property/dateOfBirth> \"1854-04-22\"^^xsd:date\n",
      "<http://data.nobelprize.org/resource/laureate/481> <http://xmlns.com/foaf/0.1/gender> \"male\"\n",
      "<http://data.nobelprize.org/resource/laureate/317> <http://xmlns.com/foaf/0.1/gender> \"male\"\n",
      "<http://data.nobelprize.org/resource/laureate/317> rdf:type <http://data.nobelprize.org/terms/Laureate>\n",
      "<http://data.nobelprize.org/resource/laureate/317> rdf:type <http://xmlns.com/foaf/0.1/Person>\n",
      "<http://data.nobelprize.org/resource/laureate/317> <http://data.nobelprize.org/terms/laureateAward> <http://data.nobelprize.org/resource/laureateaward/Physiology_or_Medicine/1927/317>\n",
      "<http://data.nobelprize.org/resource/laureate/317> <http://dbpedia.org/property/dateOfDeath> \"1940-09-27\"^^xsd:date\n",
      "<http://data.nobelprize.org/resource/laureate/317> rdfs:label \"Julius Wagner-Jauregg\"\n",
      "<http://data.nobelprize.org/resource/laureate/317> <http://dbpedia.org/ontology/deathPlace> <http://data.nobelprize.org/resource/country/Austria>\n",
      "<http://data.nobelprize.org/resource/laureate/317> <http://dbpedia.org/ontology/deathPlace> <http://data.nobelprize.org/resource/city/Vienna>\n",
      "<http://data.nobelprize.org/resource/laureate/317> <http://xmlns.com/foaf/0.1/familyName> \"Wagner-Jauregg\"\n",
      "<http://data.nobelprize.org/resource/laureate/317> <http://dbpedia.org/ontology/affiliation> <http://data.nobelprize.org/resource/university/Vienna_University>\n",
      "<http://data.nobelprize.org/resource/laureate/317> <http://dbpedia.org/ontology/birthPlace> <http://data.nobelprize.org/resource/city/Wels>\n",
      "<http://data.nobelprize.org/resource/laureate/317> <http://dbpedia.org/ontology/birthPlace> <http://data.nobelprize.org/resource/country/Austria>\n",
      "<http://data.nobelprize.org/resource/laureate/317> <http://xmlns.com/foaf/0.1/givenName> \"Julius\"\n",
      "<http://data.nobelprize.org/resource/laureate/317> <http://dbpedia.org/property/dateOfBirth> \"1857-03-07\"^^xsd:date\n",
      "<http://data.nobelprize.org/resource/laureate/317> <http://data.nobelprize.org/terms/nobelPrize> <http://data.nobelprize.org/resource/nobelprize/Physiology_or_Medicine/1927>\n",
      "<http://data.nobelprize.org/resource/laureate/317> <http://xmlns.com/foaf/0.1/birthday> \"1857-03-07\"^^xsd:date\n",
      "<http://data.nobelprize.org/resource/laureate/317> <http://www.w3.org/2002/07/owl#sameAs> <http://www.wikidata.org/entity/Q78479>\n",
      "<http://data.nobelprize.org/resource/laureate/317> <http://www.w3.org/2002/07/owl#sameAs> _:nc9e8888454b9464b8a6b3fb8ff4edb7db1878\n",
      "<http://data.nobelprize.org/resource/laureate/317> <http://xmlns.com/foaf/0.1/name> \"Julius Wagner-Jauregg\"\n",
      "<http://data.nobelprize.org/resource/laureate/197> rdf:type <http://data.nobelprize.org/terms/Laureate>\n",
      "<http://data.nobelprize.org/resource/laureate/197> rdf:type <http://xmlns.com/foaf/0.1/Person>\n",
      "<http://data.nobelprize.org/resource/laureate/197> <http://www.w3.org/2002/07/owl#sameAs> <http://www.wikidata.org/entity/Q73093>\n",
      "<http://data.nobelprize.org/resource/laureate/197> <http://www.w3.org/2002/07/owl#sameAs> _:nc9e8888454b9464b8a6b3fb8ff4edb7db998\n",
      "<http://data.nobelprize.org/resource/laureate/197> <http://dbpedia.org/ontology/birthPlace> <http://data.nobelprize.org/resource/city/Moscow>\n",
      "<http://data.nobelprize.org/resource/laureate/197> <http://dbpedia.org/ontology/birthPlace> <http://data.nobelprize.org/resource/country/Russia>\n",
      "<http://data.nobelprize.org/resource/laureate/197> <http://xmlns.com/foaf/0.1/name> \"Paul Karrer\"\n",
      "<http://data.nobelprize.org/resource/laureate/197> <http://dbpedia.org/property/dateOfDeath> \"1971-06-18\"^^xsd:date\n",
      "<http://data.nobelprize.org/resource/laureate/197> rdfs:label \"Paul Karrer\"\n",
      "<http://data.nobelprize.org/resource/laureate/197> <http://xmlns.com/foaf/0.1/gender> \"male\"\n",
      "<http://data.nobelprize.org/resource/laureate/197> <http://data.nobelprize.org/terms/laureateAward> <http://data.nobelprize.org/resource/laureateaward/Chemistry/1937/197>\n",
      "<http://data.nobelprize.org/resource/laureate/197> <http://xmlns.com/foaf/0.1/familyName> \"Karrer\"\n",
      "<http://data.nobelprize.org/resource/laureate/197> <http://xmlns.com/foaf/0.1/givenName> \"Paul\"\n",
      "<http://data.nobelprize.org/resource/laureate/197> <http://dbpedia.org/ontology/deathPlace> <http://data.nobelprize.org/resource/country/Switzerland>\n",
      "<http://data.nobelprize.org/resource/laureate/197> <http://dbpedia.org/ontology/deathPlace> <http://data.nobelprize.org/resource/city/Zurich>\n",
      "<http://data.nobelprize.org/resource/laureate/197> <http://xmlns.com/foaf/0.1/birthday> \"1889-04-21\"^^xsd:date\n",
      "<http://data.nobelprize.org/resource/laureate/197> <http://dbpedia.org/property/dateOfBirth> \"1889-04-21\"^^xsd:date\n",
      "<http://data.nobelprize.org/resource/laureate/197> <http://dbpedia.org/ontology/affiliation> <http://data.nobelprize.org/resource/university/University_of_Zurich>\n",
      "<http://data.nobelprize.org/resource/laureate/197> <http://data.nobelprize.org/terms/nobelPrize> <http://data.nobelprize.org/resource/nobelprize/Chemistry/1937>\n",
      "<http://data.nobelprize.org/resource/laureate/63> <http://dbpedia.org/ontology/birthPlace> <http://data.nobelprize.org/resource/country/USA>\n",
      "<http://data.nobelprize.org/resource/laureate/63> <http://dbpedia.org/ontology/birthPlace> <http://data.nobelprize.org/resource/city/Los_Angeles%2C_CA>\n",
      "<http://data.nobelprize.org/resource/laureate/63> rdf:type <http://data.nobelprize.org/terms/Laureate>\n",
      "<http://data.nobelprize.org/resource/laureate/63> rdf:type <http://xmlns.com/foaf/0.1/Person>\n",
      "<http://data.nobelprize.org/resource/laureate/63> <http://xmlns.com/foaf/0.1/name> \"Willis E. Lamb\"\n",
      "<http://data.nobelprize.org/resource/laureate/63> rdfs:label \"Willis Eugene Lamb\"\n",
      "<http://data.nobelprize.org/resource/laureate/63> <http://www.w3.org/2002/07/owl#sameAs> <http://www.wikidata.org/entity/Q186497>\n",
      "<http://data.nobelprize.org/resource/laureate/63> <http://www.w3.org/2002/07/owl#sameAs> _:nc9e8888454b9464b8a6b3fb8ff4edb7db1430\n",
      "<http://data.nobelprize.org/resource/laureate/63> <http://data.nobelprize.org/terms/nobelPrize> <http://data.nobelprize.org/resource/nobelprize/Physics/1955>\n",
      "<http://data.nobelprize.org/resource/laureate/63> <http://dbpedia.org/property/dateOfDeath> \"2008-05-15\"^^xsd:date\n",
      "<http://data.nobelprize.org/resource/laureate/63> <http://dbpedia.org/ontology/deathPlace> <http://data.nobelprize.org/resource/country/USA>\n",
      "<http://data.nobelprize.org/resource/laureate/63> <http://dbpedia.org/ontology/deathPlace> <http://data.nobelprize.org/resource/city/Tucson%2C_AZ>\n",
      "<http://data.nobelprize.org/resource/laureate/63> <http://xmlns.com/foaf/0.1/familyName> \"Lamb\"\n",
      "<http://data.nobelprize.org/resource/laureate/63> <http://xmlns.com/foaf/0.1/birthday> \"1913-07-12\"^^xsd:date\n",
      "<http://data.nobelprize.org/resource/laureate/63> <http://dbpedia.org/property/dateOfBirth> \"1913-07-12\"^^xsd:date\n",
      "<http://data.nobelprize.org/resource/laureate/63> <http://data.nobelprize.org/terms/laureateAward> <http://data.nobelprize.org/resource/laureateaward/Physics/1955/63>\n",
      "<http://data.nobelprize.org/resource/laureate/63> <http://xmlns.com/foaf/0.1/givenName> \"Willis E.\"\n",
      "<http://data.nobelprize.org/resource/laureate/63> <http://dbpedia.org/ontology/affiliation> <http://data.nobelprize.org/resource/university/Stanford_University>\n",
      "<http://data.nobelprize.org/resource/laureate/63> <http://xmlns.com/foaf/0.1/gender> \"male\"\n",
      "<http://data.nobelprize.org/resource/laureate/208> <http://dbpedia.org/property/dateOfBirth> \"1902-08-10\"^^xsd:date\n",
      "<http://data.nobelprize.org/resource/laureate/208> rdf:type <http://data.nobelprize.org/terms/Laureate>\n",
      "<http://data.nobelprize.org/resource/laureate/208> rdf:type <http://xmlns.com/foaf/0.1/Person>\n",
      "<http://data.nobelprize.org/resource/laureate/208> <http://dbpedia.org/property/dateOfDeath> \"1971-10-29\"^^xsd:date\n",
      "<http://data.nobelprize.org/resource/laureate/208> <http://dbpedia.org/ontology/deathPlace> <http://data.nobelprize.org/resource/city/Uppsala>\n"
     ]
    }
   ],
   "source": [
    "for row in take(100, g.query(q)):\n",
    "    pprint_terms(row, g)"
   ]
  },
  {
   "cell_type": "code",
   "execution_count": 45,
   "id": "8fb36b66",
   "metadata": {},
   "outputs": [],
   "source": [
    "DBO = Namespace(\"http://dbpedia.org/ontology/\")"
   ]
  },
  {
   "cell_type": "code",
   "execution_count": 46,
   "id": "4ac286c3",
   "metadata": {},
   "outputs": [],
   "source": [
    "def prepQ(q: str):\n",
    "    return prepareQuery(q, initNs={\"nobel\": NOBEL, \"dbo\": DBO})"
   ]
  },
  {
   "cell_type": "code",
   "execution_count": 47,
   "id": "bacb4dca",
   "metadata": {},
   "outputs": [],
   "source": [
    "g.namespace_manager.bind(\"laureate\", Namespace(\"http://data.nobelprize.org/resource/laureate/\"))\n",
    "g.namespace_manager.bind(\"country\", Namespace(\"http://data.nobelprize.org/resource/country/\"))\n",
    "g.namespace_manager.bind(\"city\", Namespace(\"http://data.nobelprize.org/resource/city/\"))\n",
    "g.namespace_manager.bind(\"university\", Namespace(\"http://data.nobelprize.org/resource/university/\"))\n",
    "g.namespace_manager.bind(\"dpb\", Namespace(\"http://dbpedia.org/property/\"))\n",
    "g.namespace_manager.bind(\"dbo\", DBO)\n",
    "g.namespace_manager.bind(\"nobel\", NOBEL)\n",
    "g.namespace_manager.bind(\"foaf\", FOAF)"
   ]
  },
  {
   "cell_type": "markdown",
   "id": "1ecc17ba",
   "metadata": {},
   "source": [
    "What fraction of laureates are affiliated with an institution in a country that is not in their country of birth?"
   ]
  },
  {
   "cell_type": "code",
   "execution_count": 48,
   "id": "250c32b7",
   "metadata": {},
   "outputs": [
    {
     "name": "stdout",
     "output_type": "stream",
     "text": [
      "\"1052\"^^xsd:integer\n"
     ]
    }
   ],
   "source": [
    "q = prepQ(\"\"\"\n",
    "    SELECT (COUNT(?laureate) as ?nlaureates) WHERE {\n",
    "        ?laureate a nobel:Laureate .\n",
    "        \n",
    "        ?laureate dbo:birthPlace ?bcountry .\n",
    "        ?bcountry a dbo:Country .\n",
    "    }\n",
    "\"\"\")\n",
    "\n",
    "for row in g.query(q):\n",
    "    pprint_terms(row, g)"
   ]
  },
  {
   "cell_type": "code",
   "execution_count": 49,
   "id": "c3c49f40",
   "metadata": {},
   "outputs": [
    {
     "name": "stdout",
     "output_type": "stream",
     "text": [
      "\"785\"^^xsd:integer\n"
     ]
    }
   ],
   "source": [
    "q = prepQ(\"\"\"\n",
    "    SELECT (COUNT(?laureate) as ?nlaureates) WHERE {\n",
    "        ?laureate a nobel:Laureate .\n",
    "        \n",
    "        ?laureate dbo:affiliation ?institution .\n",
    "        ?institution dbo:country ?icountry .\n",
    "        ?icountry a dbo:Country .\n",
    "    }\n",
    "\"\"\")\n",
    "\n",
    "for row in g.query(q):\n",
    "    pprint_terms(row, g)"
   ]
  },
  {
   "cell_type": "code",
   "execution_count": 50,
   "id": "481b8543",
   "metadata": {},
   "outputs": [
    {
     "name": "stdout",
     "output_type": "stream",
     "text": [
      "\"889\"^^xsd:integer\n"
     ]
    }
   ],
   "source": [
    "q = prepQ(\"\"\"\n",
    "    SELECT (COUNT(?laureate) as ?nlaureates) WHERE {\n",
    "        ?laureate a nobel:Laureate .\n",
    "\n",
    "        ?laureate dbo:birthPlace ?bcountry .\n",
    "        ?bcountry a dbo:Country .\n",
    "        \n",
    "        ?laureate dbo:affiliation ?institution .\n",
    "        ?institution dbo:country ?icountry .\n",
    "    }\n",
    "\"\"\")\n",
    "\n",
    "for row in g.query(q):\n",
    "    pprint_terms(row, g)\n"
   ]
  },
  {
   "cell_type": "code",
   "execution_count": 51,
   "id": "6ef55734",
   "metadata": {},
   "outputs": [
    {
     "name": "stdout",
     "output_type": "stream",
     "text": [
      "\"525\"^^xsd:integer\n"
     ]
    }
   ],
   "source": [
    "q = prepQ(\"\"\"\n",
    "    SELECT (COUNT(?laureate) as ?nlaureates) WHERE {\n",
    "        ?laureate a nobel:Laureate .\n",
    "\n",
    "        ?laureate dbo:birthPlace ?bcountry .\n",
    "        ?bcountry a dbo:Country .\n",
    "        \n",
    "        ?laureate dbo:affiliation ?institution .\n",
    "        ?institution dbo:country ?icountry .\n",
    "        \n",
    "        FILTER(sameTerm(?bcountry,?icountry))\n",
    "    }\n",
    "\"\"\")\n",
    "\n",
    "for row in g.query(q):\n",
    "    pprint_terms(row, g)"
   ]
  },
  {
   "cell_type": "code",
   "execution_count": 52,
   "id": "2e6e0b6d",
   "metadata": {},
   "outputs": [
    {
     "name": "stdout",
     "output_type": "stream",
     "text": [
      "\"364\"^^xsd:integer\n"
     ]
    }
   ],
   "source": [
    "q = prepQ(\"\"\"\n",
    "    SELECT (COUNT(?laureate) as ?nlaureates) WHERE {\n",
    "        ?laureate a nobel:Laureate .\n",
    "\n",
    "        ?laureate dbo:birthPlace ?bcountry .\n",
    "        ?bcountry a dbo:Country .\n",
    "        \n",
    "        ?laureate dbo:affiliation ?institution .\n",
    "        ?institution dbo:country ?icountry .\n",
    "        \n",
    "        FILTER(!sameTerm(?bcountry,?icountry))\n",
    "    }\n",
    "\"\"\")\n",
    "\n",
    "for row in g.query(q):\n",
    "    pprint_terms(row, g)"
   ]
  },
  {
   "cell_type": "code",
   "execution_count": 53,
   "id": "ca43f370",
   "metadata": {},
   "outputs": [
    {
     "data": {
      "text/plain": [
       "True"
      ]
     },
     "execution_count": 53,
     "metadata": {},
     "output_type": "execute_result"
    }
   ],
   "source": [
    "525 + 364 == 889"
   ]
  },
  {
   "cell_type": "code",
   "execution_count": 54,
   "id": "ec0e3e58",
   "metadata": {},
   "outputs": [
    {
     "data": {
      "text/plain": [
       "'40.9%'"
      ]
     },
     "execution_count": 54,
     "metadata": {},
     "output_type": "execute_result"
    }
   ],
   "source": [
    "def as_pct(numer, denom):\n",
    "    return f\"{numer/denom:.1%}\"\n",
    "\n",
    "as_pct(364, 889)"
   ]
  },
  {
   "cell_type": "code",
   "execution_count": 55,
   "id": "4ac24e06",
   "metadata": {},
   "outputs": [
    {
     "name": "stdout",
     "output_type": "stream",
     "text": [
      "\n",
      "    PREFIX nobel: <http://data.nobelprize.org/terms/>\n",
      "    PREFIX dbo: <http://dbpedia.org/ontology/>\n",
      "    \n",
      "    SELECT (COUNT(?laureate) as ?nlaureates) ?icountry ?bcountry WHERE {\n",
      "        ?laureate a nobel:Laureate .\n",
      "\n",
      "        ?laureate dbo:birthPlace ?bcountry .\n",
      "        ?bcountry a dbo:Country .\n",
      "        \n",
      "        ?laureate dbo:affiliation ?institution .\n",
      "        ?institution dbo:country ?icountry .\n",
      "        \n",
      "        FILTER(!sameTerm(?bcountry,?icountry))\n",
      "    }\n",
      "    GROUP BY ?icountry ?bcountry\n",
      "    ORDER BY DESC(?nlaureates)\n",
      "    LIMIT 5\n",
      "\n"
     ]
    }
   ],
   "source": [
    "print(f\"\"\"\n",
    "    PREFIX nobel: <{NOBEL}>\n",
    "    PREFIX dbo: <{DBO}>\n",
    "    \n",
    "    SELECT (COUNT(?laureate) as ?nlaureates) ?icountry ?bcountry WHERE {{\n",
    "        ?laureate a nobel:Laureate .\n",
    "\n",
    "        ?laureate dbo:birthPlace ?bcountry .\n",
    "        ?bcountry a dbo:Country .\n",
    "        \n",
    "        ?laureate dbo:affiliation ?institution .\n",
    "        ?institution dbo:country ?icountry .\n",
    "        \n",
    "        FILTER(!sameTerm(?bcountry,?icountry))\n",
    "    }}\n",
    "    GROUP BY ?icountry ?bcountry\n",
    "    ORDER BY DESC(?nlaureates)\n",
    "    LIMIT 5\n",
    "\"\"\")"
   ]
  },
  {
   "cell_type": "code",
   "execution_count": 56,
   "id": "b0e4bdf2",
   "metadata": {},
   "outputs": [
    {
     "name": "stdout",
     "output_type": "stream",
     "text": [
      "\"21\"^^xsd:integer country:USA country:Germany\n",
      "\"18\"^^xsd:integer country:USA country:United_Kingdom\n",
      "\"14\"^^xsd:integer country:USA country:Canada\n",
      "\"11\"^^xsd:integer country:USSR country:Russia\n",
      "\"11\"^^xsd:integer country:Germany country:Poland\n"
     ]
    }
   ],
   "source": [
    "q = prepareQuery(f\"\"\"\n",
    "    PREFIX nobel: <{NOBEL}>\n",
    "    PREFIX dbo: <{DBO}>\n",
    "    \n",
    "    SELECT (COUNT(?laureate) as ?nlaureates) ?icountry ?bcountry WHERE {{\n",
    "        ?laureate a nobel:Laureate .\n",
    "\n",
    "        ?laureate dbo:birthPlace ?bcountry .\n",
    "        ?bcountry a dbo:Country .\n",
    "        \n",
    "        ?laureate dbo:affiliation ?institution .\n",
    "        ?institution dbo:country ?icountry .\n",
    "        \n",
    "        FILTER(!sameTerm(?bcountry,?icountry))\n",
    "    }}\n",
    "    GROUP BY ?icountry ?bcountry\n",
    "    ORDER BY DESC(?nlaureates)\n",
    "    LIMIT 5\n",
    "\"\"\")\n",
    "\n",
    "for row in g.query(q):\n",
    "    pprint_terms(row, g)"
   ]
  },
  {
   "cell_type": "markdown",
   "id": "fa6652ac",
   "metadata": {},
   "source": [
    "# 4.  Representing entities: collections and JSON documents"
   ]
  },
  {
   "cell_type": "markdown",
   "id": "ee46d243",
   "metadata": {},
   "source": [
    "make collections for\n",
    "- nobel:NobelPrize\n",
    "- nobel:LaureateAward\n",
    "- nobel:Laureate\n",
    "- nobel:Category\n",
    "- Institutions (objects of dbo:affiliation triples)\n",
    "- Countries (objects of dbo:country triples)"
   ]
  },
  {
   "cell_type": "code",
   "execution_count": 57,
   "id": "b06f99ca",
   "metadata": {},
   "outputs": [],
   "source": [
    "from collections import defaultdict\n",
    "\n",
    "class_collection = {\n",
    "    \"nobel:NobelPrize\": \"nobel_prizes\",\n",
    "    \"nobel:LaureateAward\": \"laureate_awards\",\n",
    "    \"nobel:Laureate\": \"laureates\",\n",
    "    \"nobel:Category\": \"categories\",\n",
    "}\n",
    "\n",
    "database = defaultdict(lambda: defaultdict(dict))\n",
    "\n",
    "for cls, collection in class_collection.items():\n",
    "    q = prepareQuery(f\"\"\"\n",
    "        SELECT ?sub ?pred ?obj WHERE {{\n",
    "            ?sub a {cls} .\n",
    "            ?sub ?pred ?obj\n",
    "        }}\n",
    "    \"\"\", initNs={\"nobel\": NOBEL})\n",
    "\n",
    "    for row in g.query(q):\n",
    "        sub, pred, obj = row\n",
    "        database[collection][sub][pred] = obj"
   ]
  },
  {
   "cell_type": "code",
   "execution_count": 58,
   "id": "36be670d",
   "metadata": {},
   "outputs": [],
   "source": [
    "q = prepareQuery(\"\"\"\n",
    "    SELECT ?institution ?pred ?obj WHERE {\n",
    "        ?sub dbo:affiliation  ?institution .\n",
    "        ?institution ?pred ?obj\n",
    "    }\n",
    "\"\"\", initNs={\"nobel\": NOBEL, \"dbo\": DBO})\n",
    "\n",
    "for row in g.query(q):\n",
    "    sub, pred, obj = row\n",
    "    database[\"institutions\"][sub][pred] = obj"
   ]
  },
  {
   "cell_type": "code",
   "execution_count": 59,
   "id": "5eb7d2fc",
   "metadata": {},
   "outputs": [],
   "source": [
    "individual_countries = set()\n",
    "\n",
    "q = prepareQuery(\"\"\"\n",
    "    SELECT DISTINCT ?country WHERE {\n",
    "        ?sub dbo:country  ?country .\n",
    "    }\n",
    "\"\"\", initNs={\"nobel\": NOBEL, \"dbo\": DBO})\n",
    "\n",
    "for row in g.query(q):\n",
    "    individual_countries.add(str(row[0]))\n",
    "\n",
    "q = prepareQuery(\"\"\"\n",
    "    SELECT DISTINCT ?bcountry WHERE {\n",
    "        ?laureate dbo:birthPlace ?bcountry .\n",
    "        ?bcountry a dbo:Country .\n",
    "    }\n",
    "\"\"\", initNs={\"nobel\": NOBEL, \"dbo\": DBO})\n",
    "\n",
    "for row in g.query(q):\n",
    "    individual_countries.add(str(row[0]))\n",
    "\n",
    "for country in sorted(individual_countries):\n",
    "    q = prepareQuery(f\"\"\"\n",
    "        SELECT ?country ?pred ?obj WHERE {{\n",
    "            <{country}> ?pred ?obj .\n",
    "        }}\n",
    "    \"\"\", initNs={\"nobel\": NOBEL, \"dbo\": DBO})\n",
    "\n",
    "    for row in g.query(q):\n",
    "        sub, pred, obj = row\n",
    "        database[\"countries\"][sub][pred] = obj"
   ]
  },
  {
   "cell_type": "code",
   "execution_count": 60,
   "id": "7d49579c",
   "metadata": {},
   "outputs": [],
   "source": [
    "from json.encoder import (_make_iterencode, JSONEncoder,\n",
    "                          encode_basestring_ascii, INFINITY,\n",
    "                          encode_basestring)\n",
    "\n",
    "class CustomObjectEncoder(JSONEncoder):\n",
    "\n",
    "    def iterencode(self, o, _one_shot=False):\n",
    "        \"\"\"Encode the given object and yield each string\n",
    "        representation as available.\n",
    "\n",
    "        For example::\n",
    "\n",
    "            for chunk in JSONEncoder().iterencode(bigobject):\n",
    "                mysocket.write(chunk)\n",
    "                \n",
    "        Change from json.encoder.JSONEncoder.iterencode is setting\n",
    "        _one_shot=False and isinstance=self.isinstance\n",
    "        in call to `_make_iterencode`.\n",
    "        And not using `c_make_encoder`.\n",
    "\n",
    "        \"\"\"\n",
    "        if self.check_circular:\n",
    "            markers = {}\n",
    "        else:\n",
    "            markers = None\n",
    "        if self.ensure_ascii:\n",
    "            _encoder = encode_basestring_ascii\n",
    "        else:\n",
    "            _encoder = encode_basestring\n",
    "\n",
    "        def floatstr(o, allow_nan=self.allow_nan,\n",
    "                _repr=float.__repr__, _inf=INFINITY, _neginf=-INFINITY):\n",
    "            # Check for specials.  Note that this type of test is processor\n",
    "            # and/or platform-specific, so do tests which don't depend on the\n",
    "            # internals.\n",
    "\n",
    "            if o != o:\n",
    "                text = 'NaN'\n",
    "            elif o == _inf:\n",
    "                text = 'Infinity'\n",
    "            elif o == _neginf:\n",
    "                text = '-Infinity'\n",
    "            else:\n",
    "                return _repr(o)\n",
    "\n",
    "            if not allow_nan:\n",
    "                raise ValueError(\n",
    "                    \"Out of range float values are not JSON compliant: \" +\n",
    "                    repr(o))\n",
    "\n",
    "            return text\n",
    "\n",
    "        _iterencode = _make_iterencode(\n",
    "                markers, self.default, _encoder, self.indent, floatstr,\n",
    "                self.key_separator, self.item_separator, self.sort_keys,\n",
    "                self.skipkeys, _one_shot=False, isinstance=self.isinstance)\n",
    "        return _iterencode(o, 0)"
   ]
  },
  {
   "cell_type": "code",
   "execution_count": 61,
   "id": "a83aa2e4",
   "metadata": {},
   "outputs": [],
   "source": [
    "import datetime\n",
    "\n",
    "from rdflib.term import Literal, BNode\n",
    "\n",
    "class RDFTermEncoder(CustomObjectEncoder):\n",
    "    def isinstance(self, o, cls):\n",
    "        if isinstance(o, (Literal, BNode)):\n",
    "            return False\n",
    "        return isinstance(o, cls)\n",
    "    def default(self, o):\n",
    "        if isinstance(o, Literal):\n",
    "            rv = {\"value\": o.value}\n",
    "            if o.datatype is not None:\n",
    "                rv[\"datatype\"] = o.datatype\n",
    "            if o.language is not None:\n",
    "                rv[\"lang\"] = o.language\n",
    "            return rv\n",
    "        if isinstance(o, BNode):\n",
    "            return \"http://localhost/bnode/\" + str(o)\n",
    "        if isinstance(o, datetime.datetime):\n",
    "            return o.isoformat()\n",
    "        if isinstance(o, datetime.date):\n",
    "            return str(o)\n",
    "        # Let the base class default method raise the TypeError\n",
    "        return super().default(o)"
   ]
  },
  {
   "cell_type": "code",
   "execution_count": 62,
   "id": "492ec472",
   "metadata": {},
   "outputs": [],
   "source": [
    "db = json.loads(json.dumps(database, cls=RDFTermEncoder))"
   ]
  },
  {
   "cell_type": "code",
   "execution_count": 102,
   "id": "90ab334f",
   "metadata": {},
   "outputs": [],
   "source": [
    "with open(\"data/03-document-database.json\", \"w\") as f:\n",
    "    json.dump(db, f, indent=2)"
   ]
  },
  {
   "cell_type": "code",
   "execution_count": 103,
   "id": "158407c6",
   "metadata": {},
   "outputs": [
    {
     "name": "stdout",
     "output_type": "stream",
     "text": [
      "260K\tdata/03-document-database.json.gz\r\n"
     ]
    }
   ],
   "source": [
    "!gzip -f data/03-document-database.json\n",
    "!du -h data/03-document-database.json.gz"
   ]
  },
  {
   "cell_type": "code",
   "execution_count": 104,
   "id": "7a6f1158",
   "metadata": {},
   "outputs": [],
   "source": [
    "with gzip.open(\"data/03-document-database.json.gz\") as f:\n",
    "    db = json.loads(f.read())"
   ]
  },
  {
   "cell_type": "code",
   "execution_count": 66,
   "id": "3d4e05e2",
   "metadata": {},
   "outputs": [
    {
     "name": "stdout",
     "output_type": "stream",
     "text": [
      "collection: nobel_prizes\n",
      "id: http://data.nobelprize.org/resource/nobelprize/Physiology_or_Medicine/1995\n",
      "{'http://data.nobelprize.org/terms/category': 'http://data.nobelprize.org/terms/Physiology_or_Medicine',\n",
      " 'http://data.nobelprize.org/terms/categoryOrder': {'datatype': 'http://www.w3.org/2001/XMLSchema#integer',\n",
      "                                                    'value': 3},\n",
      " 'http://data.nobelprize.org/terms/laureate': 'http://data.nobelprize.org/resource/laureate/452',\n",
      " 'http://data.nobelprize.org/terms/year': {'datatype': 'http://www.w3.org/2001/XMLSchema#integer',\n",
      "                                           'value': 1995},\n",
      " 'http://purl.org/dc/terms/hasPart': 'http://data.nobelprize.org/resource/laureateaward/Physiology_or_Medicine/1995/453',\n",
      " 'http://www.w3.org/1999/02/22-rdf-syntax-ns#type': 'http://dbpedia.org/ontology/Award',\n",
      " 'http://www.w3.org/2000/01/rdf-schema#label': {'lang': 'en',\n",
      "                                                'value': 'The Nobel Prize in '\n",
      "                                                         'Physiology or '\n",
      "                                                         'Medicine 1995'}}\n",
      "collection: nobel_prizes\n",
      "id: http://data.nobelprize.org/resource/nobelprize/Literature/1979\n",
      "{'http://data.nobelprize.org/terms/category': 'http://data.nobelprize.org/terms/Literature',\n",
      " 'http://data.nobelprize.org/terms/categoryOrder': {'datatype': 'http://www.w3.org/2001/XMLSchema#integer',\n",
      "                                                    'value': 4},\n",
      " 'http://data.nobelprize.org/terms/laureate': 'http://data.nobelprize.org/resource/laureate/655',\n",
      " 'http://data.nobelprize.org/terms/year': {'datatype': 'http://www.w3.org/2001/XMLSchema#integer',\n",
      "                                           'value': 1979},\n",
      " 'http://purl.org/dc/terms/hasPart': 'http://data.nobelprize.org/resource/laureateaward/Literature/1979/655',\n",
      " 'http://www.w3.org/1999/02/22-rdf-syntax-ns#type': 'http://dbpedia.org/ontology/Award',\n",
      " 'http://www.w3.org/2000/01/rdf-schema#label': {'lang': 'en',\n",
      "                                                'value': 'The Nobel Prize in '\n",
      "                                                         'Literature 1979'}}\n",
      "collection: nobel_prizes\n",
      "id: http://data.nobelprize.org/resource/nobelprize/Physiology_or_Medicine/1905\n",
      "{'http://data.nobelprize.org/terms/category': 'http://data.nobelprize.org/terms/Physiology_or_Medicine',\n",
      " 'http://data.nobelprize.org/terms/categoryOrder': {'datatype': 'http://www.w3.org/2001/XMLSchema#integer',\n",
      "                                                    'value': 3},\n",
      " 'http://data.nobelprize.org/terms/laureate': 'http://data.nobelprize.org/resource/laureate/297',\n",
      " 'http://data.nobelprize.org/terms/year': {'datatype': 'http://www.w3.org/2001/XMLSchema#integer',\n",
      "                                           'value': 1905},\n",
      " 'http://purl.org/dc/terms/hasPart': 'http://data.nobelprize.org/resource/laureateaward/Physiology_or_Medicine/1905/297',\n",
      " 'http://www.w3.org/1999/02/22-rdf-syntax-ns#type': 'http://dbpedia.org/ontology/Award',\n",
      " 'http://www.w3.org/2000/01/rdf-schema#label': {'lang': 'sv',\n",
      "                                                'value': 'Nobelpriset i '\n",
      "                                                         'fysiologi eller '\n",
      "                                                         'medicin 1905'}}\n",
      "collection: nobel_prizes\n",
      "id: http://data.nobelprize.org/resource/nobelprize/Physics/1929\n",
      "{'http://data.nobelprize.org/terms/category': 'http://data.nobelprize.org/terms/Physics',\n",
      " 'http://data.nobelprize.org/terms/categoryOrder': {'datatype': 'http://www.w3.org/2001/XMLSchema#integer',\n",
      "                                                    'value': 1},\n",
      " 'http://data.nobelprize.org/terms/laureate': 'http://data.nobelprize.org/resource/laureate/36',\n",
      " 'http://data.nobelprize.org/terms/year': {'datatype': 'http://www.w3.org/2001/XMLSchema#integer',\n",
      "                                           'value': 1929},\n",
      " 'http://purl.org/dc/terms/hasPart': 'http://data.nobelprize.org/resource/laureateaward/Physics/1929/36',\n",
      " 'http://www.w3.org/1999/02/22-rdf-syntax-ns#type': 'http://dbpedia.org/ontology/Award',\n",
      " 'http://www.w3.org/2000/01/rdf-schema#label': {'lang': 'en',\n",
      "                                                'value': 'The Nobel Prize in '\n",
      "                                                         'Physics 1929'}}\n",
      "collection: nobel_prizes\n",
      "id: http://data.nobelprize.org/resource/nobelprize/Literature/1963\n",
      "{'http://data.nobelprize.org/terms/category': 'http://data.nobelprize.org/terms/Literature',\n",
      " 'http://data.nobelprize.org/terms/categoryOrder': {'datatype': 'http://www.w3.org/2001/XMLSchema#integer',\n",
      "                                                    'value': 4},\n",
      " 'http://data.nobelprize.org/terms/laureate': 'http://data.nobelprize.org/resource/laureate/635',\n",
      " 'http://data.nobelprize.org/terms/year': {'datatype': 'http://www.w3.org/2001/XMLSchema#integer',\n",
      "                                           'value': 1963},\n",
      " 'http://purl.org/dc/terms/hasPart': 'http://data.nobelprize.org/resource/laureateaward/Literature/1963/635',\n",
      " 'http://www.w3.org/1999/02/22-rdf-syntax-ns#type': 'http://dbpedia.org/ontology/Award',\n",
      " 'http://www.w3.org/2000/01/rdf-schema#label': {'lang': 'en',\n",
      "                                                'value': 'The Nobel Prize in '\n",
      "                                                         'Literature 1963'}}\n",
      "collection: laureate_awards\n",
      "id: http://data.nobelprize.org/resource/laureateaward/Peace/2011/870\n",
      "{'http://data.nobelprize.org/terms/category': 'http://data.nobelprize.org/resource/category/Peace',\n",
      " 'http://data.nobelprize.org/terms/laureate': 'http://data.nobelprize.org/resource/laureate/870',\n",
      " 'http://data.nobelprize.org/terms/motivation': {'lang': 'en',\n",
      "                                                 'value': 'for their '\n",
      "                                                          'non-violent '\n",
      "                                                          'struggle for the '\n",
      "                                                          'safety of women and '\n",
      "                                                          \"for women's rights \"\n",
      "                                                          'to full '\n",
      "                                                          'participation in '\n",
      "                                                          'peace-building '\n",
      "                                                          'work'},\n",
      " 'http://data.nobelprize.org/terms/share': {'datatype': 'http://www.w3.org/2001/XMLSchema#integer',\n",
      "                                            'value': 3},\n",
      " 'http://data.nobelprize.org/terms/sortOrder': {'datatype': 'http://www.w3.org/2001/XMLSchema#integer',\n",
      "                                                'value': 2},\n",
      " 'http://data.nobelprize.org/terms/year': {'datatype': 'http://www.w3.org/2001/XMLSchema#integer',\n",
      "                                           'value': 2011},\n",
      " 'http://purl.org/dc/terms/isPartOf': 'http://data.nobelprize.org/resource/nobelprize/Peace/2011',\n",
      " 'http://www.w3.org/1999/02/22-rdf-syntax-ns#type': 'http://dbpedia.org/ontology/Award',\n",
      " 'http://www.w3.org/2000/01/rdf-schema#label': {'lang': 'no',\n",
      "                                                'value': 'Nobels fredspris '\n",
      "                                                         '2011, Leymah Gbowee'}}\n",
      "collection: laureate_awards\n",
      "id: http://data.nobelprize.org/resource/laureateaward/Physiology_or_Medicine/1969/391\n",
      "{'http://data.nobelprize.org/terms/category': 'http://data.nobelprize.org/resource/category/Physiology_or_Medicine',\n",
      " 'http://data.nobelprize.org/terms/laureate': 'http://data.nobelprize.org/resource/laureate/391',\n",
      " 'http://data.nobelprize.org/terms/motivation': {'lang': 'en',\n",
      "                                                 'value': 'for their '\n",
      "                                                          'discoveries '\n",
      "                                                          'concerning the '\n",
      "                                                          'replication '\n",
      "                                                          'mechanism and the '\n",
      "                                                          'genetic structure '\n",
      "                                                          'of viruses'},\n",
      " 'http://data.nobelprize.org/terms/share': {'datatype': 'http://www.w3.org/2001/XMLSchema#integer',\n",
      "                                            'value': 3},\n",
      " 'http://data.nobelprize.org/terms/sortOrder': {'datatype': 'http://www.w3.org/2001/XMLSchema#integer',\n",
      "                                                'value': 1},\n",
      " 'http://data.nobelprize.org/terms/university': 'http://data.nobelprize.org/resource/university/California_Institute_of_Technology_(Caltech)',\n",
      " 'http://data.nobelprize.org/terms/year': {'datatype': 'http://www.w3.org/2001/XMLSchema#integer',\n",
      "                                           'value': 1969},\n",
      " 'http://purl.org/dc/terms/isPartOf': 'http://data.nobelprize.org/resource/nobelprize/Physiology_or_Medicine/1969',\n",
      " 'http://www.w3.org/1999/02/22-rdf-syntax-ns#type': 'http://dbpedia.org/ontology/Award',\n",
      " 'http://www.w3.org/2000/01/rdf-schema#label': {'lang': 'sv',\n",
      "                                                'value': 'Nobelpriset i '\n",
      "                                                         'fysiologi eller '\n",
      "                                                         'medicin 1969, Max '\n",
      "                                                         'Delbrück'}}\n",
      "collection: laureate_awards\n",
      "id: http://data.nobelprize.org/resource/laureateaward/Literature/2017/947\n",
      "{'http://data.nobelprize.org/terms/category': 'http://data.nobelprize.org/resource/category/Literature',\n",
      " 'http://data.nobelprize.org/terms/laureate': 'http://data.nobelprize.org/resource/laureate/947',\n",
      " 'http://data.nobelprize.org/terms/motivation': {'lang': 'en',\n",
      "                                                 'value': 'who, in novels of '\n",
      "                                                          'great emotional '\n",
      "                                                          'force, has '\n",
      "                                                          'uncovered the abyss '\n",
      "                                                          'beneath our '\n",
      "                                                          'illusory sense of '\n",
      "                                                          'connection with the '\n",
      "                                                          'world'},\n",
      " 'http://data.nobelprize.org/terms/share': {'datatype': 'http://www.w3.org/2001/XMLSchema#integer',\n",
      "                                            'value': 1},\n",
      " 'http://data.nobelprize.org/terms/sortOrder': {'datatype': 'http://www.w3.org/2001/XMLSchema#integer',\n",
      "                                                'value': 1},\n",
      " 'http://data.nobelprize.org/terms/year': {'datatype': 'http://www.w3.org/2001/XMLSchema#integer',\n",
      "                                           'value': 2017},\n",
      " 'http://purl.org/dc/terms/isPartOf': 'http://data.nobelprize.org/resource/nobelprize/Literature/2017',\n",
      " 'http://www.w3.org/1999/02/22-rdf-syntax-ns#type': 'http://dbpedia.org/ontology/Award',\n",
      " 'http://www.w3.org/2000/01/rdf-schema#label': {'lang': 'en',\n",
      "                                                'value': 'The Nobel Prize in '\n",
      "                                                         'Literature 2017, '\n",
      "                                                         'Kazuo Ishiguro'}}\n",
      "collection: laureate_awards\n",
      "id: http://data.nobelprize.org/resource/laureateaward/Physics/1982/121\n",
      "{'http://data.nobelprize.org/terms/category': 'http://data.nobelprize.org/resource/category/Physics',\n",
      " 'http://data.nobelprize.org/terms/laureate': 'http://data.nobelprize.org/resource/laureate/121',\n",
      " 'http://data.nobelprize.org/terms/motivation': {'lang': 'en',\n",
      "                                                 'value': 'for his theory for '\n",
      "                                                          'critical phenomena '\n",
      "                                                          'in connection with '\n",
      "                                                          'phase transitions'},\n",
      " 'http://data.nobelprize.org/terms/share': {'datatype': 'http://www.w3.org/2001/XMLSchema#integer',\n",
      "                                            'value': 1},\n",
      " 'http://data.nobelprize.org/terms/sortOrder': {'datatype': 'http://www.w3.org/2001/XMLSchema#integer',\n",
      "                                                'value': 1},\n",
      " 'http://data.nobelprize.org/terms/university': 'http://data.nobelprize.org/resource/university/Cornell_University',\n",
      " 'http://data.nobelprize.org/terms/year': {'datatype': 'http://www.w3.org/2001/XMLSchema#integer',\n",
      "                                           'value': 1982},\n",
      " 'http://purl.org/dc/terms/isPartOf': 'http://data.nobelprize.org/resource/nobelprize/Physics/1982',\n",
      " 'http://www.w3.org/1999/02/22-rdf-syntax-ns#type': 'http://dbpedia.org/ontology/Award',\n",
      " 'http://www.w3.org/2000/01/rdf-schema#label': {'lang': 'no',\n",
      "                                                'value': 'Nobelprisen i fysikk '\n",
      "                                                         '1982, Kenneth G. '\n",
      "                                                         'Wilson'}}\n",
      "collection: laureate_awards\n",
      "id: http://data.nobelprize.org/resource/laureateaward/Physics/1914/19\n",
      "{'http://data.nobelprize.org/terms/category': 'http://data.nobelprize.org/resource/category/Physics',\n",
      " 'http://data.nobelprize.org/terms/laureate': 'http://data.nobelprize.org/resource/laureate/19',\n",
      " 'http://data.nobelprize.org/terms/motivation': {'lang': 'sv',\n",
      "                                                 'value': 'för hans upptäckt '\n",
      "                                                          'av '\n",
      "                                                          'röntgenstrålarnas '\n",
      "                                                          'diffraktion i '\n",
      "                                                          'kristaller'},\n",
      " 'http://data.nobelprize.org/terms/share': {'datatype': 'http://www.w3.org/2001/XMLSchema#integer',\n",
      "                                            'value': 1},\n",
      " 'http://data.nobelprize.org/terms/sortOrder': {'datatype': 'http://www.w3.org/2001/XMLSchema#integer',\n",
      "                                                'value': 1},\n",
      " 'http://data.nobelprize.org/terms/university': 'http://data.nobelprize.org/resource/university/Frankfurt-on-the-Main_University',\n",
      " 'http://data.nobelprize.org/terms/year': {'datatype': 'http://www.w3.org/2001/XMLSchema#integer',\n",
      "                                           'value': 1914},\n",
      " 'http://purl.org/dc/terms/isPartOf': 'http://data.nobelprize.org/resource/nobelprize/Physics/1914',\n",
      " 'http://www.w3.org/1999/02/22-rdf-syntax-ns#type': 'http://dbpedia.org/ontology/Award',\n",
      " 'http://www.w3.org/2000/01/rdf-schema#label': {'lang': 'en',\n",
      "                                                'value': 'The Nobel Prize in '\n",
      "                                                         'Physics 1914, Max '\n",
      "                                                         'von Laue'}}\n",
      "collection: laureates\n",
      "id: http://data.nobelprize.org/resource/laureate/82\n",
      "{'http://data.nobelprize.org/terms/laureateAward': 'http://data.nobelprize.org/resource/laureateaward/Physics/1964/82',\n",
      " 'http://data.nobelprize.org/terms/nobelPrize': 'http://data.nobelprize.org/resource/nobelprize/Physics/1964',\n",
      " 'http://dbpedia.org/ontology/affiliation': 'http://data.nobelprize.org/resource/university/P.N._Lebedev_Physical_Institute',\n",
      " 'http://dbpedia.org/ontology/birthPlace': 'http://data.nobelprize.org/resource/country/USSR',\n",
      " 'http://dbpedia.org/ontology/deathPlace': 'http://data.nobelprize.org/resource/country/Russia',\n",
      " 'http://dbpedia.org/property/dateOfBirth': {'datatype': 'http://www.w3.org/2001/XMLSchema#date',\n",
      "                                             'value': '1922-12-14'},\n",
      " 'http://dbpedia.org/property/dateOfDeath': {'datatype': 'http://www.w3.org/2001/XMLSchema#date',\n",
      "                                             'value': '2001-07-01'},\n",
      " 'http://www.w3.org/1999/02/22-rdf-syntax-ns#type': 'http://xmlns.com/foaf/0.1/Person',\n",
      " 'http://www.w3.org/2000/01/rdf-schema#label': {'value': 'Nicolay '\n",
      "                                                         'Gennadiyevich Basov'},\n",
      " 'http://www.w3.org/2002/07/owl#sameAs': 'http://localhost/bnode/nc9e8888454b9464b8a6b3fb8ff4edb7db958',\n",
      " 'http://xmlns.com/foaf/0.1/birthday': {'datatype': 'http://www.w3.org/2001/XMLSchema#date',\n",
      "                                        'value': '1922-12-14'},\n",
      " 'http://xmlns.com/foaf/0.1/familyName': {'value': 'Basov'},\n",
      " 'http://xmlns.com/foaf/0.1/gender': {'value': 'male'},\n",
      " 'http://xmlns.com/foaf/0.1/givenName': {'value': 'Nicolay G.'},\n",
      " 'http://xmlns.com/foaf/0.1/name': {'value': 'Nicolay G. Basov'}}\n",
      "collection: laureates\n",
      "id: http://data.nobelprize.org/resource/laureate/481\n",
      "{'http://data.nobelprize.org/terms/laureateAward': 'http://data.nobelprize.org/resource/laureateaward/Peace/1913/481',\n",
      " 'http://data.nobelprize.org/terms/nobelPrize': 'http://data.nobelprize.org/resource/nobelprize/Peace/1913',\n",
      " 'http://dbpedia.org/ontology/birthPlace': 'http://data.nobelprize.org/resource/city/Brussels',\n",
      " 'http://dbpedia.org/ontology/deathPlace': 'http://data.nobelprize.org/resource/city/Brussels',\n",
      " 'http://dbpedia.org/property/dateOfBirth': {'datatype': 'http://www.w3.org/2001/XMLSchema#date',\n",
      "                                             'value': '1854-04-22'},\n",
      " 'http://dbpedia.org/property/dateOfDeath': {'datatype': 'http://www.w3.org/2001/XMLSchema#date',\n",
      "                                             'value': '1943-05-14'},\n",
      " 'http://www.w3.org/1999/02/22-rdf-syntax-ns#type': 'http://xmlns.com/foaf/0.1/Person',\n",
      " 'http://www.w3.org/2000/01/rdf-schema#label': {'value': 'Henri La Fontaine'},\n",
      " 'http://www.w3.org/2002/07/owl#sameAs': 'http://www.wikidata.org/entity/Q190894',\n",
      " 'http://xmlns.com/foaf/0.1/birthday': {'datatype': 'http://www.w3.org/2001/XMLSchema#date',\n",
      "                                        'value': '1854-04-22'},\n",
      " 'http://xmlns.com/foaf/0.1/familyName': {'value': 'La Fontaine'},\n",
      " 'http://xmlns.com/foaf/0.1/gender': {'value': 'male'},\n",
      " 'http://xmlns.com/foaf/0.1/givenName': {'value': 'Henri'},\n",
      " 'http://xmlns.com/foaf/0.1/name': {'value': 'Henri La Fontaine'}}\n",
      "collection: laureates\n",
      "id: http://data.nobelprize.org/resource/laureate/317\n",
      "{'http://data.nobelprize.org/terms/laureateAward': 'http://data.nobelprize.org/resource/laureateaward/Physiology_or_Medicine/1927/317',\n",
      " 'http://data.nobelprize.org/terms/nobelPrize': 'http://data.nobelprize.org/resource/nobelprize/Physiology_or_Medicine/1927',\n",
      " 'http://dbpedia.org/ontology/affiliation': 'http://data.nobelprize.org/resource/university/Vienna_University',\n",
      " 'http://dbpedia.org/ontology/birthPlace': 'http://data.nobelprize.org/resource/country/Austria',\n",
      " 'http://dbpedia.org/ontology/deathPlace': 'http://data.nobelprize.org/resource/city/Vienna',\n",
      " 'http://dbpedia.org/property/dateOfBirth': {'datatype': 'http://www.w3.org/2001/XMLSchema#date',\n",
      "                                             'value': '1857-03-07'},\n",
      " 'http://dbpedia.org/property/dateOfDeath': {'datatype': 'http://www.w3.org/2001/XMLSchema#date',\n",
      "                                             'value': '1940-09-27'},\n",
      " 'http://www.w3.org/1999/02/22-rdf-syntax-ns#type': 'http://xmlns.com/foaf/0.1/Person',\n",
      " 'http://www.w3.org/2000/01/rdf-schema#label': {'value': 'Julius '\n",
      "                                                         'Wagner-Jauregg'},\n",
      " 'http://www.w3.org/2002/07/owl#sameAs': 'http://localhost/bnode/nc9e8888454b9464b8a6b3fb8ff4edb7db1878',\n",
      " 'http://xmlns.com/foaf/0.1/birthday': {'datatype': 'http://www.w3.org/2001/XMLSchema#date',\n",
      "                                        'value': '1857-03-07'},\n",
      " 'http://xmlns.com/foaf/0.1/familyName': {'value': 'Wagner-Jauregg'},\n",
      " 'http://xmlns.com/foaf/0.1/gender': {'value': 'male'},\n",
      " 'http://xmlns.com/foaf/0.1/givenName': {'value': 'Julius'},\n",
      " 'http://xmlns.com/foaf/0.1/name': {'value': 'Julius Wagner-Jauregg'}}\n",
      "collection: laureates\n",
      "id: http://data.nobelprize.org/resource/laureate/197\n",
      "{'http://data.nobelprize.org/terms/laureateAward': 'http://data.nobelprize.org/resource/laureateaward/Chemistry/1937/197',\n",
      " 'http://data.nobelprize.org/terms/nobelPrize': 'http://data.nobelprize.org/resource/nobelprize/Chemistry/1937',\n",
      " 'http://dbpedia.org/ontology/affiliation': 'http://data.nobelprize.org/resource/university/University_of_Zurich',\n",
      " 'http://dbpedia.org/ontology/birthPlace': 'http://data.nobelprize.org/resource/country/Russia',\n",
      " 'http://dbpedia.org/ontology/deathPlace': 'http://data.nobelprize.org/resource/city/Zurich',\n",
      " 'http://dbpedia.org/property/dateOfBirth': {'datatype': 'http://www.w3.org/2001/XMLSchema#date',\n",
      "                                             'value': '1889-04-21'},\n",
      " 'http://dbpedia.org/property/dateOfDeath': {'datatype': 'http://www.w3.org/2001/XMLSchema#date',\n",
      "                                             'value': '1971-06-18'},\n",
      " 'http://www.w3.org/1999/02/22-rdf-syntax-ns#type': 'http://xmlns.com/foaf/0.1/Person',\n",
      " 'http://www.w3.org/2000/01/rdf-schema#label': {'value': 'Paul Karrer'},\n",
      " 'http://www.w3.org/2002/07/owl#sameAs': 'http://localhost/bnode/nc9e8888454b9464b8a6b3fb8ff4edb7db998',\n",
      " 'http://xmlns.com/foaf/0.1/birthday': {'datatype': 'http://www.w3.org/2001/XMLSchema#date',\n",
      "                                        'value': '1889-04-21'},\n",
      " 'http://xmlns.com/foaf/0.1/familyName': {'value': 'Karrer'},\n",
      " 'http://xmlns.com/foaf/0.1/gender': {'value': 'male'},\n",
      " 'http://xmlns.com/foaf/0.1/givenName': {'value': 'Paul'},\n",
      " 'http://xmlns.com/foaf/0.1/name': {'value': 'Paul Karrer'}}\n",
      "collection: laureates\n",
      "id: http://data.nobelprize.org/resource/laureate/63\n",
      "{'http://data.nobelprize.org/terms/laureateAward': 'http://data.nobelprize.org/resource/laureateaward/Physics/1955/63',\n",
      " 'http://data.nobelprize.org/terms/nobelPrize': 'http://data.nobelprize.org/resource/nobelprize/Physics/1955',\n",
      " 'http://dbpedia.org/ontology/affiliation': 'http://data.nobelprize.org/resource/university/Stanford_University',\n",
      " 'http://dbpedia.org/ontology/birthPlace': 'http://data.nobelprize.org/resource/city/Los_Angeles%2C_CA',\n",
      " 'http://dbpedia.org/ontology/deathPlace': 'http://data.nobelprize.org/resource/city/Tucson%2C_AZ',\n",
      " 'http://dbpedia.org/property/dateOfBirth': {'datatype': 'http://www.w3.org/2001/XMLSchema#date',\n",
      "                                             'value': '1913-07-12'},\n",
      " 'http://dbpedia.org/property/dateOfDeath': {'datatype': 'http://www.w3.org/2001/XMLSchema#date',\n",
      "                                             'value': '2008-05-15'},\n",
      " 'http://www.w3.org/1999/02/22-rdf-syntax-ns#type': 'http://xmlns.com/foaf/0.1/Person',\n",
      " 'http://www.w3.org/2000/01/rdf-schema#label': {'value': 'Willis Eugene Lamb'},\n",
      " 'http://www.w3.org/2002/07/owl#sameAs': 'http://localhost/bnode/nc9e8888454b9464b8a6b3fb8ff4edb7db1430',\n",
      " 'http://xmlns.com/foaf/0.1/birthday': {'datatype': 'http://www.w3.org/2001/XMLSchema#date',\n",
      "                                        'value': '1913-07-12'},\n",
      " 'http://xmlns.com/foaf/0.1/familyName': {'value': 'Lamb'},\n",
      " 'http://xmlns.com/foaf/0.1/gender': {'value': 'male'},\n",
      " 'http://xmlns.com/foaf/0.1/givenName': {'value': 'Willis E.'},\n",
      " 'http://xmlns.com/foaf/0.1/name': {'value': 'Willis E. Lamb'}}\n",
      "collection: institutions\n",
      "id: http://data.nobelprize.org/resource/university/P.N._Lebedev_Physical_Institute\n",
      "{'http://dbpedia.org/ontology/city': 'http://data.nobelprize.org/resource/city/Moscow',\n",
      " 'http://dbpedia.org/ontology/country': 'http://data.nobelprize.org/resource/country/USSR',\n",
      " 'http://www.w3.org/1999/02/22-rdf-syntax-ns#type': 'http://dbpedia.org/ontology/University',\n",
      " 'http://www.w3.org/2000/01/rdf-schema#label': {'lang': 'no',\n",
      "                                                'value': 'P.N. Lebedev '\n",
      "                                                         'Physical Institute'}}\n",
      "collection: institutions\n",
      "id: http://data.nobelprize.org/resource/university/Stockholm_University\n",
      "{'http://dbpedia.org/ontology/city': 'http://data.nobelprize.org/resource/city/Stockholm',\n",
      " 'http://dbpedia.org/ontology/country': 'http://data.nobelprize.org/resource/country/Sweden',\n",
      " 'http://www.w3.org/1999/02/22-rdf-syntax-ns#type': 'http://dbpedia.org/ontology/University',\n",
      " 'http://www.w3.org/2000/01/rdf-schema#label': {'lang': 'en',\n",
      "                                                'value': 'Stockholm '\n",
      "                                                         'University'}}\n",
      "collection: institutions\n",
      "id: http://data.nobelprize.org/resource/university/Stanford_University\n",
      "{'http://dbpedia.org/ontology/city': 'http://data.nobelprize.org/resource/city/Stanford%2C_CA',\n",
      " 'http://dbpedia.org/ontology/country': 'http://data.nobelprize.org/resource/country/USA',\n",
      " 'http://www.w3.org/1999/02/22-rdf-syntax-ns#type': 'http://dbpedia.org/ontology/University',\n",
      " 'http://www.w3.org/2000/01/rdf-schema#label': {'lang': 'en',\n",
      "                                                'value': 'Stanford University'}}\n",
      "collection: institutions\n",
      "id: http://data.nobelprize.org/resource/university/Fred_Hutchinson_Cancer_Research_Center\n",
      "{'http://dbpedia.org/ontology/city': 'http://data.nobelprize.org/resource/city/Seattle%2C_WA',\n",
      " 'http://dbpedia.org/ontology/country': 'http://data.nobelprize.org/resource/country/USA',\n",
      " 'http://www.w3.org/1999/02/22-rdf-syntax-ns#type': 'http://dbpedia.org/ontology/University',\n",
      " 'http://www.w3.org/2000/01/rdf-schema#label': {'lang': 'sv',\n",
      "                                                'value': 'Fred Hutchinson '\n",
      "                                                         'Cancer Research '\n",
      "                                                         'Center'}}\n",
      "collection: institutions\n",
      "id: http://data.nobelprize.org/resource/university/Harvard_University\n",
      "{'http://dbpedia.org/ontology/city': 'http://data.nobelprize.org/resource/city/Cambridge%2C_MA',\n",
      " 'http://dbpedia.org/ontology/country': 'http://data.nobelprize.org/resource/country/USA',\n",
      " 'http://www.w3.org/1999/02/22-rdf-syntax-ns#type': 'http://dbpedia.org/ontology/University',\n",
      " 'http://www.w3.org/2000/01/rdf-schema#label': {'lang': 'no',\n",
      "                                                'value': 'Harvard University'}}\n",
      "collection: countries\n",
      "id: null\n",
      "{'http://www.w3.org/1999/02/22-rdf-syntax-ns#type': 'http://dbpedia.org/ontology/Country',\n",
      " 'http://www.w3.org/2000/01/rdf-schema#label': {'lang': 'no',\n",
      "                                                'value': 'Nederland'},\n",
      " 'http://www.w3.org/2002/07/owl#sameAs': 'http://www.wikidata.org/entity/Q55'}\n"
     ]
    }
   ],
   "source": [
    "from pprint import pprint\n",
    "\n",
    "for collection_name, collection in db.items():\n",
    "    for individual, document in take(5, collection.items()):\n",
    "        print(\"collection:\", collection_name)\n",
    "        print(\"id:\", individual)\n",
    "        pprint(document)"
   ]
  },
  {
   "cell_type": "markdown",
   "id": "8eda233f",
   "metadata": {},
   "source": [
    "# 5. Framing linked-data subgraphs as documents: JSON-LD"
   ]
  },
  {
   "cell_type": "code",
   "execution_count": 67,
   "id": "3ac2ce37",
   "metadata": {},
   "outputs": [],
   "source": [
    "from pyld import jsonld"
   ]
  },
  {
   "cell_type": "code",
   "execution_count": 68,
   "id": "736ddae9",
   "metadata": {},
   "outputs": [],
   "source": [
    "db_ld = json.loads(g.serialize(format='json-ld', indent=2))"
   ]
  },
  {
   "cell_type": "code",
   "execution_count": 69,
   "id": "c29cc51a",
   "metadata": {},
   "outputs": [
    {
     "data": {
      "text/plain": [
       "6041"
      ]
     },
     "execution_count": 69,
     "metadata": {},
     "output_type": "execute_result"
    }
   ],
   "source": [
    "len(db_ld)"
   ]
  },
  {
   "cell_type": "code",
   "execution_count": 70,
   "id": "68baa1b5",
   "metadata": {},
   "outputs": [
    {
     "data": {
      "text/plain": [
       "{'@id': 'http://data.nobelprize.org/resource/nobelprize/Literature/1921',\n",
       " '@type': ['http://dbpedia.org/ontology/Award',\n",
       "  'http://data.nobelprize.org/terms/NobelPrize'],\n",
       " 'http://data.nobelprize.org/terms/category': [{'@id': 'http://data.nobelprize.org/terms/Literature'}],\n",
       " 'http://data.nobelprize.org/terms/categoryOrder': [{'@value': 4}],\n",
       " 'http://data.nobelprize.org/terms/laureate': [{'@id': 'http://data.nobelprize.org/resource/laureate/590'}],\n",
       " 'http://data.nobelprize.org/terms/year': [{'@value': 1921}],\n",
       " 'http://purl.org/dc/terms/hasPart': [{'@id': 'http://data.nobelprize.org/resource/laureateaward/Literature/1921/590'}],\n",
       " 'http://www.w3.org/2000/01/rdf-schema#label': [{'@language': 'no',\n",
       "   '@value': 'Nobelprisen i litteratur 1921'},\n",
       "  {'@language': 'sv', '@value': 'Nobelpriset i litteratur 1921'},\n",
       "  {'@language': 'en', '@value': 'The Nobel Prize in Literature 1921'}]}"
      ]
     },
     "execution_count": 70,
     "metadata": {},
     "output_type": "execute_result"
    }
   ],
   "source": [
    "db_ld[0]"
   ]
  },
  {
   "cell_type": "code",
   "execution_count": 71,
   "id": "72050408",
   "metadata": {},
   "outputs": [
    {
     "data": {
      "text/plain": [
       "{'@id': 'http://data.nobelprize.org/resource/laureateaward/Physiology_or_Medicine/1964/379',\n",
       " '@type': ['http://dbpedia.org/ontology/Award',\n",
       "  'http://data.nobelprize.org/terms/LaureateAward'],\n",
       " 'http://data.nobelprize.org/terms/category': [{'@id': 'http://data.nobelprize.org/resource/category/Physiology_or_Medicine'}],\n",
       " 'http://data.nobelprize.org/terms/laureate': [{'@id': 'http://data.nobelprize.org/resource/laureate/379'}],\n",
       " 'http://data.nobelprize.org/terms/motivation': [{'@language': 'en',\n",
       "   '@value': 'for their discoveries concerning the mechanism and regulation of the cholesterol and fatty acid metabolism'},\n",
       "  {'@language': 'sv',\n",
       "   '@value': 'för deras upptäckter rörande kolesterol - och fettsyreomsättningens mekanism och reglering'}],\n",
       " 'http://data.nobelprize.org/terms/share': [{'@value': 2}],\n",
       " 'http://data.nobelprize.org/terms/sortOrder': [{'@value': 2}],\n",
       " 'http://data.nobelprize.org/terms/university': [{'@id': 'http://data.nobelprize.org/resource/university/Max-Planck-Institut_f%C3%BCr_Zellchemie'}],\n",
       " 'http://data.nobelprize.org/terms/year': [{'@value': 1964}],\n",
       " 'http://purl.org/dc/terms/isPartOf': [{'@id': 'http://data.nobelprize.org/resource/nobelprize/Physiology_or_Medicine/1964'}],\n",
       " 'http://www.w3.org/2000/01/rdf-schema#label': [{'@language': 'sv',\n",
       "   '@value': 'Nobelpriset i fysiologi eller medicin 1964, Feodor Lynen'},\n",
       "  {'@language': 'en',\n",
       "   '@value': 'The Nobel Prize in Physiology or Medicine 1964, Feodor Lynen'},\n",
       "  {'@language': 'no',\n",
       "   '@value': 'Nobelprisen i fysiologi eller medisin 1964, Feodor Lynen'}]}"
      ]
     },
     "execution_count": 71,
     "metadata": {},
     "output_type": "execute_result"
    }
   ],
   "source": [
    "db_ld[-1]"
   ]
  },
  {
   "cell_type": "code",
   "execution_count": 72,
   "id": "bd374313",
   "metadata": {},
   "outputs": [
    {
     "name": "stdout",
     "output_type": "stream",
     "text": [
      "('xml', rdflib.term.URIRef('http://www.w3.org/XML/1998/namespace'))\n",
      "('rdf', rdflib.term.URIRef('http://www.w3.org/1999/02/22-rdf-syntax-ns#'))\n",
      "('rdfs', rdflib.term.URIRef('http://www.w3.org/2000/01/rdf-schema#'))\n",
      "('xsd', rdflib.term.URIRef('http://www.w3.org/2001/XMLSchema#'))\n",
      "('laureate', rdflib.term.URIRef('http://data.nobelprize.org/resource/laureate/'))\n",
      "('country', rdflib.term.URIRef('http://data.nobelprize.org/resource/country/'))\n",
      "('city', rdflib.term.URIRef('http://data.nobelprize.org/resource/city/'))\n",
      "('university', rdflib.term.URIRef('http://data.nobelprize.org/resource/university/'))\n",
      "('dpb', rdflib.term.URIRef('http://dbpedia.org/property/'))\n",
      "('dbo', rdflib.term.URIRef('http://dbpedia.org/ontology/'))\n",
      "('nobel', rdflib.term.URIRef('http://data.nobelprize.org/terms/'))\n",
      "('foaf', rdflib.term.URIRef('http://xmlns.com/foaf/0.1/'))\n"
     ]
    }
   ],
   "source": [
    "for n in g.namespaces():\n",
    "    print(n)"
   ]
  },
  {
   "cell_type": "code",
   "execution_count": 73,
   "id": "80e9b1af",
   "metadata": {},
   "outputs": [],
   "source": [
    "context = {\n",
    "    prefix: str(uri) for prefix, uri in g.namespaces()\n",
    "}"
   ]
  },
  {
   "cell_type": "code",
   "execution_count": 74,
   "id": "192418f9",
   "metadata": {},
   "outputs": [
    {
     "data": {
      "text/plain": [
       "{'xml': 'http://www.w3.org/XML/1998/namespace',\n",
       " 'rdf': 'http://www.w3.org/1999/02/22-rdf-syntax-ns#',\n",
       " 'rdfs': 'http://www.w3.org/2000/01/rdf-schema#',\n",
       " 'xsd': 'http://www.w3.org/2001/XMLSchema#',\n",
       " 'laureate': 'http://data.nobelprize.org/resource/laureate/',\n",
       " 'country': 'http://data.nobelprize.org/resource/country/',\n",
       " 'city': 'http://data.nobelprize.org/resource/city/',\n",
       " 'university': 'http://data.nobelprize.org/resource/university/',\n",
       " 'dpb': 'http://dbpedia.org/property/',\n",
       " 'dbo': 'http://dbpedia.org/ontology/',\n",
       " 'nobel': 'http://data.nobelprize.org/terms/',\n",
       " 'foaf': 'http://xmlns.com/foaf/0.1/'}"
      ]
     },
     "execution_count": 74,
     "metadata": {},
     "output_type": "execute_result"
    }
   ],
   "source": [
    "context"
   ]
  },
  {
   "cell_type": "code",
   "execution_count": 75,
   "id": "1c1168e8",
   "metadata": {},
   "outputs": [],
   "source": [
    "context[\"category\"] = \"http://data.nobelprize.org/resource/category/\""
   ]
  },
  {
   "cell_type": "code",
   "execution_count": 76,
   "id": "6b219327",
   "metadata": {},
   "outputs": [],
   "source": [
    "compacted = jsonld.compact(db_ld, context)"
   ]
  },
  {
   "cell_type": "code",
   "execution_count": 77,
   "id": "12bbfcf3",
   "metadata": {},
   "outputs": [
    {
     "data": {
      "text/plain": [
       "dict_keys(['@context', '@graph'])"
      ]
     },
     "execution_count": 77,
     "metadata": {},
     "output_type": "execute_result"
    }
   ],
   "source": [
    "compacted.keys()"
   ]
  },
  {
   "cell_type": "code",
   "execution_count": 78,
   "id": "7d2e0535",
   "metadata": {},
   "outputs": [
    {
     "data": {
      "text/plain": [
       "4149"
      ]
     },
     "execution_count": 78,
     "metadata": {},
     "output_type": "execute_result"
    }
   ],
   "source": [
    "len(compacted[\"@graph\"])"
   ]
  },
  {
   "cell_type": "code",
   "execution_count": 79,
   "id": "d049daa9",
   "metadata": {},
   "outputs": [
    {
     "name": "stdout",
     "output_type": "stream",
     "text": [
      "{'@id': 'http://data.nobelprize.org/resource/nobelprize/Literature/1921',\n",
      " '@type': ['dbo:Award', 'nobel:NobelPrize'],\n",
      " 'http://purl.org/dc/terms/hasPart': {'@id': 'http://data.nobelprize.org/resource/laureateaward/Literature/1921/590'},\n",
      " 'nobel:category': {'@id': 'nobel:Literature'},\n",
      " 'nobel:categoryOrder': 4,\n",
      " 'nobel:laureate': {'@id': 'laureate:590'},\n",
      " 'nobel:year': 1921,\n",
      " 'rdfs:label': [{'@language': 'no', '@value': 'Nobelprisen i litteratur 1921'},\n",
      "                {'@language': 'sv', '@value': 'Nobelpriset i litteratur 1921'},\n",
      "                {'@language': 'en',\n",
      "                 '@value': 'The Nobel Prize in Literature 1921'}]}\n",
      "{'@id': 'http://data.nobelprize.org/resource/laureateaward/Peace/1971/529',\n",
      " '@type': ['nobel:LaureateAward', 'dbo:Award'],\n",
      " 'http://purl.org/dc/terms/isPartOf': {'@id': 'http://data.nobelprize.org/resource/nobelprize/Peace/1971'},\n",
      " 'nobel:category': {'@id': 'category:Peace'},\n",
      " 'nobel:laureate': {'@id': 'laureate:529'},\n",
      " 'nobel:motivation': [{'@language': 'no',\n",
      "                       '@value': 'for å ha banet vei for en meningsfylt dialog '\n",
      "                                 'mellom Øst og Vest'},\n",
      "                      {'@language': 'en',\n",
      "                       '@value': 'for paving the way for a meaningful dialogue '\n",
      "                                 'between East and West'}],\n",
      " 'nobel:share': 1,\n",
      " 'nobel:sortOrder': 1,\n",
      " 'nobel:year': 1971,\n",
      " 'rdfs:label': [{'@language': 'no',\n",
      "                 '@value': 'Nobels fredspris 1971, Willy Brandt'},\n",
      "                {'@language': 'sv',\n",
      "                 '@value': 'Nobels fredspris 1971, Willy Brandt'},\n",
      "                {'@language': 'en',\n",
      "                 '@value': 'The Nobel Peace Prize 1971, Willy Brandt'}]}\n",
      "{'@id': 'laureate:651',\n",
      " '@type': ['foaf:Person', 'nobel:Laureate'],\n",
      " 'dbo:birthPlace': [{'@id': 'country:Italy'}, {'@id': 'city:Genoa'}],\n",
      " 'dbo:deathPlace': [{'@id': 'country:Italy'}, {'@id': 'city:Milan'}],\n",
      " 'dpb:dateOfBirth': {'@type': 'xsd:date', '@value': '1896-10-12'},\n",
      " 'dpb:dateOfDeath': {'@type': 'xsd:date', '@value': '1981-09-12'},\n",
      " 'foaf:birthday': {'@type': 'xsd:date', '@value': '1896-10-12'},\n",
      " 'foaf:familyName': 'Montale',\n",
      " 'foaf:gender': 'male',\n",
      " 'foaf:givenName': 'Eugenio',\n",
      " 'foaf:name': 'Eugenio Montale',\n",
      " 'http://www.w3.org/2002/07/owl#sameAs': [{'@id': 'http://www.wikidata.org/entity/Q83174'},\n",
      "                                          {'@id': '_:nc9e8888454b9464b8a6b3fb8ff4edb7db1571'}],\n",
      " 'nobel:laureateAward': {'@id': 'http://data.nobelprize.org/resource/laureateaward/Literature/1975/651'},\n",
      " 'nobel:nobelPrize': {'@id': 'http://data.nobelprize.org/resource/nobelprize/Literature/1975'},\n",
      " 'rdfs:label': 'Eugenio Montale'}\n",
      "{'@id': 'laureate:305',\n",
      " '@type': ['foaf:Person', 'nobel:Laureate'],\n",
      " 'dbo:affiliation': {'@id': 'university:Uppsala_University'},\n",
      " 'dbo:birthPlace': [{'@id': 'country:Sweden'}, {'@id': 'city:Landskrona'}],\n",
      " 'dbo:deathPlace': [{'@id': 'city:Stockholm'}, {'@id': 'country:Sweden'}],\n",
      " 'dpb:dateOfBirth': {'@type': 'xsd:date', '@value': '1862-06-05'},\n",
      " 'dpb:dateOfDeath': {'@type': 'xsd:date', '@value': '1930-07-28'},\n",
      " 'foaf:birthday': {'@type': 'xsd:date', '@value': '1862-06-05'},\n",
      " 'foaf:familyName': 'Gullstrand',\n",
      " 'foaf:gender': 'male',\n",
      " 'foaf:givenName': 'Allvar',\n",
      " 'foaf:name': 'Allvar Gullstrand',\n",
      " 'http://www.w3.org/2002/07/owl#sameAs': [{'@id': '_:nc9e8888454b9464b8a6b3fb8ff4edb7db352'},\n",
      "                                          {'@id': 'http://www.wikidata.org/entity/Q192651'}],\n",
      " 'nobel:laureateAward': {'@id': 'http://data.nobelprize.org/resource/laureateaward/Physiology_or_Medicine/1911/305'},\n",
      " 'nobel:nobelPrize': {'@id': 'http://data.nobelprize.org/resource/nobelprize/Physiology_or_Medicine/1911'},\n",
      " 'rdfs:label': 'Allvar Gullstrand'}\n",
      "{'@id': 'university:Royal_Institution_of_Great_Britain',\n",
      " '@type': 'dbo:University',\n",
      " 'dbo:city': {'@id': 'city:London'},\n",
      " 'dbo:country': {'@id': 'country:United_Kingdom'},\n",
      " 'rdfs:label': [{'@language': 'no',\n",
      "                 '@value': 'Royal Institution of Great Britain'},\n",
      "                {'@language': 'en',\n",
      "                 '@value': 'Royal Institution of Great Britain'},\n",
      "                {'@language': 'sv',\n",
      "                 '@value': 'Royal Institution of Great Britain'}]}\n"
     ]
    }
   ],
   "source": [
    "for item in take(5, compacted[\"@graph\"]):\n",
    "    pprint(item)"
   ]
  },
  {
   "cell_type": "code",
   "execution_count": 80,
   "id": "18bc8cd7",
   "metadata": {},
   "outputs": [],
   "source": [
    "frame = {\n",
    "    \"@context\": context,\n",
    "    \"@type\": \"nobel:Laureate\",\n",
    "    \"@requireAll\": True,\n",
    "    \"@explicit\": True,\n",
    "    \"foaf:name\": {},\n",
    "    \"dbo:birthPlace\": {\n",
    "        \"@requireAll\": True,\n",
    "        \"@explicit\": True,\n",
    "        \"@embed\": \"@always\",\n",
    "        \"@type\": \"dbo:Country\",\n",
    "    },\n",
    "    \"dbo:affiliation\": {\n",
    "        \"@requireAll\": True,\n",
    "        \"@explicit\": True,\n",
    "        \"@embed\": \"@always\",\n",
    "        \"dbo:country\": {},\n",
    "    }\n",
    "}"
   ]
  },
  {
   "cell_type": "code",
   "execution_count": 81,
   "id": "caf5d352",
   "metadata": {},
   "outputs": [],
   "source": [
    "framed = jsonld.frame(compacted, frame)"
   ]
  },
  {
   "cell_type": "code",
   "execution_count": 82,
   "id": "76069e44",
   "metadata": {},
   "outputs": [
    {
     "data": {
      "text/plain": [
       "713"
      ]
     },
     "execution_count": 82,
     "metadata": {},
     "output_type": "execute_result"
    }
   ],
   "source": [
    "len(framed[\"@graph\"])"
   ]
  },
  {
   "cell_type": "code",
   "execution_count": 83,
   "id": "b598addb",
   "metadata": {},
   "outputs": [
    {
     "name": "stdout",
     "output_type": "stream",
     "text": [
      "[{'@id': 'laureate:1',\n",
      "  '@type': ['nobel:Laureate', 'foaf:Person'],\n",
      "  'dbo:affiliation': {'@id': 'university:Munich_University',\n",
      "                      '@type': 'dbo:University',\n",
      "                      'dbo:country': {'@id': 'country:Germany',\n",
      "                                      '@type': 'dbo:Country',\n",
      "                                      'http://www.w3.org/2002/07/owl#sameAs': {'@id': 'http://www.wikidata.org/entity/Q183'},\n",
      "                                      'rdfs:label': [{'@language': 'en',\n",
      "                                                      '@value': 'Germany'},\n",
      "                                                     {'@language': 'no',\n",
      "                                                      '@value': 'Tyskland'},\n",
      "                                                     {'@language': 'sv',\n",
      "                                                      '@value': 'Tyskland'}]}},\n",
      "  'dbo:birthPlace': [{'@id': 'country:Germany', '@type': 'dbo:Country'},\n",
      "                     {'@id': 'country:Prussia', '@type': 'dbo:Country'}],\n",
      "  'foaf:name': 'Wilhelm Conrad Röntgen'},\n",
      " {'@id': 'laureate:10',\n",
      "  '@type': ['foaf:Person', 'nobel:Laureate'],\n",
      "  'dbo:affiliation': {'@id': 'university:University_of_Cambridge',\n",
      "                      '@type': 'dbo:University',\n",
      "                      'dbo:country': {'@id': 'country:United_Kingdom',\n",
      "                                      '@type': 'dbo:Country',\n",
      "                                      'http://www.w3.org/2002/07/owl#sameAs': {'@id': 'http://www.wikidata.org/entity/Q145'},\n",
      "                                      'rdfs:label': [{'@language': 'en',\n",
      "                                                      '@value': 'United '\n",
      "                                                                'Kingdom'},\n",
      "                                                     {'@language': 'no',\n",
      "                                                      '@value': 'Storbritannia'},\n",
      "                                                     {'@language': 'sv',\n",
      "                                                      '@value': 'Storbritannien'}]}},\n",
      "  'dbo:birthPlace': {'@id': 'country:United_Kingdom', '@type': 'dbo:Country'},\n",
      "  'foaf:name': 'J.J. Thomson'},\n",
      " {'@id': 'laureate:100',\n",
      "  '@type': ['foaf:Person', 'nobel:Laureate'],\n",
      "  'dbo:affiliation': {'@id': 'university:University_of_Cambridge',\n",
      "                      '@type': 'dbo:University',\n",
      "                      'dbo:country': {'@id': 'country:United_Kingdom',\n",
      "                                      '@type': 'dbo:Country',\n",
      "                                      'http://www.w3.org/2002/07/owl#sameAs': {'@id': 'http://www.wikidata.org/entity/Q145'},\n",
      "                                      'rdfs:label': [{'@language': 'en',\n",
      "                                                      '@value': 'United '\n",
      "                                                                'Kingdom'},\n",
      "                                                     {'@language': 'no',\n",
      "                                                      '@value': 'Storbritannia'},\n",
      "                                                     {'@language': 'sv',\n",
      "                                                      '@value': 'Storbritannien'}]}},\n",
      "  'dbo:birthPlace': {'@id': 'country:United_Kingdom', '@type': 'dbo:Country'},\n",
      "  'foaf:name': 'Martin Ryle'},\n",
      " {'@id': 'laureate:1000',\n",
      "  '@type': ['nobel:Laureate', 'foaf:Person'],\n",
      "  'dbo:affiliation': {'@id': 'university:Max_Planck_Institute_for_Meteorology',\n",
      "                      '@type': 'dbo:University',\n",
      "                      'dbo:country': {'@id': 'country:Germany',\n",
      "                                      '@type': 'dbo:Country',\n",
      "                                      'http://www.w3.org/2002/07/owl#sameAs': {'@id': 'http://www.wikidata.org/entity/Q183'},\n",
      "                                      'rdfs:label': [{'@language': 'en',\n",
      "                                                      '@value': 'Germany'},\n",
      "                                                     {'@language': 'no',\n",
      "                                                      '@value': 'Tyskland'},\n",
      "                                                     {'@language': 'sv',\n",
      "                                                      '@value': 'Tyskland'}]}},\n",
      "  'dbo:birthPlace': {'@id': 'country:Germany', '@type': 'dbo:Country'},\n",
      "  'foaf:name': 'Klaus Hasselmann'},\n",
      " {'@id': 'laureate:1001',\n",
      "  '@type': ['nobel:Laureate', 'foaf:Person'],\n",
      "  'dbo:affiliation': {'@id': 'university:Sapienza_University_of_Rome',\n",
      "                      '@type': 'dbo:University',\n",
      "                      'dbo:country': {'@id': 'country:Italy',\n",
      "                                      '@type': 'dbo:Country',\n",
      "                                      'http://www.w3.org/2002/07/owl#sameAs': {'@id': 'http://www.wikidata.org/entity/Q38'},\n",
      "                                      'rdfs:label': [{'@language': 'en',\n",
      "                                                      '@value': 'Italy'},\n",
      "                                                     {'@language': 'sv',\n",
      "                                                      '@value': 'Italien'},\n",
      "                                                     {'@language': 'no',\n",
      "                                                      '@value': 'Italia'}]}},\n",
      "  'dbo:birthPlace': {'@id': 'country:Italy', '@type': 'dbo:Country'},\n",
      "  'foaf:name': 'Giorgio Parisi'}]\n"
     ]
    }
   ],
   "source": [
    "pprint(list(take(5, framed[\"@graph\"])))"
   ]
  },
  {
   "cell_type": "code",
   "execution_count": 105,
   "id": "b9704f74",
   "metadata": {},
   "outputs": [],
   "source": [
    "with open(\"data/04-jsonld-framed-laureates.json\", \"w\") as f:\n",
    "    json.dump(framed, f, indent=2)"
   ]
  },
  {
   "cell_type": "code",
   "execution_count": 106,
   "id": "8dc733c2",
   "metadata": {},
   "outputs": [],
   "source": [
    "!gzip -f data/04-jsonld-framed-laureates.json"
   ]
  },
  {
   "cell_type": "markdown",
   "id": "722e5c4c",
   "metadata": {},
   "source": [
    "# 6. Document collection search: MongoDB"
   ]
  },
  {
   "cell_type": "code",
   "execution_count": 86,
   "id": "fb41b407",
   "metadata": {},
   "outputs": [],
   "source": [
    "from pymongo import MongoClient\n",
    "\n",
    "client = MongoClient()"
   ]
  },
  {
   "cell_type": "code",
   "execution_count": 87,
   "id": "128f11c7",
   "metadata": {},
   "outputs": [],
   "source": [
    "mdb = client[\"nobel\"]"
   ]
  },
  {
   "cell_type": "code",
   "execution_count": 107,
   "id": "d86cfcce",
   "metadata": {},
   "outputs": [],
   "source": [
    "import gzip\n",
    "import json\n",
    "\n",
    "with gzip.open(\"data/04-jsonld-framed-laureates.json.gz\") as f:\n",
    "    framed = json.load(f)"
   ]
  },
  {
   "cell_type": "code",
   "execution_count": 89,
   "id": "08c19e82",
   "metadata": {},
   "outputs": [],
   "source": [
    "from toolz import assoc\n",
    "\n",
    "mdb.laureates.drop()\n",
    "rv = mdb.laureates.insert_many([assoc(doc, \"@context\", context) for doc in framed[\"@graph\"]])"
   ]
  },
  {
   "cell_type": "code",
   "execution_count": 90,
   "id": "2947de06",
   "metadata": {},
   "outputs": [
    {
     "data": {
      "text/plain": [
       "713"
      ]
     },
     "execution_count": 90,
     "metadata": {},
     "output_type": "execute_result"
    }
   ],
   "source": [
    "len(rv.inserted_ids)"
   ]
  },
  {
   "cell_type": "markdown",
   "id": "be1dc890",
   "metadata": {},
   "source": [
    "What fraction of laureates are affiliated with an institution in a country that is not in their country of birth?"
   ]
  },
  {
   "cell_type": "code",
   "execution_count": 91,
   "id": "aeb3d2a8",
   "metadata": {},
   "outputs": [],
   "source": [
    "def as_list(d):\n",
    "    return d if isinstance(d, list) else [d]"
   ]
  },
  {
   "cell_type": "code",
   "execution_count": 92,
   "id": "f7fd0c9a",
   "metadata": {},
   "outputs": [],
   "source": [
    "from toolz import dissoc\n",
    "\n",
    "n_affiliated_with_nonbirthcountry_institution = 0\n",
    "\n",
    "for d in mdb.laureates.find():\n",
    "    countries_affil = {c[\"@id\"] for a in as_list(d[\"dbo:affiliation\"]) for c in as_list(a[\"dbo:country\"])}\n",
    "    countries_birth = {p[\"@id\"] for p in as_list(d[\"dbo:birthPlace\"])}\n",
    "    \n",
    "    if len(countries_affil - countries_birth):\n",
    "        n_affiliated_with_nonbirthcountry_institution += 1"
   ]
  },
  {
   "cell_type": "code",
   "execution_count": 93,
   "id": "01fc7754",
   "metadata": {},
   "outputs": [
    {
     "data": {
      "text/plain": [
       "'34.8%'"
      ]
     },
     "execution_count": 93,
     "metadata": {},
     "output_type": "execute_result"
    }
   ],
   "source": [
    "as_pct(n_affiliated_with_nonbirthcountry_institution, mdb.laureates.count_documents({}))"
   ]
  },
  {
   "cell_type": "markdown",
   "id": "0475cb66",
   "metadata": {},
   "source": [
    "What fraction of laureates are affiliated exclusively with institutions that are not in their country of birth?"
   ]
  },
  {
   "cell_type": "code",
   "execution_count": 94,
   "id": "aa591c93",
   "metadata": {},
   "outputs": [],
   "source": [
    "from toolz import dissoc\n",
    "\n",
    "n_affiliated_exclusively_with_nonbirthcountry_institutions = 0\n",
    "\n",
    "for d in mdb.laureates.find():\n",
    "    countries_affil = {c[\"@id\"] for a in as_list(d[\"dbo:affiliation\"]) for c in as_list(a[\"dbo:country\"])}\n",
    "    countries_birth = {p[\"@id\"] for p in as_list(d[\"dbo:birthPlace\"])}\n",
    "    \n",
    "    if countries_affil.isdisjoint(countries_birth):\n",
    "        n_affiliated_exclusively_with_nonbirthcountry_institutions += 1"
   ]
  },
  {
   "cell_type": "code",
   "execution_count": 95,
   "id": "1f02b27c",
   "metadata": {},
   "outputs": [
    {
     "data": {
      "text/plain": [
       "'30.9%'"
      ]
     },
     "execution_count": 95,
     "metadata": {},
     "output_type": "execute_result"
    }
   ],
   "source": [
    "as_pct(n_affiliated_exclusively_with_nonbirthcountry_institutions, mdb.laureates.count_documents({}))"
   ]
  },
  {
   "cell_type": "code",
   "execution_count": 96,
   "id": "971709fd",
   "metadata": {},
   "outputs": [
    {
     "data": {
      "text/plain": [
       "[{'foaf:name': 'Aage N. Bohr'},\n",
       " {'foaf:name': 'Niels Bohr'},\n",
       " {'foaf:name': 'Jens C. Skou'},\n",
       " {'foaf:name': 'August Krogh'},\n",
       " {'foaf:name': 'Johannes Fibiger'},\n",
       " {'foaf:name': 'Henrik Dam'}]"
      ]
     },
     "execution_count": 96,
     "metadata": {},
     "output_type": "execute_result"
    }
   ],
   "source": [
    "list(mdb.laureates.find({\"dbo:birthPlace.@id\": \"country:Denmark\"}, {\"foaf:name\": 1, \"_id\": 0}))"
   ]
  },
  {
   "cell_type": "code",
   "execution_count": 97,
   "id": "839ddd88",
   "metadata": {},
   "outputs": [
    {
     "data": {
      "text/plain": [
       "[{'foaf:name': 'Aage N. Bohr'},\n",
       " {'foaf:name': 'Ben R. Mottelson'},\n",
       " {'foaf:name': 'Niels Bohr'},\n",
       " {'foaf:name': 'Jens C. Skou'},\n",
       " {'foaf:name': 'Niels Ryberg Finsen'},\n",
       " {'foaf:name': 'August Krogh'},\n",
       " {'foaf:name': 'Johannes Fibiger'},\n",
       " {'foaf:name': 'Henrik Dam'},\n",
       " {'foaf:name': 'Dale T. Mortensen'}]"
      ]
     },
     "execution_count": 97,
     "metadata": {},
     "output_type": "execute_result"
    }
   ],
   "source": [
    "list(mdb.laureates.find({\"dbo:affiliation.dbo:country.@id\": \"country:Denmark\"}, {\"foaf:name\": 1, \"_id\": 0}))"
   ]
  },
  {
   "cell_type": "code",
   "execution_count": 98,
   "id": "4734aa56",
   "metadata": {},
   "outputs": [
    {
     "data": {
      "text/plain": [
       "75"
      ]
     },
     "execution_count": 98,
     "metadata": {},
     "output_type": "execute_result"
    }
   ],
   "source": [
    "len(mdb.laureates.distinct(\"dbo:birthPlace.@id\"))"
   ]
  },
  {
   "cell_type": "code",
   "execution_count": 99,
   "id": "03c601c2",
   "metadata": {},
   "outputs": [
    {
     "data": {
      "text/plain": [
       "29"
      ]
     },
     "execution_count": 99,
     "metadata": {},
     "output_type": "execute_result"
    }
   ],
   "source": [
    "len(mdb.laureates.distinct(\"dbo:affiliation.dbo:country.@id\"))"
   ]
  },
  {
   "cell_type": "code",
   "execution_count": 108,
   "id": "e352863b",
   "metadata": {},
   "outputs": [
    {
     "name": "stdout",
     "output_type": "stream",
     "text": [
      "2021-10-17T19:32:36.077-0400\tconnected to: mongodb://localhost/\n",
      "2021-10-17T19:32:36.133-0400\texported 713 records\n"
     ]
    }
   ],
   "source": [
    "!mongoexport -d nobel -c laureates -o data/05-laureates-mongoexport.jsonl"
   ]
  },
  {
   "cell_type": "code",
   "execution_count": 109,
   "id": "ea5e1e5f",
   "metadata": {},
   "outputs": [],
   "source": [
    "!gzip -f data/05-laureates-mongoexport.jsonl"
   ]
  }
 ],
 "metadata": {
  "kernelspec": {
   "display_name": "Python (course-intro-ld-mongo)",
   "language": "python",
   "name": "course-intro-ld-mongo"
  },
  "language_info": {
   "codemirror_mode": {
    "name": "ipython",
    "version": 3
   },
   "file_extension": ".py",
   "mimetype": "text/x-python",
   "name": "python",
   "nbconvert_exporter": "python",
   "pygments_lexer": "ipython3",
   "version": "3.9.7"
  }
 },
 "nbformat": 4,
 "nbformat_minor": 5
}
